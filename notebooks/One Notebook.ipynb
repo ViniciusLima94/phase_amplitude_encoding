{
 "cells": [
  {
   "cell_type": "markdown",
   "id": "b0bf6245-6cd9-471e-9e08-d6b61235d8ee",
   "metadata": {},
   "source": [
    "### One node"
   ]
  },
  {
   "cell_type": "code",
   "execution_count": 1,
   "id": "4ee3ecd1-a138-4d01-9faa-b3dbdf7a0e1a",
   "metadata": {},
   "outputs": [],
   "source": [
    "import sys\n",
    "\n",
    "sys.path.insert(1, \"/home/INT/lima.v/projects/phase_amplitude_encoding\")"
   ]
  },
  {
   "cell_type": "code",
   "execution_count": 2,
   "id": "319d70e7-0c9d-4da6-aec0-7c5d9a6d9b70",
   "metadata": {},
   "outputs": [
    {
     "name": "stderr",
     "output_type": "stream",
     "text": [
      "/home/INT/lima.v/anaconda3/envs/test_env/lib/python3.11/site-packages/tqdm/auto.py:21: TqdmWarning: IProgress not found. Please update jupyter and ipywidgets. See https://ipywidgets.readthedocs.io/en/stable/user_install.html\n",
      "  from .autonotebook import tqdm as notebook_tqdm\n"
     ]
    }
   ],
   "source": [
    "import os\n",
    "import jax\n",
    "import matplotlib.pyplot as plt\n",
    "import numpy as np\n",
    "import xarray as xr\n",
    "from frites.core import copnorm_nd\n",
    "from hoi.core import get_mi\n",
    "from tqdm import tqdm\n",
    "\n",
    "from src.models import simulate"
   ]
  },
  {
   "cell_type": "markdown",
   "id": "c504b26d-622b-4fa8-af8c-5076395774d3",
   "metadata": {},
   "source": [
    "#### Simulation parameters"
   ]
  },
  {
   "cell_type": "code",
   "execution_count": 3,
   "id": "d486a2a8-cd54-45cc-8ac1-2cf2fc6f77b2",
   "metadata": {},
   "outputs": [],
   "source": [
    "ntrials = 50\n",
    "dt = 1e-4\n",
    "fsamp = 1 / dt\n",
    "time = np.arange(-3, 3, 1 / fsamp)\n",
    "beta = 1e-4\n",
    "Npoints = len(time)\n",
    "decim = 20\n",
    "f = 40"
   ]
  },
  {
   "cell_type": "code",
   "execution_count": 4,
   "id": "4b8160fe-474e-4ef7-af81-9d2e00d1674f",
   "metadata": {
    "scrolled": true
   },
   "outputs": [
    {
     "data": {
      "text/plain": [
       "\u001b[31mSignature:\u001b[39m\n",
       "simulate(\n",
       "    A: numpy.ndarray,\n",
       "    g: float,\n",
       "    f: float,\n",
       "    a: float,\n",
       "    fs: float,\n",
       "    eta: float,\n",
       "    T: float,\n",
       "    Iext: numpy.ndarray = \u001b[38;5;28;01mNone\u001b[39;00m,\n",
       "    seed: int = \u001b[32m0\u001b[39m,\n",
       "    device: str = \u001b[33m'cpu'\u001b[39m,\n",
       "    decim: int = \u001b[32m1\u001b[39m,\n",
       "    stim_mode: str = \u001b[33m'amp'\u001b[39m,\n",
       ")\n",
       "\u001b[31mDocstring:\u001b[39m\n",
       "Simulates a network of coupled oscillators with external stimulation.\n",
       "\n",
       "Parameters:\n",
       "----------\n",
       "A : np.ndarray\n",
       "    Adjacency matrix representing network connectivity.\n",
       "g : float\n",
       "    Coupling strength parameter.\n",
       "f : float\n",
       "    Natural frequency of oscillators.\n",
       "a : float\n",
       "    Nonlinear parameter influencing oscillator dynamics.\n",
       "fs : float\n",
       "    Sampling frequency.\n",
       "eta : float\n",
       "    Noise intensity.\n",
       "T : float\n",
       "    Total simulation time in discrete steps.\n",
       "Iext : np.ndarray, optional\n",
       "    External input to the oscillators (default is None, meaning no input).\n",
       "seed : int, optional\n",
       "    Random seed for noise generation (default is 0).\n",
       "device : str, optional\n",
       "    Computational device, either \"cpu\" or \"gpu\" (default is \"cpu\").\n",
       "decim : int, optional\n",
       "    Decimation factor for downsampling the output (default is 1, meaning no downsampling).\n",
       "stim_mode : str, optional\n",
       "    Stimulation mode, can be \"amp\" (amplitude), \"phase\", or \"both\" (default is \"amp\").\n",
       "\n",
       "Returns:\n",
       "-------\n",
       "np.ndarray\n",
       "    Array of oscillator phases over time, with shape (N, T/decim), where N is the number of nodes.\n",
       "\n",
       "Notes:\n",
       "------\n",
       "- Uses JAX for optimized computation, supporting CPU and GPU execution.\n",
       "- Implements stochastic differential equations for phase oscillator dynamics.\n",
       "\u001b[31mFile:\u001b[39m      ~/projects/phase_amplitude_encoding/src/models.py\n",
       "\u001b[31mType:\u001b[39m      function"
      ]
     },
     "metadata": {},
     "output_type": "display_data"
    }
   ],
   "source": [
    "simulate?"
   ]
  },
  {
   "cell_type": "code",
   "execution_count": 5,
   "id": "91589d26-af60-49dc-a6bf-7b6baaf34fb5",
   "metadata": {},
   "outputs": [],
   "source": [
    "                                           #  A    g     f    a   fs  eta  T    I seed dev   dec   stim\n",
    "simulate_vmap = jax.vmap(simulate, in_axes=(None, None, None, 0, None, 0, None, 0, 0, None, None, None))"
   ]
  },
  {
   "cell_type": "code",
   "execution_count": 6,
   "id": "0d7e4558-47a3-47e2-92a6-17fdc2eece24",
   "metadata": {},
   "outputs": [],
   "source": [
    "a = np.linspace(-5, 5, 50)\n",
    "beta = np.linspace(1e-5, 3, 50)\n",
    "\n",
    "pars = np.array(np.meshgrid(a, beta)).T.reshape(-1, 2)\n",
    "\n",
    "\n",
    "ntrials = pars.shape[0]\n",
    "\n",
    "seeds = np.random.randint(0, 50000, ntrials)"
   ]
  },
  {
   "cell_type": "code",
   "execution_count": 7,
   "id": "2a374a9c-463a-4999-b3d2-27e89bb2823e",
   "metadata": {},
   "outputs": [],
   "source": [
    "t_input = np.arange(0, 0.3, dt)  # Extend to 500 ms\n",
    "\n",
    "def alpha_function(t, t_peak=0.1, tau=0.05):  # Increase tau\n",
    "    \"\"\"Alpha function envelope with t_peak as an additional parameter.\"\"\"\n",
    "    envelope = (t / t_peak) * np.exp(-t / tau)\n",
    "    envelope[t < 0] = 0  # Ensure no negative time values\n",
    "    return envelope / np.max(envelope)  # Normalize\n",
    "\n",
    "envelope = alpha_function(t_input - 0.03, t_peak=5., tau=0.03)  # Increase tau\n",
    "\n",
    "freq_start = 80  # Hz\n",
    "freq_end = 1  # Hz\n",
    "freq_decay = freq_start * np.exp(-30 * t_input) + freq_end  # Slower decay\n",
    "\n",
    "phase = np.cumsum(2 * np.pi * freq_decay * dt)  # Integrate frequency to get phase\n",
    "input = np.sin(phase) * envelope  # Modulate with envelope"
   ]
  },
  {
   "cell_type": "code",
   "execution_count": 8,
   "id": "052791a7-7dc4-4bfc-bc5f-611a76f73769",
   "metadata": {},
   "outputs": [],
   "source": [
    "Iext = np.zeros((1, Npoints))\n",
    "Iext[0, (time >= 0) & (time <= 0.3)] = input\n",
    "Amplitudes = np.linspace(0, .1, ntrials)\n",
    "CS = Amplitudes[..., None, None] * Iext\n",
    "seeds = np.random.randint(0, 10000, ntrials)"
   ]
  },
  {
   "cell_type": "code",
   "execution_count": 9,
   "id": "47a9e090-47af-49b9-8ebd-002be63ed3b0",
   "metadata": {},
   "outputs": [
    {
     "data": {
      "text/plain": [
       "2500"
      ]
     },
     "execution_count": 9,
     "metadata": {},
     "output_type": "execute_result"
    }
   ],
   "source": [
    "ntrials"
   ]
  },
  {
   "cell_type": "code",
   "execution_count": 10,
   "id": "02d6497b-ce4d-4189-b8f8-b79a5c7f732f",
   "metadata": {},
   "outputs": [
    {
     "data": {
      "text/plain": [
       "(2500, 1, 60000)"
      ]
     },
     "execution_count": 10,
     "metadata": {},
     "output_type": "execute_result"
    }
   ],
   "source": [
    "CS.shape"
   ]
  },
  {
   "cell_type": "code",
   "execution_count": null,
   "id": "4b717aa5-3c72-4eb6-a528-ab61fbc1f30e",
   "metadata": {},
   "outputs": [
    {
     "name": "stderr",
     "output_type": "stream",
     "text": [
      "  3%|█▏                                       | 3/100 [03:38<1:55:45, 71.61s/it]"
     ]
    }
   ],
   "source": [
    "R1, R2 = [], []\n",
    "\n",
    "\n",
    "for i in tqdm(range(100)):\n",
    "    seeds = np.random.randint(0, 10000, ntrials)\n",
    "    \n",
    "    #  A         g  f    a                    fs      eta         T      I  seed   dev   dec   stim\n",
    "    x = simulate_vmap(np.zeros(1), 0, f, pars[:, 0][:, None], fsamp, pars[:, 1], Npoints, CS, seeds, \"cpu\", decim, \"both\")\n",
    "\n",
    "    R1 += [ (x * np.conj(x)).real ]\n",
    "    R2 += [ np.unwrap(np.angle(x)) ]"
   ]
  },
  {
   "cell_type": "code",
   "execution_count": 23,
   "id": "b33b87ab-dc67-456a-a296-937a60f1b6c6",
   "metadata": {},
   "outputs": [
    {
     "name": "stderr",
     "output_type": "stream",
     "text": [
      "  0%|                                                  | 0/2500 [00:00<?, ?it/s]\n"
     ]
    },
    {
     "ename": "AssertionError",
     "evalue": "",
     "output_type": "error",
     "traceback": [
      "\u001b[31m---------------------------------------------------------------------------\u001b[39m",
      "\u001b[31mAssertionError\u001b[39m                            Traceback (most recent call last)",
      "\u001b[36mCell\u001b[39m\u001b[36m \u001b[39m\u001b[32mIn[23]\u001b[39m\u001b[32m, line 15\u001b[39m\n\u001b[32m     11\u001b[39m stim = np.expand_dims(Amplitudes, axis=(\u001b[32m0\u001b[39m, \u001b[32m1\u001b[39m))\n\u001b[32m     12\u001b[39m \u001b[38;5;66;03m#stim = np.tile(stim, (len(x))).squeeze().T\u001b[39;00m\n\u001b[32m---> \u001b[39m\u001b[32m15\u001b[39m I_S_1 = \u001b[43mgcmi_nd_cc\u001b[49m\u001b[43m(\u001b[49m\u001b[43mstim\u001b[49m\u001b[43m,\u001b[49m\u001b[43m \u001b[49m\u001b[43mR1\u001b[49m\u001b[43m,\u001b[49m\u001b[43m \u001b[49m\u001b[43mtraxis\u001b[49m\u001b[43m=\u001b[49m\u001b[32;43m0\u001b[39;49m\u001b[43m)\u001b[49m\n\u001b[32m     16\u001b[39m I_S_2 = gcmi_nd_cc(stim, R2, traxis=\u001b[32m0\u001b[39m)\n\u001b[32m     17\u001b[39m R_12 = np.minimum(I_S_1, I_S_2)\n",
      "\u001b[36mFile \u001b[39m\u001b[32m~/anaconda3/envs/test_env/lib/python3.11/site-packages/frites/core/gcmi_nd.py:449\u001b[39m, in \u001b[36mgcmi_nd_cc\u001b[39m\u001b[34m(x, y, mvaxis, traxis, shape_checking, gcrn)\u001b[39m\n\u001b[32m    447\u001b[39m     x = nd_reshape(x, mvaxis=mvaxis, traxis=traxis)\n\u001b[32m    448\u001b[39m     y = nd_reshape(y, mvaxis=mvaxis, traxis=traxis)\n\u001b[32m--> \u001b[39m\u001b[32m449\u001b[39m     \u001b[43mnd_shape_checking\u001b[49m\u001b[43m(\u001b[49m\u001b[43mx\u001b[49m\u001b[43m,\u001b[49m\u001b[43m \u001b[49m\u001b[43my\u001b[49m\u001b[43m,\u001b[49m\u001b[43m \u001b[49m\u001b[43mmvaxis\u001b[49m\u001b[43m,\u001b[49m\u001b[43m \u001b[49m\u001b[43mtraxis\u001b[49m\u001b[43m)\u001b[49m\n\u001b[32m    451\u001b[39m \u001b[38;5;66;03m# x.shape (..., x_mvaxis, traxis)\u001b[39;00m\n\u001b[32m    452\u001b[39m \u001b[38;5;66;03m# y.shape (..., y_mvaxis, traxis)\u001b[39;00m\n\u001b[32m    453\u001b[39m \u001b[38;5;28;01mif\u001b[39;00m gcrn:\n",
      "\u001b[36mFile \u001b[39m\u001b[32m~/anaconda3/envs/test_env/lib/python3.11/site-packages/frites/core/gcmi_nd.py:59\u001b[39m, in \u001b[36mnd_shape_checking\u001b[39m\u001b[34m(x, y, mvaxis, traxis)\u001b[39m\n\u001b[32m     53\u001b[39m \u001b[38;5;28;01mdef\u001b[39;00m\u001b[38;5;250m \u001b[39m\u001b[34mnd_shape_checking\u001b[39m(x, y, mvaxis, traxis):\n\u001b[32m     54\u001b[39m \u001b[38;5;250m    \u001b[39m\u001b[33;03m\"\"\"Check that the shape between two ndarray is consitent.\u001b[39;00m\n\u001b[32m     55\u001b[39m \n\u001b[32m     56\u001b[39m \u001b[33;03m    x.shape = (nx_1, ..., n_xn, x_mvaxis, traxis)\u001b[39;00m\n\u001b[32m     57\u001b[39m \u001b[33;03m    y.shape = (nx_1, ..., n_xn, y_mvaxis, traxis)\u001b[39;00m\n\u001b[32m     58\u001b[39m \u001b[33;03m    \"\"\"\u001b[39;00m\n\u001b[32m---> \u001b[39m\u001b[32m59\u001b[39m     \u001b[38;5;28;01massert\u001b[39;00m x.ndim == y.ndim\n\u001b[32m     60\u001b[39m     dims = np.delete(np.arange(x.ndim), -\u001b[32m2\u001b[39m)\n\u001b[32m     61\u001b[39m     \u001b[38;5;28;01massert\u001b[39;00m \u001b[38;5;28mall\u001b[39m([x.shape[k] == y.shape[k] \u001b[38;5;28;01mfor\u001b[39;00m k \u001b[38;5;129;01min\u001b[39;00m dims])\n",
      "\u001b[31mAssertionError\u001b[39m: "
     ]
    }
   ],
   "source": [
    "from frites.core import copnorm_nd, gccmi_nd_ccc, gcmi_1d_cc, gcmi_nd_cc\n",
    "\n",
    "for i in tqdm(range(ntrials)):\n",
    "\n",
    "    x = out[i]\n",
    "    \n",
    "    R1 = (x * np.conj(x)).real\n",
    "    R2 = np.unwrap(np.angle(x))\n",
    "    \n",
    "    # Stims across trials\n",
    "    stim = np.expand_dims(Amplitudes, axis=(0, 1))\n",
    "    #stim = np.tile(stim, (len(x))).squeeze().T\n",
    "    \n",
    "    \n",
    "    I_S_1 = gcmi_nd_cc(stim, R1, traxis=0)\n",
    "    I_S_2 = gcmi_nd_cc(stim, R2, traxis=0)\n",
    "    R_12 = np.minimum(I_S_1, I_S_2)\n",
    "    \n",
    "    plt.plot(x.times.values, I_S_1 - R_12)\n",
    "    plt.plot(x.times.values, I_S_2 - R_12)"
   ]
  },
  {
   "cell_type": "code",
   "execution_count": 28,
   "id": "11bbaa7c-deaa-4d9f-83a2-ccb3392b1cc5",
   "metadata": {},
   "outputs": [
    {
     "data": {
      "text/plain": [
       "(2500,)"
      ]
     },
     "execution_count": 28,
     "metadata": {},
     "output_type": "execute_result"
    }
   ],
   "source": [
    "Amplitudes.shape"
   ]
  },
  {
   "cell_type": "code",
   "execution_count": 25,
   "id": "f547fcd7-84cc-4b4d-85f6-435b1c6186f4",
   "metadata": {},
   "outputs": [
    {
     "ename": "AssertionError",
     "evalue": "",
     "output_type": "error",
     "traceback": [
      "\u001b[31m---------------------------------------------------------------------------\u001b[39m",
      "\u001b[31mAssertionError\u001b[39m                            Traceback (most recent call last)",
      "\u001b[36mCell\u001b[39m\u001b[36m \u001b[39m\u001b[32mIn[25]\u001b[39m\u001b[32m, line 1\u001b[39m\n\u001b[32m----> \u001b[39m\u001b[32m1\u001b[39m \u001b[43mgcmi_nd_cc\u001b[49m\u001b[43m(\u001b[49m\u001b[43mstim\u001b[49m\u001b[43m,\u001b[49m\u001b[43m \u001b[49m\u001b[43mR1\u001b[49m\u001b[43m)\u001b[49m\n",
      "\u001b[36mFile \u001b[39m\u001b[32m~/anaconda3/envs/test_env/lib/python3.11/site-packages/frites/core/gcmi_nd.py:449\u001b[39m, in \u001b[36mgcmi_nd_cc\u001b[39m\u001b[34m(x, y, mvaxis, traxis, shape_checking, gcrn)\u001b[39m\n\u001b[32m    447\u001b[39m     x = nd_reshape(x, mvaxis=mvaxis, traxis=traxis)\n\u001b[32m    448\u001b[39m     y = nd_reshape(y, mvaxis=mvaxis, traxis=traxis)\n\u001b[32m--> \u001b[39m\u001b[32m449\u001b[39m     \u001b[43mnd_shape_checking\u001b[49m\u001b[43m(\u001b[49m\u001b[43mx\u001b[49m\u001b[43m,\u001b[49m\u001b[43m \u001b[49m\u001b[43my\u001b[49m\u001b[43m,\u001b[49m\u001b[43m \u001b[49m\u001b[43mmvaxis\u001b[49m\u001b[43m,\u001b[49m\u001b[43m \u001b[49m\u001b[43mtraxis\u001b[49m\u001b[43m)\u001b[49m\n\u001b[32m    451\u001b[39m \u001b[38;5;66;03m# x.shape (..., x_mvaxis, traxis)\u001b[39;00m\n\u001b[32m    452\u001b[39m \u001b[38;5;66;03m# y.shape (..., y_mvaxis, traxis)\u001b[39;00m\n\u001b[32m    453\u001b[39m \u001b[38;5;28;01mif\u001b[39;00m gcrn:\n",
      "\u001b[36mFile \u001b[39m\u001b[32m~/anaconda3/envs/test_env/lib/python3.11/site-packages/frites/core/gcmi_nd.py:59\u001b[39m, in \u001b[36mnd_shape_checking\u001b[39m\u001b[34m(x, y, mvaxis, traxis)\u001b[39m\n\u001b[32m     53\u001b[39m \u001b[38;5;28;01mdef\u001b[39;00m\u001b[38;5;250m \u001b[39m\u001b[34mnd_shape_checking\u001b[39m(x, y, mvaxis, traxis):\n\u001b[32m     54\u001b[39m \u001b[38;5;250m    \u001b[39m\u001b[33;03m\"\"\"Check that the shape between two ndarray is consitent.\u001b[39;00m\n\u001b[32m     55\u001b[39m \n\u001b[32m     56\u001b[39m \u001b[33;03m    x.shape = (nx_1, ..., n_xn, x_mvaxis, traxis)\u001b[39;00m\n\u001b[32m     57\u001b[39m \u001b[33;03m    y.shape = (nx_1, ..., n_xn, y_mvaxis, traxis)\u001b[39;00m\n\u001b[32m     58\u001b[39m \u001b[33;03m    \"\"\"\u001b[39;00m\n\u001b[32m---> \u001b[39m\u001b[32m59\u001b[39m     \u001b[38;5;28;01massert\u001b[39;00m x.ndim == y.ndim\n\u001b[32m     60\u001b[39m     dims = np.delete(np.arange(x.ndim), -\u001b[32m2\u001b[39m)\n\u001b[32m     61\u001b[39m     \u001b[38;5;28;01massert\u001b[39;00m \u001b[38;5;28mall\u001b[39m([x.shape[k] == y.shape[k] \u001b[38;5;28;01mfor\u001b[39;00m k \u001b[38;5;129;01min\u001b[39;00m dims])\n",
      "\u001b[31mAssertionError\u001b[39m: "
     ]
    }
   ],
   "source": [
    "gcmi_nd_cc(stim, R1)"
   ]
  }
 ],
 "metadata": {
  "kernelspec": {
   "display_name": "Python 3 (ipykernel)",
   "language": "python",
   "name": "python3"
  },
  "language_info": {
   "codemirror_mode": {
    "name": "ipython",
    "version": 3
   },
   "file_extension": ".py",
   "mimetype": "text/x-python",
   "name": "python",
   "nbconvert_exporter": "python",
   "pygments_lexer": "ipython3",
   "version": "3.11.10"
  }
 },
 "nbformat": 4,
 "nbformat_minor": 5
}
