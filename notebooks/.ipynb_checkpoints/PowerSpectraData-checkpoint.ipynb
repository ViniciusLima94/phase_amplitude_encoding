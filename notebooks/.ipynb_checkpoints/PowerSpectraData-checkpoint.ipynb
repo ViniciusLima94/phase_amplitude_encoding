{
 "cells": [
  {
   "cell_type": "markdown",
   "id": "9e18b8d4-8377-4241-a63f-9afd8f0f321a",
   "metadata": {},
   "source": [
    "### Compute power spectra for the data"
   ]
  },
  {
   "cell_type": "code",
   "execution_count": 1,
   "id": "c0ccc859-8eba-40f3-bcfe-c0b1a46b8ab4",
   "metadata": {},
   "outputs": [],
   "source": [
    "import sys\n",
    "\n",
    "sys.path.insert(1, \"/home/INT/lima.v/projects/phase_coupling_analysis\")"
   ]
  },
  {
   "cell_type": "code",
   "execution_count": 2,
   "id": "2d156f0f-5580-48f0-ad24-85504ea9bf03",
   "metadata": {},
   "outputs": [],
   "source": [
    "import argparse\n",
    "import os\n",
    "\n",
    "import numpy as np\n",
    "import xarray as xr\n",
    "from tqdm import tqdm\n",
    "\n",
    "from src.metrics.spectral import xr_psd_array_multitaper\n",
    "from src.session import session\n",
    "\n",
    "# from src.session import session\n",
    "from src.util import _extract_roi, get_dates"
   ]
  },
  {
   "cell_type": "markdown",
   "id": "38f151c3-a750-4519-9850-7db1e30e2a99",
   "metadata": {},
   "source": [
    "###############################################################################\n",
    "##### Functions\n",
    "###############################################################################"
   ]
  },
  {
   "cell_type": "code",
   "execution_count": 3,
   "id": "f495cfb4-6e86-4d1e-8300-cf89906585c6",
   "metadata": {},
   "outputs": [],
   "source": [
    "def load_session_data(root, sid, monkey, align):\n",
    "    # Instantiate class\n",
    "    ses = session(\n",
    "        raw_path=root,\n",
    "        monkey=monkey,\n",
    "        date=sid,\n",
    "        session=1,\n",
    "        slvr_msmod=False,\n",
    "        only_unique_recordings=False,\n",
    "        align_to=align,\n",
    "        evt_dt=[-0.65, 2.0],\n",
    "    )\n",
    "\n",
    "    # Read data from .mat files\n",
    "    ses.read_from_mat(verbose=False)\n",
    "\n",
    "    # Load XYZ coordinates\n",
    "    coords = np.concatenate(\n",
    "        (ses.get_xy_coords(), ses.recording_info[\"depth\"][:, None]), axis=1\n",
    "    )\n",
    "\n",
    "    # Filtering by trials\n",
    "    data_task = ses.filter_trials(trial_type=[1], behavioral_response=[1])\n",
    "    data_fixation = ses.filter_trials(trial_type=[2], behavioral_response=None)\n",
    "\n",
    "    attrs_task, attrs_fixation = data_task.attrs, data_fixation.attrs\n",
    "\n",
    "    stim = np.hstack((attrs_task[\"stim\"], attrs_fixation[\"stim\"]))\n",
    "    t_cue_on = np.hstack((attrs_task[\"t_cue_on\"], attrs_fixation[\"t_cue_on\"]))\n",
    "    t_cue_off = np.hstack((attrs_task[\"t_cue_off\"], attrs_fixation[\"t_cue_off\"]))\n",
    "    t_match_on = np.hstack((attrs_task[\"t_match_on\"], attrs_fixation[\"t_match_on\"]))\n",
    "\n",
    "    np.nan_to_num(stim, nan=6, copy=False)\n",
    "\n",
    "    data = xr.concat((data_task, data_fixation), \"trials\")\n",
    "    data.attrs = attrs_task\n",
    "    data.attrs[\"stim\"] = stim\n",
    "    data.attrs[\"t_cue_on\"] = t_cue_on\n",
    "    data.attrs[\"t_cue_off\"] = t_cue_off\n",
    "    data.attrs[\"t_match_on\"] = t_match_on\n",
    "    data.attrs[\"x\"] = coords[:, 0]\n",
    "    data.attrs[\"y\"] = coords[:, 1]\n",
    "    data.attrs[\"z\"] = coords[:, 2]\n",
    "\n",
    "    # ROIs with channels\n",
    "    rois = [\n",
    "        f\"{roi}_{channel}\" for roi, channel in zip(data.roi.data, data.channels_labels)\n",
    "    ]\n",
    "    data = data.assign_coords({\"roi\": rois})\n",
    "    # data.attrs = attrs\n",
    "    data.values *= 1e6\n",
    "\n",
    "    # return node_xr_remove_sca(data)\n",
    "    return data"
   ]
  },
  {
   "cell_type": "code",
   "execution_count": 4,
   "id": "e42e9b91-8d92-4102-b6a5-e256e3af3d64",
   "metadata": {},
   "outputs": [],
   "source": [
    "def create_epoched_data(data):\n",
    "    t_match_on = (data.attrs[\"t_match_on\"] - data.attrs[\"t_cue_on\"]) / data.fsample\n",
    "    t_match_on = np.round(t_match_on, 1)\n",
    "\n",
    "    epoch_data = []\n",
    "\n",
    "    for i in range(data.sizes[\"trials\"]):\n",
    "        stages = [\n",
    "            [-0.4, 0.0],\n",
    "            [0, 0.4],\n",
    "            [0.5, 0.9],\n",
    "            [0.9, 1.3],\n",
    "            [t_match_on[i] - 0.4, t_match_on[i]],\n",
    "        ]\n",
    "\n",
    "        temp = []\n",
    "\n",
    "        for t_i, t_f in stages:\n",
    "            temp += [data[i].sel(time=slice(t_i, t_f)).data]\n",
    "\n",
    "        epoch_data += [np.stack(temp, axis=-2)]\n",
    "\n",
    "    epoch_data = xr.DataArray(\n",
    "        np.stack(epoch_data),\n",
    "        dims=(\"trials\", \"roi\", \"epochs\", \"time\"),\n",
    "        coords={\n",
    "            \"trials\": data.trials,\n",
    "            \"roi\": data.roi,\n",
    "        },\n",
    "        attrs=data.attrs,\n",
    "    )\n",
    "\n",
    "    return epoch_data"
   ]
  },
  {
   "cell_type": "markdown",
   "id": "8f1e85b6-3c02-4288-aca4-6eae8f2f0786",
   "metadata": {},
   "source": [
    "###############################################################################\n",
    "##### Get session and monkey\n",
    "###############################################################################"
   ]
  },
  {
   "cell_type": "code",
   "execution_count": 5,
   "id": "e4c8df01-4787-40f0-b171-43fd42fc8abf",
   "metadata": {},
   "outputs": [],
   "source": [
    "align = \"cue\"\n",
    "monkey = \"lucy\"\n",
    "session_number = get_dates(monkey)[0]"
   ]
  },
  {
   "cell_type": "code",
   "execution_count": 6,
   "id": "5c655892-3d8b-4ec8-90aa-b0686b4e4eb9",
   "metadata": {},
   "outputs": [],
   "source": [
    "# Root directory\n",
    "# _ROOT = os.path.expanduser(\"/media/lima.v/1.42.6-25556/GrayLab/\")\n",
    "_ROOT = os.path.expanduser(\"/home/INT/lima.v/data/GrayLab/\")\n",
    "_SAVE = os.path.expanduser(\n",
    "    f\"/home/INT/lima.v/Results/phase_encoding/psd/{monkey}/{session_number}\"\n",
    ")\n",
    "\n",
    "if not os.path.exists(_SAVE):\n",
    "    os.makedirs(_SAVE)"
   ]
  },
  {
   "cell_type": "code",
   "execution_count": 7,
   "id": "d3df00f2-9d00-4aca-9079-2ccc7d6fc452",
   "metadata": {},
   "outputs": [],
   "source": [
    "data = load_session_data(_ROOT, session_number, monkey, align)"
   ]
  },
  {
   "cell_type": "markdown",
   "id": "15703e76-ab88-4c23-a164-613e5c2d6a42",
   "metadata": {},
   "source": [
    "###########################################################################\n",
    "##### Create epoched data\n",
    "###########################################################################"
   ]
  },
  {
   "cell_type": "code",
   "execution_count": 8,
   "id": "8b497ba3-1e3d-4666-8ff6-7d311af7d7d2",
   "metadata": {},
   "outputs": [],
   "source": [
    "epoch_data = create_epoched_data(data)"
   ]
  },
  {
   "cell_type": "markdown",
   "id": "38184b9e-a853-413d-a8a8-560ae635470d",
   "metadata": {},
   "source": [
    "###########################################################################\n",
    "##### Find peak frequency and corresponding power\n",
    "###########################################################################"
   ]
  },
  {
   "cell_type": "code",
   "execution_count": 9,
   "id": "7b3d0ce2-bbea-4770-928d-2127b420968a",
   "metadata": {},
   "outputs": [
    {
     "name": "stdout",
     "output_type": "stream",
     "text": [
      "    Using multitaper spectrum estimation with 1 DPSS windows\n",
      "    Using multitaper spectrum estimation with 1 DPSS windows\n",
      "    Using multitaper spectrum estimation with 1 DPSS windows\n",
      "    Using multitaper spectrum estimation with 1 DPSS windows\n",
      "    Using multitaper spectrum estimation with 1 DPSS windows\n"
     ]
    }
   ],
   "source": [
    "stim_labels = epoch_data.attrs[\"stim\"]\n",
    "\n",
    "sxx = []\n",
    "for i in range(epoch_data.sizes[\"epochs\"]):\n",
    "    sxx += [\n",
    "        xr_psd_array_multitaper(\n",
    "            epoch_data.sel(epochs=i),\n",
    "            n_jobs=20,\n",
    "            bandwidth=5,\n",
    "        )\n",
    "    ]\n",
    "\n",
    "sxx = xr.concat(sxx, \"epochs\")\n",
    "sxx.attrs = data.attrs"
   ]
  },
  {
   "cell_type": "markdown",
   "id": "dac803a8-3f2d-4d39-8c3d-9f21c280ff82",
   "metadata": {},
   "source": [
    "###########################################################################\n",
    "##### Save data\n",
    "###########################################################################"
   ]
  },
  {
   "cell_type": "code",
   "execution_count": 11,
   "id": "49e29ade-c5e9-46ed-bd91-5caeae79355a",
   "metadata": {},
   "outputs": [],
   "source": [
    "sxx.to_netcdf(os.path.join(_SAVE, \"sxx.nc\"))\n",
    "peak_freqs.to_netcdf(os.path.join(_SAVE, \"peak_freqs.nc\"))\n",
    "peak_power.to_netcdf(os.path.join(_SAVE, \"peak_power.nc\"))"
   ]
  },
  {
   "cell_type": "markdown",
   "id": "baaac189-0fe6-4c28-a91f-d0e8c0aa4242",
   "metadata": {},
   "source": [
    "###########################################################################\n",
    "#### All sessions\n",
    "###########################################################################"
   ]
  },
  {
   "cell_type": "code",
   "execution_count": 12,
   "id": "39e5895d-4583-4e93-8be8-68977c6a5020",
   "metadata": {},
   "outputs": [
    {
     "name": "stderr",
     "output_type": "stream",
     "text": [
      "  0%|                                                    | 0/62 [00:00<?, ?it/s]"
     ]
    },
    {
     "name": "stdout",
     "output_type": "stream",
     "text": [
      "    Using multitaper spectrum estimation with 1 DPSS windows\n",
      "    Using multitaper spectrum estimation with 1 DPSS windows\n",
      "    Using multitaper spectrum estimation with 1 DPSS windows\n",
      "    Using multitaper spectrum estimation with 1 DPSS windows\n",
      "    Using multitaper spectrum estimation with 1 DPSS windows\n"
     ]
    },
    {
     "name": "stderr",
     "output_type": "stream",
     "text": [
      "  2%|▋                                           | 1/62 [00:11<11:33, 11.37s/it]"
     ]
    },
    {
     "name": "stdout",
     "output_type": "stream",
     "text": [
      "    Using multitaper spectrum estimation with 1 DPSS windows\n",
      "    Using multitaper spectrum estimation with 1 DPSS windows\n",
      "    Using multitaper spectrum estimation with 1 DPSS windows\n",
      "    Using multitaper spectrum estimation with 1 DPSS windows\n",
      "    Using multitaper spectrum estimation with 1 DPSS windows\n"
     ]
    },
    {
     "name": "stderr",
     "output_type": "stream",
     "text": [
      "  3%|█▍                                          | 2/62 [00:20<09:47,  9.79s/it]"
     ]
    },
    {
     "name": "stdout",
     "output_type": "stream",
     "text": [
      "    Using multitaper spectrum estimation with 1 DPSS windows\n",
      "    Using multitaper spectrum estimation with 1 DPSS windows\n",
      "    Using multitaper spectrum estimation with 1 DPSS windows\n",
      "    Using multitaper spectrum estimation with 1 DPSS windows\n",
      "    Using multitaper spectrum estimation with 1 DPSS windows\n"
     ]
    },
    {
     "name": "stderr",
     "output_type": "stream",
     "text": [
      "  5%|██▏                                         | 3/62 [00:29<09:38,  9.81s/it]"
     ]
    },
    {
     "name": "stdout",
     "output_type": "stream",
     "text": [
      "    Using multitaper spectrum estimation with 1 DPSS windows\n",
      "    Using multitaper spectrum estimation with 1 DPSS windows\n",
      "    Using multitaper spectrum estimation with 1 DPSS windows\n",
      "    Using multitaper spectrum estimation with 1 DPSS windows\n",
      "    Using multitaper spectrum estimation with 1 DPSS windows\n"
     ]
    },
    {
     "name": "stderr",
     "output_type": "stream",
     "text": [
      "  6%|██▊                                         | 4/62 [00:43<10:55, 11.31s/it]"
     ]
    },
    {
     "name": "stdout",
     "output_type": "stream",
     "text": [
      "    Using multitaper spectrum estimation with 1 DPSS windows\n",
      "    Using multitaper spectrum estimation with 1 DPSS windows\n",
      "    Using multitaper spectrum estimation with 1 DPSS windows\n",
      "    Using multitaper spectrum estimation with 1 DPSS windows\n",
      "    Using multitaper spectrum estimation with 1 DPSS windows\n"
     ]
    },
    {
     "name": "stderr",
     "output_type": "stream",
     "text": [
      "  8%|███▌                                        | 5/62 [01:04<14:05, 14.83s/it]"
     ]
    },
    {
     "name": "stdout",
     "output_type": "stream",
     "text": [
      "    Using multitaper spectrum estimation with 1 DPSS windows\n",
      "    Using multitaper spectrum estimation with 1 DPSS windows\n",
      "    Using multitaper spectrum estimation with 1 DPSS windows\n",
      "    Using multitaper spectrum estimation with 1 DPSS windows\n",
      "    Using multitaper spectrum estimation with 1 DPSS windows\n"
     ]
    },
    {
     "name": "stderr",
     "output_type": "stream",
     "text": [
      " 10%|████▎                                       | 6/62 [01:24<15:24, 16.50s/it]"
     ]
    },
    {
     "name": "stdout",
     "output_type": "stream",
     "text": [
      "    Using multitaper spectrum estimation with 1 DPSS windows\n",
      "    Using multitaper spectrum estimation with 1 DPSS windows\n",
      "    Using multitaper spectrum estimation with 1 DPSS windows\n",
      "    Using multitaper spectrum estimation with 1 DPSS windows\n",
      "    Using multitaper spectrum estimation with 1 DPSS windows\n"
     ]
    },
    {
     "name": "stderr",
     "output_type": "stream",
     "text": [
      " 11%|████▉                                       | 7/62 [01:31<12:26, 13.58s/it]"
     ]
    },
    {
     "name": "stdout",
     "output_type": "stream",
     "text": [
      "    Using multitaper spectrum estimation with 1 DPSS windows\n",
      "    Using multitaper spectrum estimation with 1 DPSS windows\n",
      "    Using multitaper spectrum estimation with 1 DPSS windows\n",
      "    Using multitaper spectrum estimation with 1 DPSS windows\n",
      "    Using multitaper spectrum estimation with 1 DPSS windows\n"
     ]
    },
    {
     "name": "stderr",
     "output_type": "stream",
     "text": [
      " 13%|█████▋                                      | 8/62 [01:43<11:34, 12.85s/it]"
     ]
    },
    {
     "name": "stdout",
     "output_type": "stream",
     "text": [
      "    Using multitaper spectrum estimation with 1 DPSS windows\n",
      "    Using multitaper spectrum estimation with 1 DPSS windows\n",
      "    Using multitaper spectrum estimation with 1 DPSS windows\n",
      "    Using multitaper spectrum estimation with 1 DPSS windows\n",
      "    Using multitaper spectrum estimation with 1 DPSS windows\n"
     ]
    },
    {
     "name": "stderr",
     "output_type": "stream",
     "text": [
      " 15%|██████▍                                     | 9/62 [01:55<11:13, 12.71s/it]"
     ]
    },
    {
     "name": "stdout",
     "output_type": "stream",
     "text": [
      "    Using multitaper spectrum estimation with 1 DPSS windows\n",
      "    Using multitaper spectrum estimation with 1 DPSS windows\n",
      "    Using multitaper spectrum estimation with 1 DPSS windows\n",
      "    Using multitaper spectrum estimation with 1 DPSS windows\n",
      "    Using multitaper spectrum estimation with 1 DPSS windows\n"
     ]
    },
    {
     "name": "stderr",
     "output_type": "stream",
     "text": [
      " 16%|██████▉                                    | 10/62 [02:10<11:37, 13.42s/it]"
     ]
    },
    {
     "name": "stdout",
     "output_type": "stream",
     "text": [
      "    Using multitaper spectrum estimation with 1 DPSS windows\n",
      "    Using multitaper spectrum estimation with 1 DPSS windows\n",
      "    Using multitaper spectrum estimation with 1 DPSS windows\n",
      "    Using multitaper spectrum estimation with 1 DPSS windows\n",
      "    Using multitaper spectrum estimation with 1 DPSS windows\n"
     ]
    },
    {
     "name": "stderr",
     "output_type": "stream",
     "text": [
      " 18%|███████▋                                   | 11/62 [02:17<09:37, 11.32s/it]"
     ]
    },
    {
     "name": "stdout",
     "output_type": "stream",
     "text": [
      "    Using multitaper spectrum estimation with 1 DPSS windows\n",
      "    Using multitaper spectrum estimation with 1 DPSS windows\n",
      "    Using multitaper spectrum estimation with 1 DPSS windows\n",
      "    Using multitaper spectrum estimation with 1 DPSS windows\n",
      "    Using multitaper spectrum estimation with 1 DPSS windows\n"
     ]
    },
    {
     "name": "stderr",
     "output_type": "stream",
     "text": [
      " 19%|████████▎                                  | 12/62 [02:28<09:19, 11.20s/it]"
     ]
    },
    {
     "name": "stdout",
     "output_type": "stream",
     "text": [
      "    Using multitaper spectrum estimation with 1 DPSS windows\n",
      "    Using multitaper spectrum estimation with 1 DPSS windows\n",
      "    Using multitaper spectrum estimation with 1 DPSS windows\n",
      "    Using multitaper spectrum estimation with 1 DPSS windows\n",
      "    Using multitaper spectrum estimation with 1 DPSS windows\n"
     ]
    },
    {
     "name": "stderr",
     "output_type": "stream",
     "text": [
      " 21%|█████████                                  | 13/62 [02:38<08:57, 10.96s/it]"
     ]
    },
    {
     "name": "stdout",
     "output_type": "stream",
     "text": [
      "    Using multitaper spectrum estimation with 1 DPSS windows\n",
      "    Using multitaper spectrum estimation with 1 DPSS windows\n",
      "    Using multitaper spectrum estimation with 1 DPSS windows\n",
      "    Using multitaper spectrum estimation with 1 DPSS windows\n",
      "    Using multitaper spectrum estimation with 1 DPSS windows\n"
     ]
    },
    {
     "name": "stderr",
     "output_type": "stream",
     "text": [
      " 23%|█████████▋                                 | 14/62 [02:46<08:01, 10.03s/it]"
     ]
    },
    {
     "name": "stdout",
     "output_type": "stream",
     "text": [
      "    Using multitaper spectrum estimation with 1 DPSS windows\n",
      "    Using multitaper spectrum estimation with 1 DPSS windows\n",
      "    Using multitaper spectrum estimation with 1 DPSS windows\n",
      "    Using multitaper spectrum estimation with 1 DPSS windows\n",
      "    Using multitaper spectrum estimation with 1 DPSS windows\n"
     ]
    },
    {
     "name": "stderr",
     "output_type": "stream",
     "text": [
      " 24%|██████████▍                                | 15/62 [02:57<08:08, 10.40s/it]"
     ]
    },
    {
     "name": "stdout",
     "output_type": "stream",
     "text": [
      "    Using multitaper spectrum estimation with 1 DPSS windows\n",
      "    Using multitaper spectrum estimation with 1 DPSS windows\n",
      "    Using multitaper spectrum estimation with 1 DPSS windows\n",
      "    Using multitaper spectrum estimation with 1 DPSS windows\n",
      "    Using multitaper spectrum estimation with 1 DPSS windows\n"
     ]
    },
    {
     "name": "stderr",
     "output_type": "stream",
     "text": [
      " 26%|███████████                                | 16/62 [03:08<08:05, 10.55s/it]"
     ]
    },
    {
     "name": "stdout",
     "output_type": "stream",
     "text": [
      "    Using multitaper spectrum estimation with 1 DPSS windows\n",
      "    Using multitaper spectrum estimation with 1 DPSS windows\n",
      "    Using multitaper spectrum estimation with 1 DPSS windows\n",
      "    Using multitaper spectrum estimation with 1 DPSS windows\n",
      "    Using multitaper spectrum estimation with 1 DPSS windows\n"
     ]
    },
    {
     "name": "stderr",
     "output_type": "stream",
     "text": [
      " 27%|███████████▊                               | 17/62 [03:19<08:00, 10.68s/it]"
     ]
    },
    {
     "name": "stdout",
     "output_type": "stream",
     "text": [
      "    Using multitaper spectrum estimation with 1 DPSS windows\n",
      "    Using multitaper spectrum estimation with 1 DPSS windows\n",
      "    Using multitaper spectrum estimation with 1 DPSS windows\n",
      "    Using multitaper spectrum estimation with 1 DPSS windows\n",
      "    Using multitaper spectrum estimation with 1 DPSS windows\n"
     ]
    },
    {
     "name": "stderr",
     "output_type": "stream",
     "text": [
      " 29%|████████████▍                              | 18/62 [03:30<07:52, 10.73s/it]"
     ]
    },
    {
     "name": "stdout",
     "output_type": "stream",
     "text": [
      "    Using multitaper spectrum estimation with 1 DPSS windows\n",
      "    Using multitaper spectrum estimation with 1 DPSS windows\n",
      "    Using multitaper spectrum estimation with 1 DPSS windows\n",
      "    Using multitaper spectrum estimation with 1 DPSS windows\n",
      "    Using multitaper spectrum estimation with 1 DPSS windows\n"
     ]
    },
    {
     "name": "stderr",
     "output_type": "stream",
     "text": [
      " 31%|█████████████▏                             | 19/62 [03:41<07:42, 10.76s/it]"
     ]
    },
    {
     "name": "stdout",
     "output_type": "stream",
     "text": [
      "    Using multitaper spectrum estimation with 1 DPSS windows\n",
      "    Using multitaper spectrum estimation with 1 DPSS windows\n",
      "    Using multitaper spectrum estimation with 1 DPSS windows\n",
      "    Using multitaper spectrum estimation with 1 DPSS windows\n",
      "    Using multitaper spectrum estimation with 1 DPSS windows\n"
     ]
    },
    {
     "name": "stderr",
     "output_type": "stream",
     "text": [
      " 32%|█████████████▊                             | 20/62 [03:55<08:22, 11.97s/it]"
     ]
    },
    {
     "name": "stdout",
     "output_type": "stream",
     "text": [
      "    Using multitaper spectrum estimation with 1 DPSS windows\n",
      "    Using multitaper spectrum estimation with 1 DPSS windows\n",
      "    Using multitaper spectrum estimation with 1 DPSS windows\n",
      "    Using multitaper spectrum estimation with 1 DPSS windows\n",
      "    Using multitaper spectrum estimation with 1 DPSS windows\n"
     ]
    },
    {
     "name": "stderr",
     "output_type": "stream",
     "text": [
      " 34%|██████████████▌                            | 21/62 [04:06<07:47, 11.40s/it]"
     ]
    },
    {
     "name": "stdout",
     "output_type": "stream",
     "text": [
      "    Using multitaper spectrum estimation with 1 DPSS windows\n",
      "    Using multitaper spectrum estimation with 1 DPSS windows\n",
      "    Using multitaper spectrum estimation with 1 DPSS windows\n",
      "    Using multitaper spectrum estimation with 1 DPSS windows\n",
      "    Using multitaper spectrum estimation with 1 DPSS windows\n"
     ]
    },
    {
     "name": "stderr",
     "output_type": "stream",
     "text": [
      " 35%|███████████████▎                           | 22/62 [04:16<07:21, 11.04s/it]"
     ]
    },
    {
     "name": "stdout",
     "output_type": "stream",
     "text": [
      "    Using multitaper spectrum estimation with 1 DPSS windows\n",
      "    Using multitaper spectrum estimation with 1 DPSS windows\n",
      "    Using multitaper spectrum estimation with 1 DPSS windows\n",
      "    Using multitaper spectrum estimation with 1 DPSS windows\n",
      "    Using multitaper spectrum estimation with 1 DPSS windows\n"
     ]
    },
    {
     "name": "stderr",
     "output_type": "stream",
     "text": [
      " 37%|███████████████▉                           | 23/62 [04:29<07:38, 11.76s/it]"
     ]
    },
    {
     "name": "stdout",
     "output_type": "stream",
     "text": [
      "    Using multitaper spectrum estimation with 1 DPSS windows\n",
      "    Using multitaper spectrum estimation with 1 DPSS windows\n",
      "    Using multitaper spectrum estimation with 1 DPSS windows\n",
      "    Using multitaper spectrum estimation with 1 DPSS windows\n",
      "    Using multitaper spectrum estimation with 1 DPSS windows\n"
     ]
    },
    {
     "name": "stderr",
     "output_type": "stream",
     "text": [
      " 39%|████████████████▋                          | 24/62 [04:46<08:19, 13.15s/it]"
     ]
    },
    {
     "name": "stdout",
     "output_type": "stream",
     "text": [
      "    Using multitaper spectrum estimation with 1 DPSS windows\n",
      "    Using multitaper spectrum estimation with 1 DPSS windows\n",
      "    Using multitaper spectrum estimation with 1 DPSS windows\n",
      "    Using multitaper spectrum estimation with 1 DPSS windows\n",
      "    Using multitaper spectrum estimation with 1 DPSS windows\n"
     ]
    },
    {
     "name": "stderr",
     "output_type": "stream",
     "text": [
      " 40%|█████████████████▎                         | 25/62 [05:00<08:25, 13.67s/it]"
     ]
    },
    {
     "name": "stdout",
     "output_type": "stream",
     "text": [
      "    Using multitaper spectrum estimation with 1 DPSS windows\n",
      "    Using multitaper spectrum estimation with 1 DPSS windows\n",
      "    Using multitaper spectrum estimation with 1 DPSS windows\n",
      "    Using multitaper spectrum estimation with 1 DPSS windows\n",
      "    Using multitaper spectrum estimation with 1 DPSS windows\n"
     ]
    },
    {
     "name": "stderr",
     "output_type": "stream",
     "text": [
      " 42%|██████████████████                         | 26/62 [05:11<07:42, 12.85s/it]"
     ]
    },
    {
     "name": "stdout",
     "output_type": "stream",
     "text": [
      "    Using multitaper spectrum estimation with 1 DPSS windows\n",
      "    Using multitaper spectrum estimation with 1 DPSS windows\n",
      "    Using multitaper spectrum estimation with 1 DPSS windows\n",
      "    Using multitaper spectrum estimation with 1 DPSS windows\n",
      "    Using multitaper spectrum estimation with 1 DPSS windows\n"
     ]
    },
    {
     "name": "stderr",
     "output_type": "stream",
     "text": [
      " 44%|██████████████████▋                        | 27/62 [05:21<06:51, 11.75s/it]"
     ]
    },
    {
     "name": "stdout",
     "output_type": "stream",
     "text": [
      "    Using multitaper spectrum estimation with 1 DPSS windows\n",
      "    Using multitaper spectrum estimation with 1 DPSS windows\n",
      "    Using multitaper spectrum estimation with 1 DPSS windows\n",
      "    Using multitaper spectrum estimation with 1 DPSS windows\n",
      "    Using multitaper spectrum estimation with 1 DPSS windows\n"
     ]
    },
    {
     "name": "stderr",
     "output_type": "stream",
     "text": [
      " 45%|███████████████████▍                       | 28/62 [05:30<06:12, 10.96s/it]"
     ]
    },
    {
     "name": "stdout",
     "output_type": "stream",
     "text": [
      "    Using multitaper spectrum estimation with 1 DPSS windows\n",
      "    Using multitaper spectrum estimation with 1 DPSS windows\n",
      "    Using multitaper spectrum estimation with 1 DPSS windows\n",
      "    Using multitaper spectrum estimation with 1 DPSS windows\n",
      "    Using multitaper spectrum estimation with 1 DPSS windows\n"
     ]
    },
    {
     "name": "stderr",
     "output_type": "stream",
     "text": [
      " 47%|████████████████████                       | 29/62 [05:45<06:41, 12.17s/it]"
     ]
    },
    {
     "name": "stdout",
     "output_type": "stream",
     "text": [
      "    Using multitaper spectrum estimation with 1 DPSS windows\n",
      "    Using multitaper spectrum estimation with 1 DPSS windows\n",
      "    Using multitaper spectrum estimation with 1 DPSS windows\n",
      "    Using multitaper spectrum estimation with 1 DPSS windows\n",
      "    Using multitaper spectrum estimation with 1 DPSS windows\n"
     ]
    },
    {
     "name": "stderr",
     "output_type": "stream",
     "text": [
      " 48%|████████████████████▊                      | 30/62 [05:52<05:44, 10.78s/it]"
     ]
    },
    {
     "name": "stdout",
     "output_type": "stream",
     "text": [
      "    Using multitaper spectrum estimation with 1 DPSS windows\n",
      "    Using multitaper spectrum estimation with 1 DPSS windows\n",
      "    Using multitaper spectrum estimation with 1 DPSS windows\n",
      "    Using multitaper spectrum estimation with 1 DPSS windows\n",
      "    Using multitaper spectrum estimation with 1 DPSS windows\n"
     ]
    },
    {
     "name": "stderr",
     "output_type": "stream",
     "text": [
      " 50%|█████████████████████▌                     | 31/62 [06:05<05:50, 11.32s/it]"
     ]
    },
    {
     "name": "stdout",
     "output_type": "stream",
     "text": [
      "    Using multitaper spectrum estimation with 1 DPSS windows\n",
      "    Using multitaper spectrum estimation with 1 DPSS windows\n",
      "    Using multitaper spectrum estimation with 1 DPSS windows\n",
      "    Using multitaper spectrum estimation with 1 DPSS windows\n",
      "    Using multitaper spectrum estimation with 1 DPSS windows\n"
     ]
    },
    {
     "name": "stderr",
     "output_type": "stream",
     "text": [
      " 52%|██████████████████████▏                    | 32/62 [06:15<05:32, 11.08s/it]"
     ]
    },
    {
     "name": "stdout",
     "output_type": "stream",
     "text": [
      "    Using multitaper spectrum estimation with 1 DPSS windows\n",
      "    Using multitaper spectrum estimation with 1 DPSS windows\n",
      "    Using multitaper spectrum estimation with 1 DPSS windows\n",
      "    Using multitaper spectrum estimation with 1 DPSS windows\n",
      "    Using multitaper spectrum estimation with 1 DPSS windows\n"
     ]
    },
    {
     "name": "stderr",
     "output_type": "stream",
     "text": [
      " 53%|██████████████████████▉                    | 33/62 [06:26<05:18, 10.99s/it]"
     ]
    },
    {
     "name": "stdout",
     "output_type": "stream",
     "text": [
      "    Using multitaper spectrum estimation with 1 DPSS windows\n",
      "    Using multitaper spectrum estimation with 1 DPSS windows\n",
      "    Using multitaper spectrum estimation with 1 DPSS windows\n",
      "    Using multitaper spectrum estimation with 1 DPSS windows\n",
      "    Using multitaper spectrum estimation with 1 DPSS windows\n"
     ]
    },
    {
     "name": "stderr",
     "output_type": "stream",
     "text": [
      " 55%|███████████████████████▌                   | 34/62 [06:35<04:53, 10.48s/it]"
     ]
    },
    {
     "name": "stdout",
     "output_type": "stream",
     "text": [
      "    Using multitaper spectrum estimation with 1 DPSS windows\n",
      "    Using multitaper spectrum estimation with 1 DPSS windows\n",
      "    Using multitaper spectrum estimation with 1 DPSS windows\n",
      "    Using multitaper spectrum estimation with 1 DPSS windows\n",
      "    Using multitaper spectrum estimation with 1 DPSS windows\n"
     ]
    },
    {
     "name": "stderr",
     "output_type": "stream",
     "text": [
      " 56%|████████████████████████▎                  | 35/62 [06:44<04:30, 10.03s/it]"
     ]
    },
    {
     "name": "stdout",
     "output_type": "stream",
     "text": [
      "    Using multitaper spectrum estimation with 1 DPSS windows\n",
      "    Using multitaper spectrum estimation with 1 DPSS windows\n",
      "    Using multitaper spectrum estimation with 1 DPSS windows\n",
      "    Using multitaper spectrum estimation with 1 DPSS windows\n",
      "    Using multitaper spectrum estimation with 1 DPSS windows\n"
     ]
    },
    {
     "name": "stderr",
     "output_type": "stream",
     "text": [
      " 58%|████████████████████████▉                  | 36/62 [06:57<04:43, 10.90s/it]"
     ]
    },
    {
     "name": "stdout",
     "output_type": "stream",
     "text": [
      "    Using multitaper spectrum estimation with 1 DPSS windows\n",
      "    Using multitaper spectrum estimation with 1 DPSS windows\n",
      "    Using multitaper spectrum estimation with 1 DPSS windows\n",
      "    Using multitaper spectrum estimation with 1 DPSS windows\n",
      "    Using multitaper spectrum estimation with 1 DPSS windows\n"
     ]
    },
    {
     "name": "stderr",
     "output_type": "stream",
     "text": [
      " 60%|█████████████████████████▋                 | 37/62 [07:11<04:53, 11.74s/it]"
     ]
    },
    {
     "name": "stdout",
     "output_type": "stream",
     "text": [
      "    Using multitaper spectrum estimation with 1 DPSS windows\n",
      "    Using multitaper spectrum estimation with 1 DPSS windows\n",
      "    Using multitaper spectrum estimation with 1 DPSS windows\n",
      "    Using multitaper spectrum estimation with 1 DPSS windows\n",
      "    Using multitaper spectrum estimation with 1 DPSS windows\n"
     ]
    },
    {
     "name": "stderr",
     "output_type": "stream",
     "text": [
      " 61%|██████████████████████████▎                | 38/62 [07:22<04:36, 11.50s/it]"
     ]
    },
    {
     "name": "stdout",
     "output_type": "stream",
     "text": [
      "    Using multitaper spectrum estimation with 1 DPSS windows\n",
      "    Using multitaper spectrum estimation with 1 DPSS windows\n",
      "    Using multitaper spectrum estimation with 1 DPSS windows\n",
      "    Using multitaper spectrum estimation with 1 DPSS windows\n",
      "    Using multitaper spectrum estimation with 1 DPSS windows\n"
     ]
    },
    {
     "name": "stderr",
     "output_type": "stream",
     "text": [
      " 63%|███████████████████████████                | 39/62 [07:34<04:31, 11.79s/it]"
     ]
    },
    {
     "name": "stdout",
     "output_type": "stream",
     "text": [
      "    Using multitaper spectrum estimation with 1 DPSS windows\n",
      "    Using multitaper spectrum estimation with 1 DPSS windows\n",
      "    Using multitaper spectrum estimation with 1 DPSS windows\n",
      "    Using multitaper spectrum estimation with 1 DPSS windows\n",
      "    Using multitaper spectrum estimation with 1 DPSS windows\n"
     ]
    },
    {
     "name": "stderr",
     "output_type": "stream",
     "text": [
      " 65%|███████████████████████████▋               | 40/62 [07:50<04:44, 12.92s/it]"
     ]
    },
    {
     "name": "stdout",
     "output_type": "stream",
     "text": [
      "    Using multitaper spectrum estimation with 1 DPSS windows\n",
      "    Using multitaper spectrum estimation with 1 DPSS windows\n",
      "    Using multitaper spectrum estimation with 1 DPSS windows\n",
      "    Using multitaper spectrum estimation with 1 DPSS windows\n",
      "    Using multitaper spectrum estimation with 1 DPSS windows\n"
     ]
    },
    {
     "name": "stderr",
     "output_type": "stream",
     "text": [
      " 66%|████████████████████████████▍              | 41/62 [08:01<04:17, 12.24s/it]"
     ]
    },
    {
     "name": "stdout",
     "output_type": "stream",
     "text": [
      "    Using multitaper spectrum estimation with 1 DPSS windows\n",
      "    Using multitaper spectrum estimation with 1 DPSS windows\n",
      "    Using multitaper spectrum estimation with 1 DPSS windows\n",
      "    Using multitaper spectrum estimation with 1 DPSS windows\n",
      "    Using multitaper spectrum estimation with 1 DPSS windows\n"
     ]
    },
    {
     "name": "stderr",
     "output_type": "stream",
     "text": [
      " 68%|█████████████████████████████▏             | 42/62 [08:15<04:18, 12.93s/it]"
     ]
    },
    {
     "name": "stdout",
     "output_type": "stream",
     "text": [
      "    Using multitaper spectrum estimation with 1 DPSS windows\n",
      "    Using multitaper spectrum estimation with 1 DPSS windows\n",
      "    Using multitaper spectrum estimation with 1 DPSS windows\n",
      "    Using multitaper spectrum estimation with 1 DPSS windows\n",
      "    Using multitaper spectrum estimation with 1 DPSS windows\n"
     ]
    },
    {
     "name": "stderr",
     "output_type": "stream",
     "text": [
      " 69%|█████████████████████████████▊             | 43/62 [08:30<04:16, 13.50s/it]"
     ]
    },
    {
     "name": "stdout",
     "output_type": "stream",
     "text": [
      "    Using multitaper spectrum estimation with 1 DPSS windows\n",
      "    Using multitaper spectrum estimation with 1 DPSS windows\n",
      "    Using multitaper spectrum estimation with 1 DPSS windows\n",
      "    Using multitaper spectrum estimation with 1 DPSS windows\n",
      "    Using multitaper spectrum estimation with 1 DPSS windows\n"
     ]
    },
    {
     "name": "stderr",
     "output_type": "stream",
     "text": [
      " 71%|██████████████████████████████▌            | 44/62 [08:47<04:23, 14.66s/it]"
     ]
    },
    {
     "name": "stdout",
     "output_type": "stream",
     "text": [
      "    Using multitaper spectrum estimation with 1 DPSS windows\n",
      "    Using multitaper spectrum estimation with 1 DPSS windows\n",
      "    Using multitaper spectrum estimation with 1 DPSS windows\n",
      "    Using multitaper spectrum estimation with 1 DPSS windows\n",
      "    Using multitaper spectrum estimation with 1 DPSS windows\n"
     ]
    },
    {
     "name": "stderr",
     "output_type": "stream",
     "text": [
      " 73%|███████████████████████████████▏           | 45/62 [08:55<03:32, 12.51s/it]"
     ]
    },
    {
     "name": "stdout",
     "output_type": "stream",
     "text": [
      "    Using multitaper spectrum estimation with 1 DPSS windows\n",
      "    Using multitaper spectrum estimation with 1 DPSS windows\n",
      "    Using multitaper spectrum estimation with 1 DPSS windows\n",
      "    Using multitaper spectrum estimation with 1 DPSS windows\n",
      "    Using multitaper spectrum estimation with 1 DPSS windows\n"
     ]
    },
    {
     "name": "stderr",
     "output_type": "stream",
     "text": [
      " 74%|███████████████████████████████▉           | 46/62 [09:12<03:42, 13.89s/it]"
     ]
    },
    {
     "name": "stdout",
     "output_type": "stream",
     "text": [
      "    Using multitaper spectrum estimation with 1 DPSS windows\n",
      "    Using multitaper spectrum estimation with 1 DPSS windows\n",
      "    Using multitaper spectrum estimation with 1 DPSS windows\n",
      "    Using multitaper spectrum estimation with 1 DPSS windows\n",
      "    Using multitaper spectrum estimation with 1 DPSS windows\n"
     ]
    },
    {
     "name": "stderr",
     "output_type": "stream",
     "text": [
      " 76%|████████████████████████████████▌          | 47/62 [09:25<03:22, 13.51s/it]"
     ]
    },
    {
     "name": "stdout",
     "output_type": "stream",
     "text": [
      "    Using multitaper spectrum estimation with 1 DPSS windows\n",
      "    Using multitaper spectrum estimation with 1 DPSS windows\n",
      "    Using multitaper spectrum estimation with 1 DPSS windows\n",
      "    Using multitaper spectrum estimation with 1 DPSS windows\n",
      "    Using multitaper spectrum estimation with 1 DPSS windows\n"
     ]
    },
    {
     "name": "stderr",
     "output_type": "stream",
     "text": [
      " 77%|█████████████████████████████████▎         | 48/62 [09:38<03:10, 13.62s/it]"
     ]
    },
    {
     "name": "stdout",
     "output_type": "stream",
     "text": [
      "    Using multitaper spectrum estimation with 1 DPSS windows\n",
      "    Using multitaper spectrum estimation with 1 DPSS windows\n",
      "    Using multitaper spectrum estimation with 1 DPSS windows\n",
      "    Using multitaper spectrum estimation with 1 DPSS windows\n",
      "    Using multitaper spectrum estimation with 1 DPSS windows\n"
     ]
    },
    {
     "name": "stderr",
     "output_type": "stream",
     "text": [
      " 79%|█████████████████████████████████▉         | 49/62 [09:52<02:55, 13.49s/it]"
     ]
    },
    {
     "name": "stdout",
     "output_type": "stream",
     "text": [
      "    Using multitaper spectrum estimation with 1 DPSS windows\n",
      "    Using multitaper spectrum estimation with 1 DPSS windows\n",
      "    Using multitaper spectrum estimation with 1 DPSS windows\n",
      "    Using multitaper spectrum estimation with 1 DPSS windows\n",
      "    Using multitaper spectrum estimation with 1 DPSS windows\n"
     ]
    },
    {
     "name": "stderr",
     "output_type": "stream",
     "text": [
      " 81%|██████████████████████████████████▋        | 50/62 [10:01<02:26, 12.22s/it]"
     ]
    },
    {
     "name": "stdout",
     "output_type": "stream",
     "text": [
      "    Using multitaper spectrum estimation with 1 DPSS windows\n",
      "    Using multitaper spectrum estimation with 1 DPSS windows\n",
      "    Using multitaper spectrum estimation with 1 DPSS windows\n",
      "    Using multitaper spectrum estimation with 1 DPSS windows\n",
      "    Using multitaper spectrum estimation with 1 DPSS windows\n"
     ]
    },
    {
     "name": "stderr",
     "output_type": "stream",
     "text": [
      " 82%|███████████████████████████████████▎       | 51/62 [10:12<02:11, 11.98s/it]"
     ]
    },
    {
     "name": "stdout",
     "output_type": "stream",
     "text": [
      "    Using multitaper spectrum estimation with 1 DPSS windows\n",
      "    Using multitaper spectrum estimation with 1 DPSS windows\n",
      "    Using multitaper spectrum estimation with 1 DPSS windows\n",
      "    Using multitaper spectrum estimation with 1 DPSS windows\n",
      "    Using multitaper spectrum estimation with 1 DPSS windows\n"
     ]
    },
    {
     "name": "stderr",
     "output_type": "stream",
     "text": [
      " 84%|████████████████████████████████████       | 52/62 [10:25<02:01, 12.15s/it]"
     ]
    },
    {
     "name": "stdout",
     "output_type": "stream",
     "text": [
      "    Using multitaper spectrum estimation with 1 DPSS windows\n",
      "    Using multitaper spectrum estimation with 1 DPSS windows\n",
      "    Using multitaper spectrum estimation with 1 DPSS windows\n",
      "    Using multitaper spectrum estimation with 1 DPSS windows\n",
      "    Using multitaper spectrum estimation with 1 DPSS windows\n"
     ]
    },
    {
     "name": "stderr",
     "output_type": "stream",
     "text": [
      " 85%|████████████████████████████████████▊      | 53/62 [10:37<01:48, 12.03s/it]"
     ]
    },
    {
     "name": "stdout",
     "output_type": "stream",
     "text": [
      "    Using multitaper spectrum estimation with 1 DPSS windows\n",
      "    Using multitaper spectrum estimation with 1 DPSS windows\n",
      "    Using multitaper spectrum estimation with 1 DPSS windows\n",
      "    Using multitaper spectrum estimation with 1 DPSS windows\n",
      "    Using multitaper spectrum estimation with 1 DPSS windows\n"
     ]
    },
    {
     "name": "stderr",
     "output_type": "stream",
     "text": [
      " 87%|█████████████████████████████████████▍     | 54/62 [10:50<01:39, 12.46s/it]"
     ]
    },
    {
     "name": "stdout",
     "output_type": "stream",
     "text": [
      "    Using multitaper spectrum estimation with 1 DPSS windows\n",
      "    Using multitaper spectrum estimation with 1 DPSS windows\n",
      "    Using multitaper spectrum estimation with 1 DPSS windows\n",
      "    Using multitaper spectrum estimation with 1 DPSS windows\n",
      "    Using multitaper spectrum estimation with 1 DPSS windows\n"
     ]
    },
    {
     "name": "stderr",
     "output_type": "stream",
     "text": [
      " 89%|██████████████████████████████████████▏    | 55/62 [11:04<01:30, 12.95s/it]"
     ]
    },
    {
     "name": "stdout",
     "output_type": "stream",
     "text": [
      "    Using multitaper spectrum estimation with 1 DPSS windows\n",
      "    Using multitaper spectrum estimation with 1 DPSS windows\n",
      "    Using multitaper spectrum estimation with 1 DPSS windows\n",
      "    Using multitaper spectrum estimation with 1 DPSS windows\n",
      "    Using multitaper spectrum estimation with 1 DPSS windows\n"
     ]
    },
    {
     "name": "stderr",
     "output_type": "stream",
     "text": [
      " 90%|██████████████████████████████████████▊    | 56/62 [11:17<01:16, 12.83s/it]"
     ]
    },
    {
     "name": "stdout",
     "output_type": "stream",
     "text": [
      "    Using multitaper spectrum estimation with 1 DPSS windows\n",
      "    Using multitaper spectrum estimation with 1 DPSS windows\n",
      "    Using multitaper spectrum estimation with 1 DPSS windows\n",
      "    Using multitaper spectrum estimation with 1 DPSS windows\n",
      "    Using multitaper spectrum estimation with 1 DPSS windows\n"
     ]
    },
    {
     "name": "stderr",
     "output_type": "stream",
     "text": [
      " 92%|███████████████████████████████████████▌   | 57/62 [11:26<00:59, 11.92s/it]"
     ]
    },
    {
     "name": "stdout",
     "output_type": "stream",
     "text": [
      "    Using multitaper spectrum estimation with 1 DPSS windows\n",
      "    Using multitaper spectrum estimation with 1 DPSS windows\n",
      "    Using multitaper spectrum estimation with 1 DPSS windows\n",
      "    Using multitaper spectrum estimation with 1 DPSS windows\n",
      "    Using multitaper spectrum estimation with 1 DPSS windows\n"
     ]
    },
    {
     "name": "stderr",
     "output_type": "stream",
     "text": [
      " 94%|████████████████████████████████████████▏  | 58/62 [11:40<00:49, 12.35s/it]"
     ]
    },
    {
     "name": "stdout",
     "output_type": "stream",
     "text": [
      "    Using multitaper spectrum estimation with 1 DPSS windows\n",
      "    Using multitaper spectrum estimation with 1 DPSS windows\n",
      "    Using multitaper spectrum estimation with 1 DPSS windows\n",
      "    Using multitaper spectrum estimation with 1 DPSS windows\n",
      "    Using multitaper spectrum estimation with 1 DPSS windows\n"
     ]
    },
    {
     "name": "stderr",
     "output_type": "stream",
     "text": [
      " 95%|████████████████████████████████████████▉  | 59/62 [11:47<00:32, 10.88s/it]"
     ]
    },
    {
     "name": "stdout",
     "output_type": "stream",
     "text": [
      "    Using multitaper spectrum estimation with 1 DPSS windows\n",
      "    Using multitaper spectrum estimation with 1 DPSS windows\n",
      "    Using multitaper spectrum estimation with 1 DPSS windows\n",
      "    Using multitaper spectrum estimation with 1 DPSS windows\n",
      "    Using multitaper spectrum estimation with 1 DPSS windows\n"
     ]
    },
    {
     "name": "stderr",
     "output_type": "stream",
     "text": [
      " 97%|█████████████████████████████████████████▌ | 60/62 [12:00<00:22, 11.42s/it]"
     ]
    },
    {
     "name": "stdout",
     "output_type": "stream",
     "text": [
      "    Using multitaper spectrum estimation with 1 DPSS windows\n",
      "    Using multitaper spectrum estimation with 1 DPSS windows\n",
      "    Using multitaper spectrum estimation with 1 DPSS windows\n",
      "    Using multitaper spectrum estimation with 1 DPSS windows\n",
      "    Using multitaper spectrum estimation with 1 DPSS windows\n"
     ]
    },
    {
     "name": "stderr",
     "output_type": "stream",
     "text": [
      " 98%|██████████████████████████████████████████▎| 61/62 [12:11<00:11, 11.36s/it]"
     ]
    },
    {
     "name": "stdout",
     "output_type": "stream",
     "text": [
      "    Using multitaper spectrum estimation with 1 DPSS windows\n",
      "    Using multitaper spectrum estimation with 1 DPSS windows\n",
      "    Using multitaper spectrum estimation with 1 DPSS windows\n",
      "    Using multitaper spectrum estimation with 1 DPSS windows\n",
      "    Using multitaper spectrum estimation with 1 DPSS windows\n"
     ]
    },
    {
     "name": "stderr",
     "output_type": "stream",
     "text": [
      "100%|███████████████████████████████████████████| 62/62 [12:22<00:00, 11.98s/it]\n"
     ]
    }
   ],
   "source": [
    "session_numbers = get_dates(monkey)\n",
    "\n",
    "for session_number in tqdm(session_numbers):\n",
    "    ####################################################### SAVE PATH #######################################################\n",
    "    _SAVE = os.path.expanduser(\n",
    "        f\"/home/INT/lima.v/Results/phase_encoding/psd/{monkey}/{session_number}\"\n",
    "    )\n",
    "\n",
    "    if not os.path.exists(_SAVE):\n",
    "        os.makedirs(_SAVE)\n",
    "    ####################################################### LOAD DATA #######################################################\n",
    "    data = load_session_data(_ROOT, session_number, monkey, align)\n",
    "\n",
    "    ####################################################### EPOCH DATA #######################################################\n",
    "    epoch_data = create_epoched_data(data)\n",
    "\n",
    "    ####################################################### FREQ. DOMAIN #######################################################\n",
    "    stim_labels = epoch_data.attrs[\"stim\"]\n",
    "\n",
    "    sxx = []\n",
    "    for i in range(epoch_data.sizes[\"epochs\"]):\n",
    "        sxx += [\n",
    "            xr_psd_array_multitaper(\n",
    "                epoch_data.sel(epochs=i),\n",
    "                n_jobs=20,\n",
    "                bandwidth=5,\n",
    "            )\n",
    "        ]\n",
    "\n",
    "    sxx = xr.concat(sxx, \"epochs\")\n",
    "    sxx.attrs = data.attrs\n",
    "\n",
    "    ####################################################### SAVE DATA #######################################################\n",
    "    sxx.to_netcdf(os.path.join(_SAVE, \"sxx.nc\"))"
   ]
  },
  {
   "cell_type": "code",
   "execution_count": null,
   "id": "42ca8f65-0cb0-4ce0-8f74-ea2bb35f4712",
   "metadata": {},
   "outputs": [],
   "source": []
  }
 ],
 "metadata": {
  "kernelspec": {
   "display_name": "Python 3 (ipykernel)",
   "language": "python",
   "name": "python3"
  },
  "language_info": {
   "codemirror_mode": {
    "name": "ipython",
    "version": 3
   },
   "file_extension": ".py",
   "mimetype": "text/x-python",
   "name": "python",
   "nbconvert_exporter": "python",
   "pygments_lexer": "ipython3",
   "version": "3.11.10"
  }
 },
 "nbformat": 4,
 "nbformat_minor": 5
}
