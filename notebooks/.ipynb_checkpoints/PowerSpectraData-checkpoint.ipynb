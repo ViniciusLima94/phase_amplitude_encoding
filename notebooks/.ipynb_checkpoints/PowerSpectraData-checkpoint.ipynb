{
 "cells": [
  {
   "cell_type": "markdown",
   "id": "9e18b8d4-8377-4241-a63f-9afd8f0f321a",
   "metadata": {},
   "source": [
    "### Compute power spectra for the data"
   ]
  },
  {
   "cell_type": "code",
   "execution_count": 1,
   "id": "c0ccc859-8eba-40f3-bcfe-c0b1a46b8ab4",
   "metadata": {},
   "outputs": [],
   "source": [
    "import sys\n",
    "\n",
    "sys.path.insert(1, \"/home/INT/lima.v/projects/phase_coupling_analysis\")"
   ]
  },
  {
   "cell_type": "code",
   "execution_count": 2,
   "id": "2d156f0f-5580-48f0-ad24-85504ea9bf03",
   "metadata": {},
   "outputs": [],
   "source": [
    "import argparse\n",
    "import os\n",
    "\n",
    "import numpy as np\n",
    "import xarray as xr\n",
    "from tqdm import tqdm\n",
    "\n",
    "from src.metrics.spectral import xr_psd_array_multitaper\n",
    "from src.session import session\n",
    "\n",
    "# from src.session import session\n",
    "from src.util import _extract_roi, get_dates"
   ]
  },
  {
   "cell_type": "markdown",
   "id": "38f151c3-a750-4519-9850-7db1e30e2a99",
   "metadata": {},
   "source": [
    "###############################################################################\n",
    "##### Functions\n",
    "###############################################################################"
   ]
  },
  {
   "cell_type": "code",
   "execution_count": 3,
   "id": "f495cfb4-6e86-4d1e-8300-cf89906585c6",
   "metadata": {},
   "outputs": [],
   "source": [
    "def load_session_data(root, sid, monkey, align):\n",
    "    # Instantiate class\n",
    "    ses = session(\n",
    "        raw_path=root,\n",
    "        monkey=monkey,\n",
    "        date=sid,\n",
    "        session=1,\n",
    "        slvr_msmod=False,\n",
    "        only_unique_recordings=False,\n",
    "        align_to=align,\n",
    "        evt_dt=[-0.65, 2.0],\n",
    "    )\n",
    "\n",
    "    # Read data from .mat files\n",
    "    ses.read_from_mat(verbose=False)\n",
    "\n",
    "    # Load XYZ coordinates\n",
    "    coords = np.concatenate(\n",
    "        (ses.get_xy_coords(), ses.recording_info[\"depth\"][:, None]), axis=1\n",
    "    )\n",
    "\n",
    "    # Filtering by trials\n",
    "    data_task = ses.filter_trials(trial_type=[1], behavioral_response=[1])\n",
    "    data_fixation = ses.filter_trials(trial_type=[2], behavioral_response=None)\n",
    "\n",
    "    attrs_task, attrs_fixation = data_task.attrs, data_fixation.attrs\n",
    "\n",
    "    stim = np.hstack((attrs_task[\"stim\"], attrs_fixation[\"stim\"]))\n",
    "    t_cue_on = np.hstack((attrs_task[\"t_cue_on\"], attrs_fixation[\"t_cue_on\"]))\n",
    "    t_cue_off = np.hstack((attrs_task[\"t_cue_off\"], attrs_fixation[\"t_cue_off\"]))\n",
    "    t_match_on = np.hstack((attrs_task[\"t_match_on\"], attrs_fixation[\"t_match_on\"]))\n",
    "\n",
    "    np.nan_to_num(stim, nan=6, copy=False)\n",
    "\n",
    "    data = xr.concat((data_task, data_fixation), \"trials\")\n",
    "    data.attrs = attrs_task\n",
    "    data.attrs[\"stim\"] = stim\n",
    "    data.attrs[\"t_cue_on\"] = t_cue_on\n",
    "    data.attrs[\"t_cue_off\"] = t_cue_off\n",
    "    data.attrs[\"t_match_on\"] = t_match_on\n",
    "    data.attrs[\"x\"] = coords[:, 0]\n",
    "    data.attrs[\"y\"] = coords[:, 1]\n",
    "    data.attrs[\"z\"] = coords[:, 2]\n",
    "\n",
    "    # ROIs with channels\n",
    "    rois = [\n",
    "        f\"{roi}_{channel}\" for roi, channel in zip(data.roi.data, data.channels_labels)\n",
    "    ]\n",
    "    data = data.assign_coords({\"roi\": rois})\n",
    "    # data.attrs = attrs\n",
    "    data.values *= 1e6\n",
    "\n",
    "    # return node_xr_remove_sca(data)\n",
    "    return data"
   ]
  },
  {
   "cell_type": "code",
   "execution_count": 4,
   "id": "e42e9b91-8d92-4102-b6a5-e256e3af3d64",
   "metadata": {},
   "outputs": [],
   "source": [
    "def create_epoched_data(data):\n",
    "    t_match_on = (data.attrs[\"t_match_on\"] - data.attrs[\"t_cue_on\"]) / data.fsample\n",
    "    t_match_on = np.round(t_match_on, 1)\n",
    "\n",
    "    epoch_data = []\n",
    "\n",
    "    for i in range(data.sizes[\"trials\"]):\n",
    "        stages = [\n",
    "            [-0.4, 0.0],\n",
    "            [0, 0.4],\n",
    "            [0.5, 0.9],\n",
    "            [0.9, 1.3],\n",
    "            [t_match_on[i] - 0.4, t_match_on[i]],\n",
    "        ]\n",
    "\n",
    "        temp = []\n",
    "\n",
    "        for t_i, t_f in stages:\n",
    "            temp += [data[i].sel(time=slice(t_i, t_f)).data]\n",
    "\n",
    "        epoch_data += [np.stack(temp, axis=-2)]\n",
    "\n",
    "    epoch_data = xr.DataArray(\n",
    "        np.stack(epoch_data),\n",
    "        dims=(\"trials\", \"roi\", \"epochs\", \"time\"),\n",
    "        coords={\n",
    "            \"trials\": data.trials,\n",
    "            \"roi\": data.roi,\n",
    "        },\n",
    "        attrs=data.attrs,\n",
    "    )\n",
    "\n",
    "    return epoch_data"
   ]
  },
  {
   "cell_type": "markdown",
   "id": "8f1e85b6-3c02-4288-aca4-6eae8f2f0786",
   "metadata": {},
   "source": [
    "###############################################################################\n",
    "##### Get session and monkey\n",
    "###############################################################################"
   ]
  },
  {
   "cell_type": "code",
   "execution_count": 5,
   "id": "e4c8df01-4787-40f0-b171-43fd42fc8abf",
   "metadata": {},
   "outputs": [],
   "source": [
    "align = \"cue\"\n",
    "monkey = \"lucy\"\n",
    "session_number = get_dates(monkey)[0]"
   ]
  },
  {
   "cell_type": "code",
   "execution_count": 6,
   "id": "5c655892-3d8b-4ec8-90aa-b0686b4e4eb9",
   "metadata": {},
   "outputs": [],
   "source": [
    "# Root directory\n",
    "# _ROOT = os.path.expanduser(\"/media/lima.v/1.42.6-25556/GrayLab/\")\n",
    "_ROOT = os.path.expanduser(\"/home/INT/lima.v/data/GrayLab/\")\n",
    "_SAVE = os.path.expanduser(\n",
    "    f\"/home/INT/lima.v/Results/phase_encoding/psd/{monkey}/{session_number}\"\n",
    ")\n",
    "\n",
    "if not os.path.exists(_SAVE):\n",
    "    os.makedirs(_SAVE)"
   ]
  },
  {
   "cell_type": "code",
   "execution_count": 7,
   "id": "d3df00f2-9d00-4aca-9079-2ccc7d6fc452",
   "metadata": {},
   "outputs": [],
   "source": [
    "data = load_session_data(_ROOT, session_number, monkey, align)"
   ]
  },
  {
   "cell_type": "markdown",
   "id": "15703e76-ab88-4c23-a164-613e5c2d6a42",
   "metadata": {},
   "source": [
    "###########################################################################\n",
    "##### Create epoched data\n",
    "###########################################################################"
   ]
  },
  {
   "cell_type": "code",
   "execution_count": 8,
   "id": "8b497ba3-1e3d-4666-8ff6-7d311af7d7d2",
   "metadata": {},
   "outputs": [],
   "source": [
    "epoch_data = create_epoched_data(data)"
   ]
  },
  {
   "cell_type": "markdown",
   "id": "38184b9e-a853-413d-a8a8-560ae635470d",
   "metadata": {},
   "source": [
    "###########################################################################\n",
    "##### Find peak frequency and corresponding power\n",
    "###########################################################################"
   ]
  },
  {
   "cell_type": "code",
   "execution_count": 9,
   "id": "7b3d0ce2-bbea-4770-928d-2127b420968a",
   "metadata": {},
   "outputs": [
    {
     "name": "stdout",
     "output_type": "stream",
     "text": [
      "    Using multitaper spectrum estimation with 1 DPSS windows\n",
      "    Using multitaper spectrum estimation with 1 DPSS windows\n",
      "    Using multitaper spectrum estimation with 1 DPSS windows\n",
      "    Using multitaper spectrum estimation with 1 DPSS windows\n",
      "    Using multitaper spectrum estimation with 1 DPSS windows\n"
     ]
    }
   ],
   "source": [
    "stim_labels = epoch_data.attrs[\"stim\"]\n",
    "\n",
    "sxx = []\n",
    "for i in range(epoch_data.sizes[\"epochs\"]):\n",
    "    sxx += [\n",
    "        xr_psd_array_multitaper(\n",
    "            epoch_data.sel(epochs=i),\n",
    "            n_jobs=20,\n",
    "            bandwidth=5,\n",
    "        )\n",
    "    ]\n",
    "\n",
    "sxx = xr.concat(sxx, \"epochs\")\n",
    "sxx.attrs = data.attrs"
   ]
  },
  {
   "cell_type": "markdown",
   "id": "baaac189-0fe6-4c28-a91f-d0e8c0aa4242",
   "metadata": {},
   "source": [
    "###########################################################################\n",
    "#### All sessions\n",
    "###########################################################################"
   ]
  },
  {
   "cell_type": "code",
   "execution_count": null,
   "id": "39e5895d-4583-4e93-8be8-68977c6a5020",
   "metadata": {},
   "outputs": [],
   "source": [
    "session_numbers = get_dates(monkey)\n",
    "\n",
    "for session_number in tqdm(session_numbers):\n",
    "    ####################################################### SAVE PATH #######################################################\n",
    "    _SAVE = os.path.expanduser(\n",
    "        f\"/home/INT/lima.v/Results/phase_encoding/psd/{monkey}/{session_number}\"\n",
    "    )\n",
    "\n",
    "    if not os.path.exists(_SAVE):\n",
    "        os.makedirs(_SAVE)\n",
    "    ####################################################### LOAD DATA #######################################################\n",
    "    data = load_session_data(_ROOT, session_number, monkey, align)\n",
    "\n",
    "    ####################################################### EPOCH DATA #######################################################\n",
    "    epoch_data = create_epoched_data(data)\n",
    "\n",
    "    ####################################################### FREQ. DOMAIN #######################################################\n",
    "    stim_labels = epoch_data.attrs[\"stim\"]\n",
    "\n",
    "    sxx = []\n",
    "    for i in range(epoch_data.sizes[\"epochs\"]):\n",
    "        sxx += [\n",
    "            xr_psd_array_multitaper(\n",
    "                epoch_data.sel(epochs=i),\n",
    "                n_jobs=20,\n",
    "                bandwidth=5,\n",
    "            )\n",
    "        ]\n",
    "\n",
    "    sxx = xr.concat(sxx, \"epochs\")\n",
    "    sxx.attrs = data.attrs\n",
    "\n",
    "    ####################################################### SAVE DATA #######################################################\n",
    "    sxx.to_netcdf(os.path.join(_SAVE, \"sxx.nc\"))"
   ]
  },
  {
   "cell_type": "code",
   "execution_count": null,
   "id": "42ca8f65-0cb0-4ce0-8f74-ea2bb35f4712",
   "metadata": {},
   "outputs": [],
   "source": []
  }
 ],
 "metadata": {
  "kernelspec": {
   "display_name": "Python 3 (ipykernel)",
   "language": "python",
   "name": "python3"
  },
  "language_info": {
   "codemirror_mode": {
    "name": "ipython",
    "version": 3
   },
   "file_extension": ".py",
   "mimetype": "text/x-python",
   "name": "python",
   "nbconvert_exporter": "python",
   "pygments_lexer": "ipython3",
   "version": "3.11.10"
  }
 },
 "nbformat": 4,
 "nbformat_minor": 5
}
