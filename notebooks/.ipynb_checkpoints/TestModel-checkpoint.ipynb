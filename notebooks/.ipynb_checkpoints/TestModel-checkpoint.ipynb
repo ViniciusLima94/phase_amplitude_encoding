{
 "cells": [
  {
   "cell_type": "markdown",
   "id": "289e3834-1168-4180-88bc-da33431fead3",
   "metadata": {},
   "source": [
    "### Stuart-Landau Model"
   ]
  },
  {
   "cell_type": "code",
   "execution_count": 1,
   "id": "8dac1d92-481d-4484-a6f0-d3bfb3d8e54d",
   "metadata": {},
   "outputs": [],
   "source": [
    "import sys\n",
    "import os\n",
    "sys.path.insert(1, os.path.join(\"/\", *os.getcwd().split(\"/\")[:-1]))"
   ]
  },
  {
   "cell_type": "code",
   "execution_count": null,
   "id": "b038745a-db20-4e84-bff8-9dd9f3d65be9",
   "metadata": {},
   "outputs": [],
   "source": [
    "import jax\n",
    "import jax.numpy as jnp\n",
    "import matplotlib.pyplot as plt\n",
    "import numpy as np\n",
    "import scipy\n",
    "import xarray as xr\n",
    "from tqdm import tqdm\n",
    "\n",
    "from src.models import simulate"
   ]
  },
  {
   "cell_type": "markdown",
   "id": "99214a2f-b151-4b4e-a045-271667b8ec9e",
   "metadata": {},
   "source": [
    "#### Simulation parameters"
   ]
  },
  {
   "cell_type": "code",
   "execution_count": null,
   "id": "f679c25e-54d6-4244-a68f-23d2d0659946",
   "metadata": {},
   "outputs": [],
   "source": [
    "Nareas = 1\n",
    "ntrials = 1\n",
    "fsamp = 1 / 1e-5\n",
    "\n",
    "time = np.arange(-4, 2, 1 / fsamp)\n",
    "beta = 1e-4\n",
    "Npoints = len(time)\n",
    "decim = 10\n",
    "\n",
    "C = np.array([0]).T\n",
    "\n",
    "\n",
    "a = -7\n",
    "I0 = 47\n",
    "f = 1"
   ]
  },
  {
   "cell_type": "code",
   "execution_count": null,
   "id": "5b1344bc-e57c-4b77-b5f5-61de791d4e7f",
   "metadata": {},
   "outputs": [],
   "source": [
    "time_start = 0\n",
    "time_end = np.inf\n",
    "Iext = (time > time_start) & (time < time_end)"
   ]
  },
  {
   "cell_type": "markdown",
   "id": "0a50053c-a5db-4bd4-a19b-84c2d1bf7652",
   "metadata": {},
   "source": [
    "#### Amplitude only"
   ]
  },
  {
   "cell_type": "code",
   "execution_count": null,
   "id": "4dd56d2c-3782-4bba-b25d-8745db895db4",
   "metadata": {},
   "outputs": [],
   "source": [
    "out = simulate(\n",
    "    C,\n",
    "    0,\n",
    "    f,\n",
    "    a,\n",
    "    fsamp,\n",
    "    0 * beta,\n",
    "    Npoints,\n",
    "    I0 * Iext[None,],\n",
    "    6187,\n",
    "    \"cpu\",\n",
    "    decim,\n",
    "    \"amp\",\n",
    ")"
   ]
  },
  {
   "cell_type": "code",
   "execution_count": null,
   "id": "8b3a9bed-65fe-4b9d-8e01-56c86092c837",
   "metadata": {},
   "outputs": [],
   "source": [
    "def func(r):\n",
    "    return a * r - r**3 + I0\n",
    "\n",
    "\n",
    "root = scipy.optimize.newton(func, 0, fprime=lambda r: a - 3 * r**2)"
   ]
  },
  {
   "cell_type": "code",
   "execution_count": null,
   "id": "73ccd293-b08c-4cb0-9da4-7c5c425f25d6",
   "metadata": {},
   "outputs": [],
   "source": [
    "plt.plot(time[::decim], np.abs(out))\n",
    "plt.plot(time[::decim], np.real(out))\n",
    "\n",
    "plt.hlines(root, -1, 2, \"r\")\n",
    "\n",
    "plt.xlim(-1, 2)"
   ]
  },
  {
   "cell_type": "code",
   "execution_count": null,
   "id": "4f4a2a3a-61b5-4c6a-ba2b-66d45cbbec94",
   "metadata": {},
   "outputs": [],
   "source": [
    "roots = []\n",
    "\n",
    "for A in np.arange(1, 10000, 1):\n",
    "\n",
    "    def func(r):\n",
    "        return -5 * r - r**3 + A\n",
    "\n",
    "    roots += [scipy.optimize.newton(func, 0, fprime=lambda r: -5 - 3 * r**2)]"
   ]
  },
  {
   "cell_type": "code",
   "execution_count": null,
   "id": "6fc7f8fa-8c8b-4095-a367-8fb13827e9c8",
   "metadata": {},
   "outputs": [],
   "source": [
    "def func(x, a, b, c, d):\n",
    "    return a * np.log(b * x + c) + d\n",
    "\n",
    "\n",
    "xdata = np.arange(1, 10000, 1)\n",
    "ydata = np.stack(roots)\n",
    "plt.plot(xdata, ydata, \"b-\", label=\"data\")\n",
    "\n",
    "popt, pcov = scipy.optimize.curve_fit(func, xdata, ydata)\n",
    "popt\n",
    "plt.plot(xdata, func(xdata, *popt), \"r-\")"
   ]
  },
  {
   "cell_type": "markdown",
   "id": "de0cb94d-a27d-4e18-a994-bd064d1d212e",
   "metadata": {},
   "source": [
    "#### Real-valued input"
   ]
  },
  {
   "cell_type": "code",
   "execution_count": null,
   "id": "1a5a3846-90e7-4538-82a5-03284cb16a12",
   "metadata": {},
   "outputs": [],
   "source": [
    "out = simulate(\n",
    "    C,\n",
    "    0,\n",
    "    f,\n",
    "    a,\n",
    "    fsamp,\n",
    "    0 * beta,\n",
    "    Npoints,\n",
    "    I0 * Iext[None,],\n",
    "    6187,\n",
    "    \"cpu\",\n",
    "    decim,\n",
    "    \"both\",\n",
    ")"
   ]
  },
  {
   "cell_type": "code",
   "execution_count": null,
   "id": "cfd691d7-7194-4d3f-a27f-e97b815eae34",
   "metadata": {},
   "outputs": [],
   "source": [
    "import sympy as sp\n",
    "\n",
    "# Define variable\n",
    "r = sp.symbols('r', real=True, positive=True)\n",
    "\n",
    "# Parameters\n",
    "omega = 2 * sp.pi * f\n",
    "# Fixed point equation\n",
    "fixed_point_eq = a*r - r**3 + sp.sqrt(I0**2 - omega**2 * r**2)\n",
    "\n",
    "# Try multiple initial guesses below 0.159 (valid range)\n",
    "initial_guesses = np.arange(0, 1, 0.001)\n",
    " \n",
    "# Try solving\n",
    "for guess in initial_guesses:\n",
    "    try:\n",
    "        r_star = sp.nsolve(fixed_point_eq, r, guess)\n",
    "        theta_star = sp.asin(omega * r_star / I0)\n",
    "        print(f\"Found solution:\")\n",
    "        print(f\"r* = {r_star.evalf()}\")\n",
    "        print(f\"theta* = {theta_star.evalf()}\")\n",
    "        break\n",
    "    except Exception as e:\n",
    "        continue"
   ]
  },
  {
   "cell_type": "code",
   "execution_count": null,
   "id": "4ba76855-5415-4288-b4d0-f1ae9208be2c",
   "metadata": {},
   "outputs": [],
   "source": [
    "r_float = float(r_star.evalf().as_real_imag()[0])  # First element is the real part"
   ]
  },
  {
   "cell_type": "code",
   "execution_count": null,
   "id": "39b71dbd-1af3-4cb8-bf35-09c4090d816a",
   "metadata": {},
   "outputs": [],
   "source": [
    "plt.plot(time[::decim], np.real(out))\n",
    "plt.plot(time[::decim], np.imag(out))\n",
    "plt.plot(time[::decim], np.abs(out))\n",
    "plt.hlines(r_float , -1, 2, \"r\")\n",
    "\n",
    "plt.legend([\"real\", \"imag\", \"envelope\", \"fixed point\"])\n",
    "\n",
    "plt.xlim(-1, 2)"
   ]
  },
  {
   "cell_type": "code",
   "execution_count": null,
   "id": "b434eebd-c5e5-480d-a9ab-e246ffda76cb",
   "metadata": {},
   "outputs": [],
   "source": []
  }
 ],
 "metadata": {
  "kernelspec": {
   "display_name": "Python 3 (ipykernel)",
   "language": "python",
   "name": "python3"
  },
  "language_info": {
   "codemirror_mode": {
    "name": "ipython",
    "version": 3
   },
   "file_extension": ".py",
   "mimetype": "text/x-python",
   "name": "python",
   "nbconvert_exporter": "python",
   "pygments_lexer": "ipython3",
   "version": "3.11.10"
  }
 },
 "nbformat": 4,
 "nbformat_minor": 5
}
