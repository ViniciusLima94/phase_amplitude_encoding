{
 "cells": [
  {
   "cell_type": "markdown",
   "id": "afa6613d-fd1d-4e46-9cd3-fe4c2019253c",
   "metadata": {},
   "source": [
    "### Three connected nodes"
   ]
  },
  {
   "cell_type": "code",
   "execution_count": 1,
   "id": "58a9da89-adfd-4334-ac4a-8640cf6ce05d",
   "metadata": {},
   "outputs": [],
   "source": [
    "import sys\n",
    "\n",
    "sys.path.insert(1, \"/home/INT/lima.v/projects/phase_amplitude_encoding/\")"
   ]
  },
  {
   "cell_type": "code",
   "execution_count": 2,
   "id": "b44e82ee-01f6-415c-ab82-5be7f4776860",
   "metadata": {},
   "outputs": [],
   "source": [
    "import jax\n",
    "import jax.numpy as jnp\n",
    "import matplotlib.pyplot as plt\n",
    "import numpy as np\n",
    "import xarray as xr\n",
    "from frites.core import copnorm_nd\n",
    "from hoi.core import get_mi\n",
    "from mne.time_frequency.tfr import tfr_array_morlet, tfr_array_multitaper\n",
    "from tqdm import tqdm\n",
    "\n",
    "from src.models import simulate, simulate_delayed"
   ]
  },
  {
   "cell_type": "code",
   "execution_count": 3,
   "id": "e0e3f93a-42c9-4b16-9b64-a7de2a30c644",
   "metadata": {},
   "outputs": [],
   "source": [
    "jax.config.update(\"jax_platform_name\", \"cpu\")"
   ]
  },
  {
   "cell_type": "code",
   "execution_count": 4,
   "id": "0ea9066e-f9d1-4790-8c2f-11a620ec7721",
   "metadata": {},
   "outputs": [],
   "source": [
    "def circular_hist(\n",
    "    ax, x, bins=16, density=True, offset=0, gaps=True, fill=False, alpha=0.3, color=\"b\"\n",
    "):\n",
    "    \"\"\"\n",
    "    Produce a circular histogram of angles on ax.\n",
    "\n",
    "    Parameters\n",
    "    ----------\n",
    "    ax : matplotlib.axes._subplots.PolarAxesSubplot\n",
    "        axis instance created with subplot_kw=dict(projection='polar').\n",
    "\n",
    "    x : array\n",
    "        Angles to plot, expected in units of radians.\n",
    "\n",
    "    bins : int, optional\n",
    "        Defines the number of equal-width bins in the range. The default is 16.\n",
    "\n",
    "    density : bool, optional\n",
    "        If True plot frequency proportional to area. If False plot frequency\n",
    "        proportional to radius. The default is True.\n",
    "\n",
    "    offset : float, optional\n",
    "        Sets the offset for the location of the 0 direction in units of\n",
    "        radians. The default is 0.\n",
    "\n",
    "    gaps : bool, optional\n",
    "        Whether to allow gaps between bins. When gaps = False the bins are\n",
    "        forced to partition the entire [-pi, pi] range. The default is True.\n",
    "\n",
    "    Returns\n",
    "    -------\n",
    "    n : array or list of arrays\n",
    "        The number of values in each bin.\n",
    "\n",
    "    bins : array\n",
    "        The edges of the bins.\n",
    "\n",
    "    patches : `.BarContainer` or list of a single `.Polygon`\n",
    "        Container of individual artists used to create the histogram\n",
    "        or list of such containers if there are multiple input datasets.\n",
    "    \"\"\"\n",
    "    # Wrap angles to [-pi, pi)\n",
    "    x = (x + np.pi) % (2 * np.pi) - np.pi\n",
    "\n",
    "    # Force bins to partition entire circle\n",
    "    if not gaps:\n",
    "        bins = np.linspace(-np.pi, np.pi, num=bins + 1)\n",
    "\n",
    "    # Bin data and record counts\n",
    "    n, bins = np.histogram(x, bins=bins)\n",
    "\n",
    "    # Compute width of each bin\n",
    "    widths = np.diff(bins)\n",
    "\n",
    "    # By default plot frequency proportional to area\n",
    "    if density:\n",
    "        # Area to assign each bin\n",
    "        area = n / x.size\n",
    "        # Calculate corresponding bin radius\n",
    "        radius = (area / np.pi) ** 0.5\n",
    "    # Otherwise plot frequency proportional to radius\n",
    "    else:\n",
    "        radius = n\n",
    "\n",
    "    # Plot data on ax\n",
    "    patches = ax.bar(\n",
    "        bins[:-1],\n",
    "        radius,\n",
    "        zorder=1,\n",
    "        align=\"edge\",\n",
    "        width=widths,\n",
    "        edgecolor=\"k\",\n",
    "        fill=fill,\n",
    "        linewidth=1,\n",
    "        alpha=alpha,\n",
    "        color=color,\n",
    "    )\n",
    "\n",
    "    # Set the direction of the zero angle\n",
    "    ax.set_theta_offset(offset)\n",
    "\n",
    "    # Remove ylabels for area plots (they are mostly obstructive)\n",
    "    if density:\n",
    "        ax.set_yticks([])\n",
    "\n",
    "    return n, bins, patches"
   ]
  },
  {
   "cell_type": "code",
   "execution_count": 5,
   "id": "f5bf29a7-7db7-4fe5-84d0-b592337cd322",
   "metadata": {},
   "outputs": [],
   "source": [
    "from scipy.special import gamma\n",
    "\n",
    "\n",
    "def alpha_function(t, alpha, tau_decay):\n",
    "    \"\"\"\n",
    "    Generates an alpha function as the envelope.\n",
    "    \"\"\"\n",
    "    return (\n",
    "        (alpha) * np.exp(-t / tau_decay) / (tau_decay * (alpha + 1) * gamma(alpha + 1))\n",
    "    )\n",
    "\n",
    "\n",
    "def evoked_potential(t, A, f_initial, f_final, t_transition, alpha, tau_decay):\n",
    "    # Initialize the signal\n",
    "    signal = np.zeros_like(t)\n",
    "\n",
    "    # Time after the transition point (where the stimulus starts)\n",
    "    stimulus_start_idx = t >= t_transition\n",
    "    t_stimulus = t[stimulus_start_idx] - t_transition  # Time after stimulus start\n",
    "\n",
    "    # Frequency decay over time\n",
    "    freq_t = f_initial + (f_final - f_initial) * t_stimulus / t_max\n",
    "\n",
    "    # Oscillatory signal with frequency decay\n",
    "    oscillatory_signal = A * np.cos(2 * np.pi * freq_t * t_stimulus)\n",
    "\n",
    "    # Apply the alpha envelope to the oscillatory signal\n",
    "    envelope = alpha_function(t_stimulus, alpha, tau_decay)\n",
    "\n",
    "    # Combine the oscillatory signal with the decaying envelope\n",
    "    signal[stimulus_start_idx] = oscillatory_signal * envelope\n",
    "\n",
    "    return signal"
   ]
  },
  {
   "cell_type": "code",
   "execution_count": 6,
   "id": "da997f51-491a-4f35-ad87-14ace8469445",
   "metadata": {},
   "outputs": [],
   "source": [
    "cm = 1 / 2.54"
   ]
  },
  {
   "cell_type": "markdown",
   "id": "27d16b80-f703-488e-880a-48b5d540a9ea",
   "metadata": {},
   "source": [
    "#### Simulation parameters"
   ]
  },
  {
   "cell_type": "code",
   "execution_count": 7,
   "id": "ce513e4c-461f-4fb0-9aaa-3cee94c10107",
   "metadata": {},
   "outputs": [],
   "source": [
    "Nareas = 3\n",
    "ntrials = 300\n",
    "fsamp = 1 / 1e-4\n",
    "\n",
    "time = np.arange(-4, 4, 1 / fsamp)\n",
    "beta = 1e-4\n",
    "Npoints = len(time)\n",
    "decim = 20\n",
    "\n",
    "C = np.array([[0, 0, 1], [0, 0, 1], [0, 0, 0]]).T"
   ]
  },
  {
   "cell_type": "code",
   "execution_count": 8,
   "id": "39ea7e80-8cda-4ea4-bc66-5234ee0a91f7",
   "metadata": {},
   "outputs": [
    {
     "data": {
      "text/plain": [
       "array([[0, 0, 0],\n",
       "       [0, 0, 0],\n",
       "       [1, 1, 0]])"
      ]
     },
     "execution_count": 8,
     "metadata": {},
     "output_type": "execute_result"
    }
   ],
   "source": [
    "C"
   ]
  },
  {
   "cell_type": "code",
   "execution_count": 9,
   "id": "0b01b038-f388-4635-81ef-d5f6c8d949ae",
   "metadata": {},
   "outputs": [],
   "source": [
    "t_max = time.max()  # Maximum time (in seconds)\n",
    "dt = 1 / fsamp  # Time step (in seconds)\n",
    "\n",
    "A = 0.5  # Initial amplitude of the stimulus\n",
    "f_initial = 20  # Initial frequency of the oscillation (60 Hz)\n",
    "f_final = 5  # Final frequency after decay (e.g., 10 Hz)\n",
    "t_transition = 0  # Time at which the stimulus starts (1s after baseline)\n",
    "alpha = 0.5  # Shape parameter of the alpha function\n",
    "tau_decay = 0.5  # Time constant for the alpha function"
   ]
  },
  {
   "cell_type": "code",
   "execution_count": 10,
   "id": "5417b0b8-059d-4eb4-8317-d613027feb40",
   "metadata": {},
   "outputs": [],
   "source": [
    "Iext = np.zeros((Nareas, Npoints))\n",
    "Iext[0, (time >= 0) & (time <= 0.4)] = 0.5\n",
    "# Iext[1, (time >= .3) & (time <= 0.7)] = 0.5\n",
    "Amplitudes = np.linspace(0, 0.1, ntrials)\n",
    "CS = Amplitudes[..., None, None] * Iext\n",
    "seeds = np.random.randint(0, 10000, ntrials)"
   ]
  },
  {
   "cell_type": "code",
   "execution_count": 11,
   "id": "019af622-649c-44fa-8bba-d4689d997c9c",
   "metadata": {},
   "outputs": [],
   "source": [
    "\"\"\"\n",
    "I_t = evoked_potential(time, A, f_initial, f_final, t_transition, alpha, tau_decay)\n",
    "\n",
    "Iext = np.zeros((Nareas, Npoints))\n",
    "Iext[0, :] = I_t\n",
    "CS = Amplitudes[..., None, None] * Iext\n",
    "seeds = np.random.randint(0, 10000, ntrials)\n",
    "\"\"\";"
   ]
  },
  {
   "cell_type": "code",
   "execution_count": 12,
   "id": "27b46176-d058-422b-8b13-d27d58315219",
   "metadata": {},
   "outputs": [],
   "source": [
    "simulate_loop = jax.vmap(\n",
    "    simulate,\n",
    "    in_axes=(None, None, None, None, None, None, None, 0, 0, None, None, None),\n",
    ")"
   ]
  },
  {
   "cell_type": "code",
   "execution_count": 13,
   "id": "f0ef875a-3f3c-4a21-9de6-7e78723a2eb5",
   "metadata": {},
   "outputs": [],
   "source": [
    "out = simulate_loop(\n",
    "    C,\n",
    "    30,\n",
    "    40,\n",
    "    jnp.array([-5, -5, -5]),\n",
    "    fsamp,\n",
    "    beta,\n",
    "    Npoints,\n",
    "    CS,\n",
    "    seeds,\n",
    "    \"cpu\",\n",
    "    decim,\n",
    "    \"both\",\n",
    ")\n",
    "\n",
    "\n",
    "stim = np.arange(ntrials)\n",
    "data = xr.DataArray(\n",
    "    np.stack(out),\n",
    "    dims=(\"trials\", \"roi\", \"times\"),\n",
    "    coords=(stim, [\"x\", \"y\", \"z\"], time[::decim]),\n",
    ").sel(times=slice(-2, 2))"
   ]
  },
  {
   "cell_type": "code",
   "execution_count": null,
   "id": "b0cab32e-cc00-464e-94b9-55058d68b11e",
   "metadata": {},
   "outputs": [],
   "source": [
    "plt.figure(figsize=(15, 10))\n",
    "z_data = (data - data.mean(\"times\")) / data.std(\"times\")\n",
    "plt.subplot(1, 2, 1)\n",
    "for i in range(Nareas):\n",
    "    plt.plot(z_data[-1].times, z_data[0].values[i].real + (i * 3))\n",
    "plt.subplot(1, 2, 2)\n",
    "for i in range(Nareas):\n",
    "    plt.plot(z_data[-1].times, z_data[-1].values[i].real + (i * 3))"
   ]
  },
  {
   "cell_type": "code",
   "execution_count": null,
   "id": "404913f2-7599-4591-89b4-abe214cacab1",
   "metadata": {},
   "outputs": [],
   "source": [
    "import scipy\n",
    "from frites.core import (\n",
    "    copnorm_nd,\n",
    "    gccmi_nd_ccc,\n",
    "    gcmi_1d_cc,\n",
    "    gcmi_model_nd_cd,\n",
    "    gcmi_nd_cc,\n",
    ")"
   ]
  },
  {
   "cell_type": "code",
   "execution_count": null,
   "id": "3ebea256-134a-487b-b5dd-09320dc49ade",
   "metadata": {},
   "outputs": [],
   "source": [
    "mi_fcn = get_mi(\"gc\")\n",
    "\n",
    "mi_fcn_time = jax.vmap(mi_fcn, in_axes=(2, 2, None, None))\n",
    "mi_fcn_time_frequency = jax.vmap(mi_fcn_time, in_axes=(2, 2, None, None))"
   ]
  },
  {
   "cell_type": "code",
   "execution_count": null,
   "id": "bf9d8d27-a340-457c-9735-744e4eb350f2",
   "metadata": {},
   "outputs": [],
   "source": [
    "labels = np.tile(np.expand_dims(Amplitudes, 1), data.sizes[\"times\"])\n",
    "z = data[:, 0] * np.conj(data[:, 1])\n",
    "A = np.abs(z).values\n",
    "dphi = np.unwrap(np.angle(z))\n",
    "\n",
    "I_S_R1 = mi_fcn_time(A[None], labels[None], False, True)\n",
    "I_S_R2 = mi_fcn_time(dphi[None], labels[None], False, True)\n",
    "I_S_R12 = mi_fcn_time(dphi[None], labels[None], False, True)\n",
    "\n",
    "ax = plt.subplot(111)\n",
    "plt.plot(data.times, I_S_R1, \"b\")\n",
    "plt.plot(data.times, I_S_R2, \"g\")\n",
    "\n",
    "plt.legend(\n",
    "    [\n",
    "        r\"I($A_{i}, A_{j}$; S)\",\n",
    "        r\"I($\\Delta\\theta_{ij}$; S)\",\n",
    "    ],\n",
    "    frameon=False,\n",
    ")\n",
    "\n",
    "plt.xlabel(\"Time [s]\", fontsize=12)\n",
    "plt.ylabel(\"[bits]\", fontsize=12)\n",
    "[ax.spines[key].set_visible(False) for key in [\"top\", \"right\"]]\n",
    "\n",
    "plt.savefig(\"figures/sample_encoding_evoked_potential.png\", bbox_inches=\"tight\")"
   ]
  },
  {
   "cell_type": "code",
   "execution_count": 17,
   "id": "8291eba5-59f9-47e6-a790-69ce8e231a58",
   "metadata": {},
   "outputs": [],
   "source": [
    "def get_red_syn(data):\n",
    "\n",
    "    labels = np.tile(np.expand_dims(Amplitudes, 1), data.sizes[\"times\"])\n",
    "\n",
    "    E1_amp = np.abs(data[:, 0] * np.conj(data[:, 1])).data\n",
    "    E2_amp = np.abs(data[:, 1] * np.conj(data[:, 2])).data\n",
    "\n",
    "    I_S_R1_amp = mi_fcn_time(E1_amp[None], labels[None], False, True)\n",
    "    I_S_R2_amp = mi_fcn_time(E2_amp[None], labels[None], False, True)\n",
    "    I_S_R12_amp = mi_fcn_time(np.stack((E1_amp, E2_amp)), labels[None], False, True)\n",
    "\n",
    "    E1_phi = np.unwrap(np.angle(data[:, 0] * np.conj(data[:, 1])))\n",
    "    E2_phi = np.unwrap(np.angle(data[:, 1] * np.conj(data[:, 2])))\n",
    "\n",
    "    I_S_R1_phi = mi_fcn_time(E1_phi[None], labels[None], False, True)\n",
    "    I_S_R2_phi = mi_fcn_time(E2_phi[None], labels[None], False, True)\n",
    "    I_S_R12_phi = mi_fcn_time(np.stack((E1_phi, E2_phi)), labels[None], False, True)\n",
    "\n",
    "    red_amp = I_S_R12_amp - np.minimum(I_S_R1_amp, I_S_R2_amp)\n",
    "    syn_amp = I_S_R12_amp - np.maximum(I_S_R1_amp, I_S_R2_amp)\n",
    "\n",
    "    red_phi = I_S_R12_phi - np.minimum(I_S_R1_phi, I_S_R2_phi)\n",
    "    syn_phi = I_S_R12_phi - np.maximum(I_S_R1_phi, I_S_R2_phi)\n",
    "\n",
    "    return red_amp, syn_amp, red_phi, syn_phi"
   ]
  },
  {
   "cell_type": "code",
   "execution_count": 18,
   "id": "1c4507f2-7d14-4f56-bd6d-f198a90a8865",
   "metadata": {},
   "outputs": [],
   "source": [
    "red_amp_1, syn_amp_1, red_phi_1, syn_phi_1 = get_red_syn(data)"
   ]
  },
  {
   "cell_type": "code",
   "execution_count": null,
   "id": "77e82898-f6b9-4f98-95d3-545316c5731d",
   "metadata": {},
   "outputs": [],
   "source": []
  },
  {
   "cell_type": "code",
   "execution_count": 19,
   "id": "95980f91-eded-4078-8a49-f21f17c3970a",
   "metadata": {},
   "outputs": [
    {
     "data": {
      "image/png": "[encoded data removed]",
      "text/plain": [
       "<Figure size 590.551x314.961 with 2 Axes>"
      ]
     },
     "metadata": {},
     "output_type": "display_data"
    }
   ],
   "source": [
    "plt.figure(figsize=(15 * cm, 8 * cm))\n",
    "plt.subplot(121)\n",
    "plt.plot(data.times, red_amp_1, \"b\", label=\"red. (hom)\")\n",
    "plt.plot(data.times, syn_amp_1, \"r\", label=\"syn. (hom)\")\n",
    "plt.xlim(-2, 4)\n",
    "plt.xlabel(\"Time [s]\", fontsize=12)\n",
    "plt.ylabel(\"[bits]\", fontsize=12)\n",
    "plt.legend(frameon=False, fontsize=8)\n",
    "\n",
    "plt.subplot(122)\n",
    "\n",
    "plt.plot(data.times, red_phi_1, \"b\")\n",
    "plt.plot(data.times, syn_phi_1, \"r\")\n",
    "plt.xlim(-2, 4)\n",
    "plt.xlabel(\"Time [s]\", fontsize=12)\n",
    "\n",
    "plt.ylabel(\"[bits]\", fontsize=12)\n",
    "plt.tight_layout()\n",
    "plt.suptitle(\"40Hz\", fontsize=12, y=1.02)\n",
    "\n",
    "plt.savefig(\"figures/3nodes_red_syn.png\", bbox_inches=\"tight\")"
   ]
  },
  {
   "cell_type": "code",
   "execution_count": 22,
   "id": "aca48c0e-cdbf-46c0-9440-f8a86b79e70c",
   "metadata": {},
   "outputs": [
    {
     "name": "stderr",
     "output_type": "stream",
     "text": [
      "100%|█████████████████████████████████████████| 100/100 [13:00<00:00,  7.80s/it]\n"
     ]
    }
   ],
   "source": [
    "data = []\n",
    "\n",
    "for i in tqdm(range(100)):\n",
    "    seeds = np.random.randint(0, 10000, ntrials)\n",
    "    out = simulate_loop(\n",
    "        C,\n",
    "        10,\n",
    "        40,\n",
    "        jnp.array([-5, -5, -10]),\n",
    "        fsamp,\n",
    "        beta,\n",
    "        Npoints,\n",
    "        CS,\n",
    "        seeds,\n",
    "        \"cpu\",\n",
    "        decim,\n",
    "        \"both\",\n",
    "    )\n",
    "\n",
    "    stim = np.arange(ntrials)\n",
    "    data += [\n",
    "        xr.DataArray(\n",
    "            np.stack(out),\n",
    "            dims=(\"trials\", \"roi\", \"times\"),\n",
    "            coords=(stim, [\"x\", \"y\", \"z\"], time[::decim]),\n",
    "        ).sel(times=slice(-2, 2))\n",
    "    ]"
   ]
  },
  {
   "cell_type": "code",
   "execution_count": 23,
   "id": "f082fa97-5da8-481c-a66e-7fc348345ad7",
   "metadata": {},
   "outputs": [
    {
     "name": "stderr",
     "output_type": "stream",
     "text": [
      "100%|█████████████████████████████████████████| 100/100 [01:52<00:00,  1.13s/it]\n"
     ]
    }
   ],
   "source": [
    "red_amp_1, syn_amp_1, red_phi_1, syn_phi_1 = [], [], [], []\n",
    "for data_ in tqdm(data):\n",
    "    out = get_red_syn(data_)\n",
    "    red_amp_1 += [out[0]]\n",
    "    syn_amp_1 += [out[1]]\n",
    "    red_phi_1 += [out[2]]\n",
    "    syn_phi_1 += [out[3]]"
   ]
  },
  {
   "cell_type": "code",
   "execution_count": 29,
   "id": "208b5e8f-5ae3-4835-970b-b45098e7e81d",
   "metadata": {},
   "outputs": [],
   "source": [
    "red_amp_1 = np.stack(red_amp_1).mean(0) \n",
    "syn_amp_1 = np.stack(syn_amp_1).mean(0) \n",
    "red_phi_1 = np.stack(red_phi_1).mean(0) \n",
    "syn_phi_1 = np.stack(syn_phi_1).mean(0) "
   ]
  },
  {
   "cell_type": "code",
   "execution_count": 31,
   "id": "90354650-1175-4415-aa02-a713ecc33026",
   "metadata": {},
   "outputs": [
    {
     "data": {
      "text/plain": [
       "Text(0.5, 1.02, '40Hz')"
      ]
     },
     "execution_count": 31,
     "metadata": {},
     "output_type": "execute_result"
    },
    {
     "data": {
      "image/png": "[encoded data removed]",
      "text/plain": [
       "<Figure size 590.551x314.961 with 2 Axes>"
      ]
     },
     "metadata": {},
     "output_type": "display_data"
    }
   ],
   "source": [
    "plt.figure(figsize=(15 * cm, 8 * cm))\n",
    "plt.subplot(121)\n",
    "plt.plot(data[0].times, red_amp_1, \"b\", label=\"red. (hom)\")\n",
    "plt.plot(data[0].times, syn_amp_1, \"r\", label=\"syn. (hom)\")\n",
    "plt.xlim(-2, 4)\n",
    "plt.xlabel(\"Time [s]\", fontsize=12)\n",
    "plt.ylabel(\"[bits]\", fontsize=12)\n",
    "plt.legend(frameon=False, fontsize=8)\n",
    "\n",
    "plt.subplot(122)\n",
    "\n",
    "plt.plot(data[0].times, red_phi_1, \"b\")\n",
    "plt.plot(data[0].times, syn_phi_1, \"r\")\n",
    "plt.xlim(-2, 4)\n",
    "plt.xlabel(\"Time [s]\", fontsize=12)\n",
    "\n",
    "plt.ylabel(\"[bits]\", fontsize=12)\n",
    "plt.tight_layout()\n",
    "plt.suptitle(\"40Hz\", fontsize=12, y=1.02)"
   ]
  },
  {
   "cell_type": "code",
   "execution_count": null,
   "id": "ac851f6d-246d-4ae3-9bfb-e79c38f3a485",
   "metadata": {},
   "outputs": [],
   "source": []
  }
 ],
 "metadata": {
  "kernelspec": {
   "display_name": "Python 3 (ipykernel)",
   "language": "python",
   "name": "python3"
  },
  "language_info": {
   "codemirror_mode": {
    "name": "ipython",
    "version": 3
   },
   "file_extension": ".py",
   "mimetype": "text/x-python",
   "name": "python",
   "nbconvert_exporter": "python",
   "pygments_lexer": "ipython3",
   "version": "3.11.10"
  }
 },
 "nbformat": 4,
 "nbformat_minor": 5
}
