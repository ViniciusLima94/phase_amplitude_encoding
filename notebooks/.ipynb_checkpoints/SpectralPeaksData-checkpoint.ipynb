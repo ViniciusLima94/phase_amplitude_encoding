{
 "cells": [
  {
   "cell_type": "markdown",
   "id": "d264ca34-8eef-4c09-9963-9b68aacdcca3",
   "metadata": {},
   "source": [
    "### Get spectral peaks for the data"
   ]
  },
  {
   "cell_type": "code",
   "execution_count": 1,
   "id": "bf947b49-b507-4949-9213-f8efc86c7a99",
   "metadata": {},
   "outputs": [],
   "source": [
    "import sys\n",
    "\n",
    "sys.path.insert(1, \"/home/INT/lima.v/projects/phase_coupling_analysis\")"
   ]
  },
  {
   "cell_type": "code",
   "execution_count": 2,
   "id": "23f03cad-c62c-45b9-8065-18186cc60467",
   "metadata": {},
   "outputs": [],
   "source": [
    "import argparse\n",
    "import os\n",
    "\n",
    "import numpy as np\n",
    "import xarray as xr\n",
    "from frites.conn import conn_links\n",
    "from scipy.signal import find_peaks\n",
    "from tqdm import tqdm\n",
    "\n",
    "from src.util import get_dates"
   ]
  },
  {
   "cell_type": "markdown",
   "id": "c5bd3b3f-303f-48b5-96c1-044261922d3d",
   "metadata": {},
   "source": [
    "###############################################################################\n",
    "##### Functions\n",
    "###############################################################################"
   ]
  },
  {
   "cell_type": "code",
   "execution_count": 3,
   "id": "68b929bb-086c-4e99-8a10-2ed877eaeee1",
   "metadata": {},
   "outputs": [],
   "source": [
    "def detect_peak_frequencies(\n",
    "    power=None, absolute_power=None, prominence=0.01, verbose=False\n",
    "):\n",
    "\n",
    "    assert power.ndim == 2\n",
    "    assert isinstance(power, xr.DataArray)\n",
    "\n",
    "    roi, freqs = power.roi.data, power.freqs.data\n",
    "    n_roi = len(roi)\n",
    "\n",
    "    rois = []\n",
    "    peak_power = []\n",
    "    peak_freqs = []\n",
    "    peak_prominences = []\n",
    "\n",
    "    __iter = range(n_roi)\n",
    "    for i in tqdm(__iter) if verbose else __iter:\n",
    "        peak_index, peak_info = find_peaks(power[i, :], prominence=prominence)\n",
    "        peak_power += [absolute_power[i, :][peak_index]]\n",
    "        peak_freqs += [freqs[peak_index]]\n",
    "        peak_prominences += [peak_info[\"prominences\"]]\n",
    "        rois += [[roi[i]] * len(peak_index)]\n",
    "\n",
    "    return peak_power, peak_freqs, peak_prominences, rois\n",
    "\n",
    "\n",
    "def check_peaks(peak_power, peak_freqs, peak_prominences, rois):\n",
    "\n",
    "    has_peak = np.zeros((average_power_norm.sizes[\"roi\"], len(bands)), dtype=bool)\n",
    "\n",
    "    for i in range(average_power_norm.sizes[\"roi\"]):\n",
    "        for peak in peak_freqs[i]:\n",
    "            for n_band, band in enumerate(bands.keys()):\n",
    "                if not has_peak[i, n_band]:\n",
    "                    has_peak[i, n_band] = bands[band][0] <= peak <= bands[band][1]\n",
    "\n",
    "    has_peak = xr.DataArray(\n",
    "        has_peak,\n",
    "        dims=(\"roi\", \"bands\"),\n",
    "        coords=(average_power_norm.roi, list(bands.keys())),\n",
    "    )\n",
    "\n",
    "    peak_power = xr.DataArray(\n",
    "        np.hstack(peak_power),\n",
    "        dims=\"roi\",\n",
    "        coords={\"roi\": np.hstack(rois)},\n",
    "        name=\"peak_freq\",\n",
    "    )\n",
    "\n",
    "    peak_freqs = xr.DataArray(\n",
    "        np.hstack(peak_freqs),\n",
    "        dims=\"roi\",\n",
    "        coords={\"roi\": np.hstack(rois)},\n",
    "        name=\"peak_freq\",\n",
    "    )\n",
    "\n",
    "    peak_prominences = xr.DataArray(\n",
    "        np.hstack(peak_prominences),\n",
    "        dims=\"roi\",\n",
    "        coords={\"roi\": np.hstack(rois)},\n",
    "        name=\"peak_prom\",\n",
    "    )\n",
    "\n",
    "    return has_peak, peak_freqs, peak_prominences, peak_power"
   ]
  },
  {
   "cell_type": "markdown",
   "id": "a80d0156-35fe-4e28-bf2f-352b8f6bcee0",
   "metadata": {},
   "source": [
    "###############################################################################\n",
    "##### Get session and monkey\n",
    "###############################################################################"
   ]
  },
  {
   "cell_type": "code",
   "execution_count": 4,
   "id": "ece2ae59-23fa-4900-9dfe-46a8a3b2de2a",
   "metadata": {},
   "outputs": [],
   "source": [
    "n = \"cue\"\n",
    "monkey = \"lucy\"\n",
    "session_number = get_dates(monkey)[11]"
   ]
  },
  {
   "cell_type": "code",
   "execution_count": 5,
   "id": "beeca3b6-4420-48dc-9f27-7bdc0e40ef64",
   "metadata": {},
   "outputs": [],
   "source": [
    "average_power_epochs = xr.load_dataarray(\n",
    "    f\"/home/INT/lima.v/Results/phase_encoding/psd/{monkey}/{session_number}/sxx.nc\"\n",
    ")"
   ]
  },
  {
   "cell_type": "code",
   "execution_count": 6,
   "id": "9c6e3957-c8f9-46d7-8653-576fc072a7aa",
   "metadata": {},
   "outputs": [],
   "source": [
    "###############################################################################\n",
    "##### Find spectral peaks\n",
    "###############################################################################"
   ]
  },
  {
   "cell_type": "code",
   "execution_count": 7,
   "id": "dc151d3a-0719-42f8-8464-825b7d59e2d2",
   "metadata": {},
   "outputs": [],
   "source": [
    "# Define bands\n",
    "bands = {\n",
    "    \"theta\": [0, 6],\n",
    "    \"alpha\": [6, 14],\n",
    "    \"beta_1\": [14, 26],\n",
    "    \"beta_2\": [26, 43],\n",
    "    \"gamma\": [43, 80],\n",
    "}"
   ]
  },
  {
   "cell_type": "code",
   "execution_count": 8,
   "id": "2421a7c6-2ba5-4203-a69e-fac0f3254681",
   "metadata": {},
   "outputs": [],
   "source": [
    "# Normalize spectra\n",
    "average_power_norm = average_power_epochs / average_power_epochs.max(\"freqs\")\n",
    "\n",
    "unique_rois = average_power_norm.roi.values"
   ]
  },
  {
   "cell_type": "code",
   "execution_count": 9,
   "id": "2fd45a43-7ab5-4705-a702-7a059d17b334",
   "metadata": {},
   "outputs": [],
   "source": [
    "peak_power, peak_freqs, peak_prominences, rois = [], [], [], []\n",
    "\n",
    "for average_power_norm_, average_power_epochs_ in zip(\n",
    "    average_power_norm, average_power_epochs\n",
    "):\n",
    "    out0, out1, out2, out3 = detect_peak_frequencies(\n",
    "        average_power_norm_, average_power_epochs_, prominence=0.01\n",
    "    )\n",
    "    peak_power += [out0]\n",
    "    peak_freqs += [out1]\n",
    "    peak_prominences += [out2]\n",
    "    rois += [out3]"
   ]
  },
  {
   "cell_type": "code",
   "execution_count": 10,
   "id": "9d500339-7a62-4e8e-863f-67aa7a84fbf8",
   "metadata": {},
   "outputs": [],
   "source": [
    "# Do it for each epoch\n",
    "has_peaks = []\n",
    "freqs_array = []\n",
    "prominences_array = []\n",
    "power_array = []\n",
    "\n",
    "for i in range(5):\n",
    "    out = check_peaks(peak_power[i], peak_freqs[i], peak_prominences[i], rois[i])\n",
    "    has_peaks += [out[0]]\n",
    "    freqs_array += [out[1]]\n",
    "    prominences_array += [out[2]]\n",
    "    power_array += [out[3]]\n",
    "\n",
    "\n",
    "has_peaks = xr.DataArray(\n",
    "    np.stack(has_peaks, axis=1).squeeze(),\n",
    "    dims=(\"roi\", \"epochs\", \"bands\"),\n",
    "    coords={\"roi\": average_power_norm.roi.data},\n",
    ")"
   ]
  },
  {
   "cell_type": "markdown",
   "id": "2b0d2220-e1c4-4f0e-b676-34ec8e1d17eb",
   "metadata": {},
   "source": [
    "###########################################################################\n",
    "##### Concatenate peak freq and prominences for each epoch\n",
    "###########################################################################"
   ]
  },
  {
   "cell_type": "code",
   "execution_count": 11,
   "id": "7eb8d027-8930-43e8-9a78-1a88233bd215",
   "metadata": {},
   "outputs": [],
   "source": [
    "peak_freqs = np.zeros((5, len(unique_rois)))\n",
    "peak_power = np.zeros((5, len(unique_rois)))\n",
    "\n",
    "for i in range(5):\n",
    "    for j, roi_ in enumerate(unique_rois):\n",
    "        try:\n",
    "            index = int(prominences_array[i].sel(roi=roi_).argmax())\n",
    "            peak_freqs[i, j] = np.atleast_1d(freqs_array[i].sel(roi=roi_).values)[index]\n",
    "            peak_power[i, j] = np.atleast_1d(power_array[i].sel(roi=roi_).values)[index]\n",
    "        except:\n",
    "            peak_freqs[i, j] = np.nan\n",
    "            peak_power[i, j] = np.nan\n",
    "\n",
    "peak_freqs = xr.DataArray(\n",
    "    peak_freqs, dims=(\"epochs\", \"roi\"), coords={\"roi\": unique_rois}\n",
    ")\n",
    "\n",
    "peak_power = xr.DataArray(\n",
    "    peak_power, dims=(\"epochs\", \"roi\"), coords={\"roi\": unique_rois}\n",
    ")"
   ]
  },
  {
   "cell_type": "markdown",
   "id": "3c225876-4150-4a5c-ae18-9b821070424b",
   "metadata": {},
   "source": [
    "###########################################################################\n",
    "#### All sessions\n",
    "###########################################################################"
   ]
  },
  {
   "cell_type": "code",
   "execution_count": 17,
   "id": "983fb468-5907-4e4e-a99f-7bbcf6512338",
   "metadata": {},
   "outputs": [
    {
     "name": "stderr",
     "output_type": "stream",
     "text": [
      "100%|█████████████████████████████████████████████| 1/1 [00:00<00:00,  5.90it/s]\n"
     ]
    }
   ],
   "source": [
    "session_numbers = get_dates(monkey)\n",
    "\n",
    "for session_number in tqdm([\"141017\"]):\n",
    "\n",
    "    ####################################################### SAVE PATH #######################################################\n",
    "    _SAVE = os.path.expanduser(\n",
    "        f\"/home/INT/lima.v/Results/phase_encoding/psd/{monkey}/{session_number}\"\n",
    "    )\n",
    "\n",
    "    average_power_epochs = xr.load_dataarray(\n",
    "        f\"/home/INT/lima.v/Results/phase_encoding/psd/lucy/{session_number}/sxx.nc\"\n",
    "    )\n",
    "\n",
    "    # Normalize spectra\n",
    "    average_power_norm = average_power_epochs / average_power_epochs.max(\"freqs\")\n",
    "\n",
    "    unique_rois = average_power_norm.roi.values\n",
    "\n",
    "    peak_power, peak_freqs, peak_prominences, rois = [], [], [], []\n",
    "\n",
    "    for average_power_norm_, average_power_epochs_ in zip(\n",
    "        average_power_norm, average_power_epochs\n",
    "    ):\n",
    "        out0, out1, out2, out3 = detect_peak_frequencies(\n",
    "            average_power_norm_, average_power_epochs_, prominence=0.01\n",
    "        )\n",
    "        peak_power += [out0]\n",
    "        peak_freqs += [out1]\n",
    "        peak_prominences += [out2]\n",
    "        rois += [out3]\n",
    "\n",
    "    # Do it for each epoch\n",
    "    has_peaks = []\n",
    "    freqs_array = []\n",
    "    prominences_array = []\n",
    "    power_array = []\n",
    "\n",
    "    for i in range(5):\n",
    "        out = check_peaks(peak_power[i], peak_freqs[i], peak_prominences[i], rois[i])\n",
    "        has_peaks += [out[0]]\n",
    "        freqs_array += [out[1]]\n",
    "        prominences_array += [out[2]]\n",
    "        power_array += [out[3]]\n",
    "\n",
    "    has_peaks = xr.DataArray(\n",
    "        np.stack(has_peaks, axis=1).squeeze(),\n",
    "        dims=(\"roi\", \"epochs\", \"bands\"),\n",
    "        coords={\"roi\": average_power_norm.roi.data},\n",
    "    )\n",
    "\n",
    "    peak_freqs = np.zeros((5, len(unique_rois)))\n",
    "    peak_power = np.zeros((5, len(unique_rois)))\n",
    "\n",
    "    for i in range(5):\n",
    "        for j, roi_ in enumerate(unique_rois):\n",
    "            if has_peaks[:, i].sel(roi=roi_).values.any():\n",
    "                index = int(prominences_array[i].sel(roi=roi_).argmax())\n",
    "                #index = int(freqs_array[i].sel(roi=roi_).argmax())\n",
    "                peak_freqs[i, j] = np.atleast_1d(freqs_array[i].sel(roi=roi_).values)[\n",
    "                    index\n",
    "                ]\n",
    "                peak_power[i, j] = np.atleast_1d(power_array[i].sel(roi=roi_).values)[\n",
    "                    index\n",
    "                ]\n",
    "            else:\n",
    "                peak_freqs[i, j] = np.nan\n",
    "                peak_power[i, j] = np.nan\n",
    "\n",
    "    peak_freqs = xr.DataArray(\n",
    "        peak_freqs, dims=(\"epochs\", \"roi\"), coords={\"roi\": unique_rois}\n",
    "    )\n",
    "\n",
    "    peak_power = xr.DataArray(\n",
    "        peak_power, dims=(\"epochs\", \"roi\"), coords={\"roi\": unique_rois}\n",
    "    )\n",
    "\n",
    "    peak_freqs.to_netcdf(os.path.join(_SAVE, \"peak_freqs.nc\"))\n",
    "    peak_power.to_netcdf(os.path.join(_SAVE, \"peak_power.nc\"))"
   ]
  }
 ],
 "metadata": {
  "kernelspec": {
   "display_name": "Python 3 (ipykernel)",
   "language": "python",
   "name": "python3"
  },
  "language_info": {
   "codemirror_mode": {
    "name": "ipython",
    "version": 3
   },
   "file_extension": ".py",
   "mimetype": "text/x-python",
   "name": "python",
   "nbconvert_exporter": "python",
   "pygments_lexer": "ipython3",
   "version": "3.11.10"
  }
 },
 "nbformat": 4,
 "nbformat_minor": 5
}
