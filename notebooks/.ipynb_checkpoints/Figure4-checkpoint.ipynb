{
 "cells": [
  {
   "cell_type": "markdown",
   "id": "bbd44537-b80c-4f15-91ba-866b0e71ed71",
   "metadata": {},
   "source": [
    "### Whole-brain model "
   ]
  },
  {
   "cell_type": "code",
   "execution_count": 1,
   "id": "0078368e-4acf-4810-ab76-4a4ff06b634d",
   "metadata": {},
   "outputs": [],
   "source": [
    "import sys\n",
    "import os\n",
    "\n",
    "sys.path.insert(1, os.path.expanduser(\"~/projects/phase_amplitude_encoding\"))"
   ]
  },
  {
   "cell_type": "code",
   "execution_count": 2,
   "id": "14284b0a-b4b3-4c27-85e7-9e6885a688b1",
   "metadata": {},
   "outputs": [
    {
     "name": "stderr",
     "output_type": "stream",
     "text": [
      "/opt/anaconda3/envs/test_env/lib/python3.10/site-packages/tqdm/auto.py:21: TqdmWarning: IProgress not found. Please update jupyter and ipywidgets. See https://ipywidgets.readthedocs.io/en/stable/user_install.html\n",
      "  from .autonotebook import tqdm as notebook_tqdm\n"
     ]
    }
   ],
   "source": [
    "\n",
    "import jax\n",
    "import matplotlib.pyplot as plt\n",
    "import numpy as np\n",
    "import scipy\n",
    "import xarray as xr\n",
    "from frites.core import copnorm_nd\n",
    "from hoi.core import get_mi\n",
    "from mne.time_frequency import psd_array_multitaper\n",
    "from mne.time_frequency.tfr import tfr_array_morlet, tfr_array_multitaper\n",
    "from sklearn.metrics import mean_squared_error\n",
    "from tqdm import tqdm\n",
    "\n",
    "from src.models import simulate, simulate_delayed"
   ]
  },
  {
   "cell_type": "code",
   "execution_count": 3,
   "id": "ee15cb0f-b4fd-4385-a220-274e6e2346b2",
   "metadata": {},
   "outputs": [],
   "source": [
    "jax.config.update(\"jax_platform_name\", \"cpu\")"
   ]
  },
  {
   "cell_type": "markdown",
   "id": "ee5d0198-e79b-42e6-babe-c68d603a891b",
   "metadata": {},
   "source": [
    "#### Load anatomical data"
   ]
  },
  {
   "cell_type": "code",
   "execution_count": 4,
   "id": "ae5de573-6d7a-42b3-a5d3-12c9f3fd9e1a",
   "metadata": {},
   "outputs": [],
   "source": [
    "area_names = [\n",
    "    \"V1\",\n",
    "    \"V2\",\n",
    "    \"V4\",\n",
    "    \"DP\",\n",
    "    \"MT\",\n",
    "    \"8m\",\n",
    "    \"5\",\n",
    "    \"8l\",\n",
    "    \"TEO\",\n",
    "    \"2\",\n",
    "    \"F1\",\n",
    "    \"STPc\",\n",
    "    \"7A\",\n",
    "    \"46d\",\n",
    "    \"10\",\n",
    "    \"9/46v\",\n",
    "    \"9/46d\",\n",
    "    \"F5\",\n",
    "    \"TEpd\",\n",
    "    \"PBr\",\n",
    "    \"7m\",\n",
    "    \"7B\",\n",
    "    \"F2\",\n",
    "    \"STPi\",\n",
    "    \"PROm\",\n",
    "    \"F7\",\n",
    "    \"8B\",\n",
    "    \"STPr\",\n",
    "    \"24c\",\n",
    "]"
   ]
  },
  {
   "cell_type": "code",
   "execution_count": 5,
   "id": "f0a12dec-a53b-4b02-a79b-22cad1610851",
   "metadata": {},
   "outputs": [],
   "source": [
    "data = np.load(\"../interareal/markov2014.npy\", allow_pickle=True).item()\n",
    "\n",
    "# Graph parameters\n",
    "Nareas = 29  # Number of areas\n",
    "# FLN matrix\n",
    "flnMat = data[\"FLN\"]\n",
    "# Distance matrix\n",
    "D = data[\"Distances\"] * 1e-3 / 3.5\n",
    "# Hierarchy values\n",
    "h = np.squeeze(data[\"Hierarchy\"].T)\n",
    "\n",
    "eta = 0"
   ]
  },
  {
   "cell_type": "markdown",
   "id": "bdf24260-f9d1-4e8b-99d3-9d883d544026",
   "metadata": {},
   "source": [
    "#### Simulation parameters"
   ]
  },
  {
   "cell_type": "code",
   "execution_count": 6,
   "id": "a68ea0ff-213a-4f4e-b0c4-08b883a0278d",
   "metadata": {},
   "outputs": [],
   "source": [
    "ntrials = 300\n",
    "dt = 1e-4\n",
    "fsamp = 1 / dt\n",
    "time = np.arange(-4, 2, 1 / fsamp)\n",
    "beta = 1e-4\n",
    "Npoints = len(time)\n",
    "decim = 20\n",
    "f = 10  # np.linspace(20, 60, Nareas)[::-1]  # Node natural frequency in Hz\n",
    "D = (D / dt).astype(int)\n",
    "flnMat = (1 + eta * h)[:, np.newaxis] * flnMat\n",
    "\n",
    "seeds = np.random.randint(0, 10000, ntrials)"
   ]
  },
  {
   "cell_type": "code",
   "execution_count": 7,
   "id": "c2f3b2a6-167b-4729-b3a1-13ab0edbce1e",
   "metadata": {},
   "outputs": [],
   "source": [
    "s = 8 / (2 * np.pi * f)\n",
    "\n",
    "time_start = 0\n",
    "time_end = 0.5\n",
    "timestim = time[(time > time_start) & (time < time_end)] - (time_end - time_start) / 2\n",
    "ind = np.where((time > time_start) & (time < time_end))[0]\n",
    "gaussian = np.exp(-(timestim**2) / (2 * s**2))\n",
    "coupling = np.zeros_like(time)\n",
    "coupling = (time > time_start) & (time < time_end)\n",
    "\n",
    "# Coupling strength array (linearly spaced from 1 to 100)\n",
    "CS = np.linspace(0, 1e-2, ntrials)\n",
    "seeds = np.random.randint(0, 100000, ntrials)"
   ]
  },
  {
   "cell_type": "code",
   "execution_count": 8,
   "id": "aa7ec088-048e-4894-b87f-e0e2afeac534",
   "metadata": {},
   "outputs": [],
   "source": [
    "coupling = CS[:, None] * coupling"
   ]
  },
  {
   "cell_type": "code",
   "execution_count": 9,
   "id": "f80a8283-b7e9-43f7-b9ac-813bb6148026",
   "metadata": {},
   "outputs": [],
   "source": [
    "Iext = np.zeros((ntrials, Nareas, len(time)))\n",
    "Iext[:, 0] = coupling"
   ]
  },
  {
   "cell_type": "code",
   "execution_count": null,
   "id": "aa88f5e0-8a84-450a-b8cc-719d4cacfef3",
   "metadata": {},
   "outputs": [
    {
     "name": "stderr",
     "output_type": "stream",
     "text": [
      " 20%|██████████████████████                                                                                        | 60/300 [00:14<00:59,  4.05it/s]"
     ]
    }
   ],
   "source": [
    "out = []\n",
    "for trial in tqdm(range(ntrials)):\n",
    "\n",
    "    out += [\n",
    "        simulate(\n",
    "            flnMat,\n",
    "            1,#oupling[trial],\n",
    "            f,\n",
    "            -5,\n",
    "            fsamp,\n",
    "            1e-4,\n",
    "            Npoints,\n",
    "            Iext[trial],\n",
    "            seeds[trial],\n",
    "            decim=decim,\n",
    "            stim_mode=\"both\",\n",
    "        )\n",
    "    ]"
   ]
  },
  {
   "cell_type": "markdown",
   "id": "d08225c9-832e-40a3-a492-429544271770",
   "metadata": {},
   "source": [
    "#### Convert to xarray"
   ]
  },
  {
   "cell_type": "code",
   "execution_count": null,
   "id": "5beba420-c691-44ba-aacf-d3694747189d",
   "metadata": {},
   "outputs": [],
   "source": [
    "data = xr.DataArray(\n",
    "    np.stack(out),\n",
    "    dims=(\"trials\", \"roi\", \"times\"),\n",
    "    coords=(range(ntrials), area_names, time[::decim]),\n",
    ").sel(times=slice(-2, 2))"
   ]
  },
  {
   "cell_type": "code",
   "execution_count": null,
   "id": "ff6e36aa-5da7-4d18-8e76-f3a84b1520a4",
   "metadata": {},
   "outputs": [],
   "source": [
    "plt.figure(figsize=(10 / 2.54, 8 / 2.54))\n",
    "ax = plt.subplot(111)\n",
    "z_data = (data - data.mean(\"times\")) / data.std(\"times\")\n",
    "for i, roi in enumerate([\"V1\", \"V4\", \"8m\", \"8l\", \"TEO\", \"7A\", \"9/46d\", \"TEpd\", \"24c\"]):\n",
    "    plt.plot(z_data[-1].times, z_data[-1].values[i].real + (i * 3), lw=1)\n",
    "    plt.text(-2.7, i * 3, roi, fontsize=9)\n",
    "mask = (time >= -2) * (time <= 2)\n",
    "plt.plot(time[mask], (Iext[-1, 0, mask] * 100 - 3) , \"k\")\n",
    "plt.axis(\"off\");\n",
    "\n",
    "plt.savefig(\"figures/wbm_time_series.png\", bbox_inches=\"tight\")"
   ]
  },
  {
   "cell_type": "code",
   "execution_count": null,
   "id": "375628d8-c897-4377-9b61-2a2f808b38b8",
   "metadata": {},
   "outputs": [],
   "source": [
    "labels = np.tile(np.expand_dims(CS, 1), data.sizes[\"times\"])"
   ]
  },
  {
   "cell_type": "code",
   "execution_count": null,
   "id": "99f5e7dc-0315-4cf5-9346-1b321da13ec9",
   "metadata": {},
   "outputs": [],
   "source": [
    "mi_fcn = get_mi(\"gc\")\n",
    "mi_fcn_time = jax.vmap(mi_fcn, in_axes=(2, 2, None, None))"
   ]
  },
  {
   "cell_type": "code",
   "execution_count": null,
   "id": "9a2c4173-bdf3-471b-b126-d3fa3b1d0583",
   "metadata": {},
   "outputs": [],
   "source": [
    "I_S_R1 = []\n",
    "I_S_R2 = []\n",
    "I_S_R1_R2 = []\n",
    "for i in tqdm(range(1, Nareas)):\n",
    "\n",
    "    z = data.isel(roi=0) * np.conj(data.isel(roi=i))\n",
    "    A = np.abs(z).values\n",
    "    dphi = np.unwrap( np.angle(z) )\n",
    "    mv = np.stack((A, dphi), axis=0)\n",
    "    \n",
    "    I_S_R1 += [mi_fcn_time(A[None], labels[None], False, True)]\n",
    "    I_S_R2 += [mi_fcn_time(dphi[None], labels[None], False, True)]\n",
    "    I_S_R1_R2 += [mi_fcn_time(mv, labels[None], False, True)]"
   ]
  },
  {
   "cell_type": "code",
   "execution_count": null,
   "id": "790e63ac-426d-4ce9-817f-5e231df24852",
   "metadata": {},
   "outputs": [],
   "source": [
    "I_S_R1 = np.stack(I_S_R1)\n",
    "I_S_R2 = np.stack(I_S_R2)\n",
    "I_S_R1_R2 = np.stack(I_S_R1_R2)"
   ]
  },
  {
   "cell_type": "code",
   "execution_count": null,
   "id": "072c4d68-4cd9-4629-834c-fb4b720727e6",
   "metadata": {},
   "outputs": [],
   "source": [
    "kernel = np.hanning(20)\n",
    "kernel = kernel / kernel.sum()\n",
    "kernel = kernel[None]\n",
    "\n",
    "I_S_R1 = scipy.signal.fftconvolve(I_S_R1, kernel , mode=\"same\", axes=1)\n",
    "I_S_R2 = scipy.signal.fftconvolve(I_S_R2, kernel, mode=\"same\", axes=1)\n",
    "I_S_R1_R2 = scipy.signal.fftconvolve(I_S_R1_R2, kernel, mode=\"same\", axes=1)"
   ]
  },
  {
   "cell_type": "code",
   "execution_count": null,
   "id": "9dd14a07-698a-422e-8f07-771631e2759b",
   "metadata": {},
   "outputs": [],
   "source": [
    "fig = plt.figure(figsize=(20 / 2.54, 6 / 2.54))\n",
    "\n",
    "ax = plt.subplot(1, 3, 1)\n",
    "\n",
    "plt.plot(z_data[-1].times, I_S_R1_R2[-1])\n",
    "plt.plot(z_data[-1].times, I_S_R1[-1])\n",
    "plt.plot(z_data[-1].times, I_S_R2[-1])\n",
    "\n",
    "plt.legend(\n",
    "    [\n",
    "        r\"I($A_{ij}, \\Delta\\theta_{ij}$; S)\",\n",
    "        r\"I($A_{ij}$; S)\",\n",
    "        r\"I($\\Delta\\theta_{ij}$; S)\",\n",
    "    ],\n",
    "    frameon=False,\n",
    "    fontsize=9\n",
    ")\n",
    "\n",
    "plt.ylabel(\"[bits]\", fontsize=12)\n",
    "plt.xlabel(\"Time [s]\", fontsize=12)\n",
    "plt.xlim(-2, 2)\n",
    "\n",
    "[ax.spines[key].set_visible(False) for key in [\"top\", \"right\"]]\n",
    "\n",
    "ax = plt.subplot(1, 3, 2)\n",
    "\n",
    "red = np.minimum(I_S_R2[-1], I_S_R1[-1])\n",
    "syn = I_S_R1_R2[-1] - np.maximum(I_S_R2[-1], I_S_R1[-1])\n",
    "\n",
    "plt.plot(data.times, red)\n",
    "plt.plot(data.times, syn)\n",
    "\n",
    "plt.legend(\n",
    "    [\n",
    "        r\"Red[$A_{ij}, \\Delta\\theta_{ij}$]\",\n",
    "        r\"Syn[$A_{ij}, \\Delta\\theta_{ij}$]\",\n",
    "    ],\n",
    "    frameon=False,\n",
    ")\n",
    "\n",
    "[ax.spines[key].set_visible(False) for key in [\"top\", \"right\"]]\n",
    "plt.xlabel(\"Time [s]\", fontsize=12)\n",
    "\n",
    "ax = plt.subplot(1, 3, 3)\n",
    "\n",
    "syn = I_S_R1_R2[-1] - np.maximum(I_S_R2[-1], I_S_R1[-1])\n",
    "\n",
    "plt.plot(data.times, I_S_R1[-1] - syn)\n",
    "plt.plot(data.times, I_S_R2[-1] - syn)\n",
    "\n",
    "plt.legend(\n",
    "    [\n",
    "        r\"Un[$A_{ij}, \\Delta\\theta_{ij}$]\",\n",
    "        r\"Un[$A_{ij}, \\Delta\\theta_{ij}$]\",\n",
    "    ],\n",
    "    frameon=False,\n",
    ")\n",
    "plt.xlabel(\"Time [s]\", fontsize=12)\n",
    "\n",
    "[ax.spines[key].set_visible(False) for key in [\"top\", \"right\"]]\n",
    "\n",
    "plt.subplots_adjust(wspace=.3)\n",
    "plt.suptitle(\"Disasociating phase and amplitude encoding in the whomle brain model\")\n",
    "\n",
    "plt.savefig(\"figures/disasociating.png\", bbox_inches=\"tight\")"
   ]
  },
  {
   "cell_type": "markdown",
   "id": "3101c408-2b42-40da-ae8f-d2a60345d0e9",
   "metadata": {},
   "source": [
    "#### High-oder phase-interactions"
   ]
  },
  {
   "cell_type": "code",
   "execution_count": null,
   "id": "79c7eefa-80fb-4790-ab36-1074bcbf8776",
   "metadata": {},
   "outputs": [],
   "source": [
    "from hoi.metrics import SynergyMMI, RedundancyMMI"
   ]
  },
  {
   "cell_type": "code",
   "execution_count": null,
   "id": "265ad97d-15e9-4953-9b8b-d4cb490dcd69",
   "metadata": {},
   "outputs": [],
   "source": [
    "edges = []\n",
    "\n",
    "x_s, x_t = np.triu_indices(Nareas, k=1)\n",
    "\n",
    "roi_st = [f\"{area_names[s]}-{area_names[t]}\" for s, t in zip(x_s, x_t) ]"
   ]
  },
  {
   "cell_type": "code",
   "execution_count": null,
   "id": "3e89f073-abd0-455e-83c1-8cf0c27a2065",
   "metadata": {},
   "outputs": [],
   "source": [
    "for s, t in zip(x_s, x_t):\n",
    "        phi = np.unwrap( np.angle( data[:, 0] * np.conj(data[:, t]) ) )\n",
    "        edges += [phi]"
   ]
  },
  {
   "cell_type": "code",
   "execution_count": null,
   "id": "96429109-0148-4263-add7-6aa9ef1209b1",
   "metadata": {},
   "outputs": [],
   "source": [
    "edges = np.stack(edges, 1)"
   ]
  },
  {
   "cell_type": "code",
   "execution_count": null,
   "id": "7602c0a3-509e-4bb2-bd76-2f0271d1f8cc",
   "metadata": {},
   "outputs": [],
   "source": [
    "edges = xr.DataArray(edges,\n",
    "                     dims=data.dims,\n",
    "                     coords=(data.trials, roi_st, data.times))"
   ]
  },
  {
   "cell_type": "code",
   "execution_count": null,
   "id": "ea18f192-58c1-4f40-b121-d01cdb486556",
   "metadata": {},
   "outputs": [],
   "source": [
    "model_red = RedundancyMMI(edges,\n",
    "                          CS.astype(np.float_))\n",
    "\n",
    "model_syn = SynergyMMI(edges,\n",
    "                          CS.astype(np.float_))"
   ]
  },
  {
   "cell_type": "code",
   "execution_count": null,
   "id": "2f55a4d8-fe78-4295-8bd7-8d2f7f214bdc",
   "metadata": {},
   "outputs": [],
   "source": [
    "red = model_red.fit(minsize=2, maxsize=2)\n",
    "\n",
    "syn = model_syn.fit(minsize=2, maxsize=2)"
   ]
  },
  {
   "cell_type": "code",
   "execution_count": null,
   "id": "ba09c04d-380a-44de-9117-d4a4351bc9b9",
   "metadata": {},
   "outputs": [],
   "source": [
    "red.shape"
   ]
  },
  {
   "cell_type": "code",
   "execution_count": null,
   "id": "1eac7f3b-b97b-4b7d-8812-3bc1318b49e9",
   "metadata": {},
   "outputs": [],
   "source": [
    "plt.figure(figsize=(8 / 2.54, 8 / 2.54))\n",
    "ax = plt.subplot(111)\n",
    "plt.plot(data.times, red.mean(0), \"r\", label=r\"Red[$\\Delta\\theta_{ij}$, $\\Delta\\theta_{kl}$]\")\n",
    "plt.plot(data.times, np.nanmean(syn, 0), \"b\", label=r\"Syn[$\\Delta\\theta_{ij}$, $\\Delta\\theta_{kl}$]\")\n",
    "plt.legend(frameon=False)\n",
    "[ax.spines[key].set_visible(False) for key in [\"top\", \"right\"]]"
   ]
  },
  {
   "cell_type": "code",
   "execution_count": null,
   "id": "3ca6a7fe-65d1-4b41-a24e-10c06b5b601a",
   "metadata": {},
   "outputs": [],
   "source": []
  }
 ],
 "metadata": {
  "kernelspec": {
   "display_name": "Python 3 (ipykernel)",
   "language": "python",
   "name": "python3"
  },
  "language_info": {
   "codemirror_mode": {
    "name": "ipython",
    "version": 3
   },
   "file_extension": ".py",
   "mimetype": "text/x-python",
   "name": "python",
   "nbconvert_exporter": "python",
   "pygments_lexer": "ipython3",
   "version": "3.10.15"
  }
 },
 "nbformat": 4,
 "nbformat_minor": 5
}
