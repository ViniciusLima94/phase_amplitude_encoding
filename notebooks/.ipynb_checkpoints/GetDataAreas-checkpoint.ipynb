{
 "cells": [
  {
   "cell_type": "markdown",
   "id": "9e18b8d4-8377-4241-a63f-9afd8f0f321a",
   "metadata": {},
   "source": [
    "### Compute power spectra for the data"
   ]
  },
  {
   "cell_type": "code",
   "execution_count": 1,
   "id": "c0ccc859-8eba-40f3-bcfe-c0b1a46b8ab4",
   "metadata": {},
   "outputs": [],
   "source": [
    "import sys\n",
    "\n",
    "sys.path.insert(1, \"/home/INT/lima.v/projects/phase_coupling_analysis\")"
   ]
  },
  {
   "cell_type": "code",
   "execution_count": 2,
   "id": "2d156f0f-5580-48f0-ad24-85504ea9bf03",
   "metadata": {},
   "outputs": [],
   "source": [
    "import argparse\n",
    "import os\n",
    "\n",
    "import numpy as np\n",
    "import xarray as xr\n",
    "from tqdm import tqdm\n",
    "\n",
    "from src.metrics.spectral import xr_psd_array_multitaper\n",
    "from src.session import session\n",
    "\n",
    "# from src.session import session\n",
    "from src.util import _extract_roi, get_dates"
   ]
  },
  {
   "cell_type": "markdown",
   "id": "38f151c3-a750-4519-9850-7db1e30e2a99",
   "metadata": {},
   "source": [
    "###############################################################################\n",
    "##### Functions\n",
    "###############################################################################"
   ]
  },
  {
   "cell_type": "markdown",
   "id": "8f1e85b6-3c02-4288-aca4-6eae8f2f0786",
   "metadata": {},
   "source": [
    "###############################################################################\n",
    "##### Load power files\n",
    "###############################################################################"
   ]
  },
  {
   "cell_type": "code",
   "execution_count": 3,
   "id": "e4c8df01-4787-40f0-b171-43fd42fc8abf",
   "metadata": {},
   "outputs": [],
   "source": [
    "session_numbers = os.listdir(\"/home/INT/lima.v/Results/phase_encoding/psd/lucy\")"
   ]
  },
  {
   "cell_type": "code",
   "execution_count": 4,
   "id": "5c655892-3d8b-4ec8-90aa-b0686b4e4eb9",
   "metadata": {},
   "outputs": [
    {
     "name": "stderr",
     "output_type": "stream",
     "text": [
      "100%|█████████████████████████████████████████████████████████| 62/62 [00:00<00:00, 771.94it/s]\n"
     ]
    }
   ],
   "source": [
    "rois = []\n",
    "\n",
    "for session in tqdm(session_numbers):\n",
    "\n",
    "    roi = xr.open_dataarray(\n",
    "        f\"/home/INT/lima.v/Results/phase_encoding/psd/lucy/{session}/sxx.nc\"\n",
    "    ).roi.values\n",
    "    rois += [roi]"
   ]
  },
  {
   "cell_type": "code",
   "execution_count": 5,
   "id": "d3df00f2-9d00-4aca-9079-2ccc7d6fc452",
   "metadata": {},
   "outputs": [
    {
     "data": {
      "text/plain": [
       "array(['AIP', 'Core', 'DP', 'F1', 'F2', 'F6', 'F7', 'FST', 'Ins', 'LIP',\n",
       "       'MB', 'MIP', 'MST', 'MT', 'OPRO', 'PBr', 'PIP', 'SII', 'STPc',\n",
       "       'TPt', 'V1', 'V2', 'V3', 'V3A', 'V4', 'V4t', 'V6A', 'VIP', 'a1',\n",
       "       'a11', 'a12', 'a13', 'a14', 'a2', 'a23', 'a24D', 'a24c', 'a3',\n",
       "       'a32', 'a44', 'a45A', 'a45B', 'a46D', 'a46V', 'a5', 'a7A', 'a7B',\n",
       "       'a7M', 'a7op', 'a8B', 'a8L', 'a8M', 'a8r', 'a9/46D', 'a9/46V'],\n",
       "      dtype='<U9')"
      ]
     },
     "execution_count": 5,
     "metadata": {},
     "output_type": "execute_result"
    }
   ],
   "source": [
    "rois = np.unique(_extract_roi(np.hstack(rois), \"_\")[1])\n",
    "\n",
    "sca = [\"Caudate\", \"Claustrum\", \"Thal\", \"Putamen\"]\n",
    "\n",
    "idx = np.logical_not([s in sca for s in rois])\n",
    "\n",
    "rois[idx]"
   ]
  },
  {
   "cell_type": "markdown",
   "id": "15703e76-ab88-4c23-a164-613e5c2d6a42",
   "metadata": {},
   "source": [
    "###########################################################################\n",
    "##### Load power\n",
    "###########################################################################"
   ]
  },
  {
   "cell_type": "code",
   "execution_count": 6,
   "id": "8b497ba3-1e3d-4666-8ff6-7d311af7d7d2",
   "metadata": {},
   "outputs": [
    {
     "name": "stderr",
     "output_type": "stream",
     "text": [
      "100%|█████████████████████████████████████████████████████████| 62/62 [00:00<00:00, 578.48it/s]\n"
     ]
    }
   ],
   "source": [
    "sxx = []\n",
    "\n",
    "for session in tqdm(session_numbers):\n",
    "\n",
    "    temp = xr.open_dataarray(\n",
    "        f\"/home/INT/lima.v/Results/phase_encoding/psd/lucy/{session}/sxx.nc\"\n",
    "    )\n",
    "\n",
    "    sxx += [temp.assign_coords({\"roi\": _extract_roi(temp.roi.values, \"_\")[1]})]\n",
    "\n",
    "sxx = xr.concat(sxx[0], \"roi\")"
   ]
  },
  {
   "cell_type": "code",
   "execution_count": 7,
   "id": "78e6fc5d-0282-466c-b519-81d3e3a9c7c7",
   "metadata": {},
   "outputs": [],
   "source": [
    "train_set = []\n",
    "\n",
    "for i in range(1000):\n",
    "\n",
    "    # Assuming 'sxx' is your xarray with dimensions (roi: 320, freqs: 32)\n",
    "\n",
    "    # Step 1: Identify unique 'roi' values\n",
    "    unique_rois = np.unique(sxx.roi.values)\n",
    "\n",
    "    # Step 2: Sample one entry for each unique 'roi'\n",
    "    sampled_indices = []\n",
    "    for roi in unique_rois:\n",
    "        # Get the indices where the current roi appears\n",
    "        roi_indices = np.where(sxx.roi.values == roi)[0]\n",
    "        # Randomly sample one index from those indices\n",
    "        sampled_index = np.random.choice(roi_indices)\n",
    "        sampled_indices.append(sampled_index)\n",
    "\n",
    "    # Step 3: Use isel to select the sampled indices\n",
    "    train_set += [sxx.isel(roi=sampled_indices)]"
   ]
  },
  {
   "cell_type": "code",
   "execution_count": 8,
   "id": "3b33e114-c0ab-4db6-814b-f8f00c710229",
   "metadata": {},
   "outputs": [],
   "source": [
    "def gen_data(n_trials):\n",
    "\n",
    "    train_set = []\n",
    "\n",
    "    for i in range(n_trials):\n",
    "\n",
    "        unique_rois = np.unique(sxx.roi.values)\n",
    "\n",
    "        # Step 2: Sample one entry for each unique 'roi'\n",
    "        sampled_indices = []\n",
    "        for roi in unique_rois:\n",
    "            # Get the indices where the current roi appears\n",
    "            roi_indices = np.where(sxx.roi.values == roi)[0]\n",
    "            # Randomly sample one index from those indices\n",
    "            sampled_index = np.random.choice(roi_indices)\n",
    "            sampled_indices.append(sampled_index)\n",
    "\n",
    "        # Step 3: Use isel to select the sampled indices\n",
    "        train_set += [sxx.isel(roi=sampled_indices)]\n",
    "\n",
    "    return train_set"
   ]
  },
  {
   "cell_type": "markdown",
   "id": "38184b9e-a853-413d-a8a8-560ae635470d",
   "metadata": {},
   "source": [
    "###########################################################################\n",
    "##### RNN\n",
    "###########################################################################"
   ]
  },
  {
   "cell_type": "code",
   "execution_count": 9,
   "id": "42ca8f65-0cb0-4ce0-8f74-ea2bb35f4712",
   "metadata": {},
   "outputs": [],
   "source": [
    "import matplotlib.pyplot as plt\n",
    "import numpy as np\n",
    "import torch\n",
    "import torchvision\n",
    "from torch.utils.data import DataLoader, Dataset\n",
    "from tqdm import tqdm"
   ]
  },
  {
   "cell_type": "code",
   "execution_count": 47,
   "id": "a6586f60-a18e-44a0-b764-2c39c478c658",
   "metadata": {},
   "outputs": [],
   "source": [
    "import numpy as np\n",
    "import torch\n",
    "import torch.nn as nn\n",
    "import torch.optim as optim\n",
    "\n",
    "\n",
    "class SLM(nn.Module):\n",
    "    def __init__(self, n_nodes: int, g: float, f: float, h: float, eta: float):\n",
    "        super().__init__()\n",
    "\n",
    "        # Network parameters\n",
    "        self.n_nodes = n_nodes\n",
    "\n",
    "        # Node parameters\n",
    "        self.a = nn.Parameter(-5 * torch.rand(n_nodes))\n",
    "        self.g = g\n",
    "        self.eta = nn.Parameter(eta * torch.sqrt(torch.tensor(h)))\n",
    "        if isinstance(f, (int, float)):\n",
    "            self.f = f * torch.ones(n_nodes)\n",
    "        else:\n",
    "            self.f = 60 * torch.rand(n_nodes) + 20\n",
    "\n",
    "        self.f = nn.Parameter(2 * torch.pi * self.f)\n",
    "\n",
    "        # Simulation parameters\n",
    "        self.h = h\n",
    "\n",
    "        # Recurrent connections\n",
    "        self.W_rec = nn.Parameter(torch.rand((n_nodes, n_nodes)) * 0.1)\n",
    "\n",
    "    def __ode(self, z: torch.Tensor, a: torch.Tensor, w: torch.Tensor):\n",
    "        return z * (a + 1j * w - torch.abs(z) ** 2)\n",
    "\n",
    "    def loop(self, z_t: torch.Tensor):\n",
    "        z_t = (\n",
    "            z_t\n",
    "            + self.h * self.__ode(z_t, self.a, self.f)\n",
    "            + self.h * self.g * (self.W_rec * (z_t[:, None] - z_t[..., None])).sum(-1)\n",
    "            + self.eta * torch.randn(z_t.shape)\n",
    "            + self.eta * 1j * torch.randn(z_t.shape)\n",
    "        )\n",
    "\n",
    "        return z_t\n",
    "\n",
    "    def forward(self, n_trials: int, n_times: int, decim: int):\n",
    "        rec_z_t = torch.zeros(\n",
    "            n_trials, self.n_nodes, n_times // decim, dtype=torch.complex64\n",
    "        )\n",
    "        rec_z_t = torch.autograd.Variable(rec_z_t)\n",
    "\n",
    "        z_t = self.h * torch.randn(n_trials, self.n_nodes) + 1j * self.h * torch.randn(\n",
    "            n_trials, self.n_nodes\n",
    "        )\n",
    "        z_t = torch.autograd.Variable(z_t)\n",
    "\n",
    "        record_t = 0\n",
    "        for t in range(n_times):\n",
    "            z_t = self.loop(z_t)\n",
    "            if not t % decim:\n",
    "                rec_z_t[..., record_t] = z_t\n",
    "                record_t += 1\n",
    "\n",
    "        # Compute the power spectrum (spectral power)\n",
    "        # Calculate the Fourier transform of the complex-valued z_t states\n",
    "        # Use `torch.fft` to perform a fast Fourier transform (FFT)\n",
    "        fft_z_t = torch.fft.fft(rec_z_t, dim=-1)\n",
    "        power_spectrum = (\n",
    "            torch.abs(fft_z_t) ** 2\n",
    "        )  # Compute the power (magnitude squared)\n",
    "\n",
    "        # Average the power spectrum across the trials to get the final spectral power estimate\n",
    "        sxx = power_spectrum.mean(0)[..., : (n_times // decim) // 2]\n",
    "        freqs = torch.fft.fftfreq((n_times // decim), d=1 / 1000)[\n",
    "            : (n_times // decim) // 2\n",
    "        ]\n",
    "\n",
    "        return nn.Parameter(sxx[..., freqs < 80], requires_grad=True)"
   ]
  },
  {
   "cell_type": "code",
   "execution_count": 48,
   "id": "0592284f-052d-45d9-a4e8-cefcd908ec2a",
   "metadata": {},
   "outputs": [],
   "source": [
    "n_nodes = 50\n",
    "h = 1e-4\n",
    "\n",
    "model = SLM(n_nodes, 0, 40, h, 1e-2)\n",
    "\n",
    "# Loss function and optimizer\n",
    "loss = torch.nn.MSELoss(reduction=\"mean\")\n",
    "optimizer = torch.optim.AdamW(model.parameters(), lr=0.001)"
   ]
  },
  {
   "cell_type": "code",
   "execution_count": 49,
   "id": "9f78cdc2-d0b9-49fb-836e-23688a3784ab",
   "metadata": {},
   "outputs": [],
   "source": [
    "freqs = torch.fft.fftfreq((4000 // 10), d=1 / 1000)[: (4000 // 10) // 2]"
   ]
  },
  {
   "cell_type": "code",
   "execution_count": 50,
   "id": "b56b0cd4-167d-4512-8389-e24b69084ce0",
   "metadata": {},
   "outputs": [
    {
     "data": {
      "text/plain": [
       "torch.Size([50, 32])"
      ]
     },
     "execution_count": 50,
     "metadata": {},
     "output_type": "execute_result"
    }
   ],
   "source": [
    "model.forward(30, 4000, 10).shape"
   ]
  },
  {
   "cell_type": "code",
   "execution_count": 51,
   "id": "14bfb992-abd7-4f89-8c90-011a656bf4f7",
   "metadata": {
    "scrolled": true
   },
   "outputs": [
    {
     "name": "stderr",
     "output_type": "stream",
     "text": [
      "  0%|                                                                   | 0/10 [00:00<?, ?it/s]"
     ]
    },
    {
     "name": "stdout",
     "output_type": "stream",
     "text": [
      "epoch 0\n"
     ]
    },
    {
     "name": "stderr",
     "output_type": "stream",
     "text": [
      " 10%|█████▉                                                     | 1/10 [00:00<00:02,  3.54it/s]"
     ]
    },
    {
     "name": "stdout",
     "output_type": "stream",
     "text": [
      "epoch 0; total_loss 0.09724903106689453\n",
      "Epoch 0, Output mean: 0.18530580401420593, Output max: 1.0\n",
      "epoch 1\n"
     ]
    },
    {
     "name": "stderr",
     "output_type": "stream",
     "text": [
      " 20%|███████████▊                                               | 2/10 [00:00<00:02,  3.54it/s]"
     ]
    },
    {
     "name": "stdout",
     "output_type": "stream",
     "text": [
      "epoch 1; total_loss 0.10864243656396866\n",
      "Epoch 1, Output mean: 0.21831580996513367, Output max: 1.0\n",
      "epoch 2\n"
     ]
    },
    {
     "name": "stderr",
     "output_type": "stream",
     "text": [
      " 30%|█████████████████▋                                         | 3/10 [00:00<00:01,  3.57it/s]"
     ]
    },
    {
     "name": "stdout",
     "output_type": "stream",
     "text": [
      "epoch 2; total_loss 0.09711252152919769\n",
      "Epoch 2, Output mean: 0.21381734311580658, Output max: 1.0\n",
      "epoch 3\n"
     ]
    },
    {
     "name": "stderr",
     "output_type": "stream",
     "text": [
      " 40%|███████████████████████▌                                   | 4/10 [00:01<00:01,  3.58it/s]"
     ]
    },
    {
     "name": "stdout",
     "output_type": "stream",
     "text": [
      "epoch 3; total_loss 0.10677137225866318\n",
      "Epoch 3, Output mean: 0.2153027355670929, Output max: 1.0\n",
      "epoch 4\n"
     ]
    },
    {
     "name": "stderr",
     "output_type": "stream",
     "text": [
      " 50%|█████████████████████████████▌                             | 5/10 [00:01<00:01,  3.58it/s]"
     ]
    },
    {
     "name": "stdout",
     "output_type": "stream",
     "text": [
      "epoch 4; total_loss 0.10273801535367966\n",
      "Epoch 4, Output mean: 0.2227768748998642, Output max: 1.0\n",
      "epoch 5\n"
     ]
    },
    {
     "name": "stderr",
     "output_type": "stream",
     "text": [
      " 60%|███████████████████████████████████▍                       | 6/10 [00:01<00:01,  3.27it/s]"
     ]
    },
    {
     "name": "stdout",
     "output_type": "stream",
     "text": [
      "epoch 5; total_loss 0.06789802759885788\n",
      "Epoch 5, Output mean: 0.13895586133003235, Output max: 1.0\n",
      "epoch 6\n"
     ]
    },
    {
     "name": "stderr",
     "output_type": "stream",
     "text": [
      " 70%|█████████████████████████████████████████▎                 | 7/10 [00:02<00:00,  3.37it/s]"
     ]
    },
    {
     "name": "stdout",
     "output_type": "stream",
     "text": [
      "epoch 6; total_loss 0.095269575715065\n",
      "Epoch 6, Output mean: 0.21849550306797028, Output max: 1.0\n",
      "epoch 7\n"
     ]
    },
    {
     "name": "stderr",
     "output_type": "stream",
     "text": [
      " 80%|███████████████████████████████████████████████▏           | 8/10 [00:02<00:00,  3.44it/s]"
     ]
    },
    {
     "name": "stdout",
     "output_type": "stream",
     "text": [
      "epoch 7; total_loss 0.09465133398771286\n",
      "Epoch 7, Output mean: 0.18373419344425201, Output max: 1.0\n",
      "epoch 8\n"
     ]
    },
    {
     "name": "stderr",
     "output_type": "stream",
     "text": [
      " 90%|█████████████████████████████████████████████████████      | 9/10 [00:02<00:00,  3.48it/s]"
     ]
    },
    {
     "name": "stdout",
     "output_type": "stream",
     "text": [
      "epoch 8; total_loss 0.11328687518835068\n",
      "Epoch 8, Output mean: 0.24392536282539368, Output max: 1.0\n",
      "epoch 9\n"
     ]
    },
    {
     "name": "stderr",
     "output_type": "stream",
     "text": [
      "100%|██████████████████████████████████████████████████████████| 10/10 [00:02<00:00,  3.49it/s]"
     ]
    },
    {
     "name": "stdout",
     "output_type": "stream",
     "text": [
      "epoch 9; total_loss 0.09866725653409958\n",
      "Epoch 9, Output mean: 0.21681682765483856, Output max: 1.0\n"
     ]
    },
    {
     "name": "stderr",
     "output_type": "stream",
     "text": [
      "\n"
     ]
    }
   ],
   "source": [
    "epochs = 10\n",
    "# Training loop\n",
    "best_eval = 0.0\n",
    "for epoch in tqdm(range(epochs)):\n",
    "    tqdm.write(f\"epoch {epoch}\")\n",
    "    train_set = xr.concat(gen_data(50), \"trials\").sel(roi=\"F1\")  # Assuming gen_data generates a batch of data\n",
    "    # Loop over batches for one epoch\n",
    "\n",
    "    model.train()\n",
    "\n",
    "    # Zero gradients\n",
    "    optimizer.zero_grad()\n",
    "\n",
    "    # Predict: Assuming output has shape (batch_size, n_rois, n_time_steps)\n",
    "    output = model.forward(1, 4000, 10)\n",
    "\n",
    "    # Normalize the output (make sure you're normalizing the correct dimension)\n",
    "    output = output / output.max(0).values[None, :]\n",
    "    sxx_ = train_set / train_set.max(\"freqs\")\n",
    "\n",
    "    # Initialize the total loss\n",
    "    total_loss = 0.0\n",
    "\n",
    "    # Compute the loss for this specific ROI\n",
    "    total_loss = loss(output, torch.as_tensor(sxx_.values, dtype=torch.float32))\n",
    "    \n",
    "\n",
    "\n",
    "    # Compute gradients (this will propagate gradients for each ROI individually)\n",
    "    total_loss.backward()\n",
    "\n",
    "        # Print the total loss for debugging\n",
    "    tqdm.write(f\"epoch {epoch}; total_loss {total_loss.item()}\")\n",
    "\n",
    "    \n",
    "    # Update parameters\n",
    "    optimizer.step()\n",
    "\n",
    "    # Print output values for debugging\n",
    "    print(f\"Epoch {epoch}, Output mean: {output.mean().item()}, Output max: {output.max().item()}\")\n"
   ]
  },
  {
   "cell_type": "code",
   "execution_count": 52,
   "id": "a9394b72-a882-4458-9c6c-89f5c490571d",
   "metadata": {},
   "outputs": [
    {
     "data": {
      "text/plain": [
       "SLM()"
      ]
     },
     "execution_count": 52,
     "metadata": {},
     "output_type": "execute_result"
    }
   ],
   "source": [
    "model.eval()"
   ]
  },
  {
   "cell_type": "code",
   "execution_count": 56,
   "id": "7fb7072c-0543-44a7-9ebe-3e05544a2985",
   "metadata": {},
   "outputs": [
    {
     "data": {
      "text/plain": [
       "[<matplotlib.lines.Line2D at 0x7c60880c8550>]"
      ]
     },
     "execution_count": 56,
     "metadata": {},
     "output_type": "execute_result"
    },
    {
     "data": {
      "image/png": "[encoded data removed]",
      "text/plain": [
       "<Figure size 640x480 with 1 Axes>"
      ]
     },
     "metadata": {},
     "output_type": "display_data"
    }
   ],
   "source": [
    "plt.plot(model(30, 4000, 10)[2].detach().numpy())\n",
    "plt.plot(sxx_[2])"
   ]
  },
  {
   "cell_type": "code",
   "execution_count": 215,
   "id": "dfab7598-47ce-4fd5-ae3b-9be37fafb140",
   "metadata": {},
   "outputs": [
    {
     "name": "stdout",
     "output_type": "stream",
     "text": [
      "Parameter containing:\n",
      "tensor([-3.9045, -3.8138, -2.6786, -3.7757, -4.6927, -4.1631, -4.5198, -3.6183,\n",
      "        -2.8963, -0.6824, -0.7198, -0.1798, -0.3366, -3.5729, -1.6614, -0.5952,\n",
      "        -1.7093, -2.5082, -0.2880, -4.3184, -4.8540, -0.9450, -0.9655, -1.3325,\n",
      "        -0.6331, -0.2389, -4.9401, -1.7016, -0.6107], requires_grad=True): Param requires_grad: True\n",
      "Parameter containing:\n",
      "tensor(1., requires_grad=True): Param requires_grad: True\n",
      "Parameter containing:\n",
      "tensor([251.3274, 251.3274, 251.3274, 251.3274, 251.3274, 251.3274, 251.3274,\n",
      "        251.3274, 251.3274, 251.3274, 251.3274, 251.3274, 251.3274, 251.3274,\n",
      "        251.3274, 251.3274, 251.3274, 251.3274, 251.3274, 251.3274, 251.3274,\n",
      "        251.3274, 251.3274, 251.3274, 251.3274, 251.3274, 251.3274, 251.3274,\n",
      "        251.3274], requires_grad=True): Param requires_grad: True\n",
      "Parameter containing:\n",
      "tensor([[1.6687e-02, 2.9934e-02, 9.7957e-02, 3.4050e-02, 6.4241e-02, 2.6003e-02,\n",
      "         7.8092e-02, 9.8401e-02, 8.4151e-02, 3.0603e-02, 9.8215e-02, 3.8266e-02,\n",
      "         1.0349e-02, 1.0061e-02, 3.4515e-02, 7.6297e-02, 1.6492e-02, 6.6720e-02,\n",
      "         6.5871e-02, 1.8425e-02, 3.1323e-02, 6.0943e-02, 9.7868e-02, 9.0142e-02,\n",
      "         1.7735e-02, 6.2629e-02, 4.3107e-02, 1.7437e-02, 2.5398e-02],\n",
      "        [7.9577e-02, 1.4795e-02, 9.0297e-02, 3.4649e-02, 4.5218e-02, 1.9902e-03,\n",
      "         8.9594e-02, 2.4932e-02, 5.4645e-02, 3.8697e-03, 3.7303e-02, 8.1629e-02,\n",
      "         6.7349e-02, 2.2194e-02, 6.9247e-02, 4.9704e-02, 9.9553e-02, 6.7938e-02,\n",
      "         1.1297e-02, 4.7189e-02, 2.6831e-02, 1.5661e-02, 2.3662e-02, 7.3388e-02,\n",
      "         3.4982e-02, 6.2314e-02, 6.8269e-02, 3.7594e-02, 1.8811e-02],\n",
      "        [1.0452e-02, 1.9594e-02, 2.6896e-02, 6.0438e-02, 7.1346e-02, 9.6309e-02,\n",
      "         6.2256e-02, 4.7214e-02, 3.2786e-02, 4.2799e-03, 2.8459e-02, 5.0045e-02,\n",
      "         7.0269e-02, 8.3120e-02, 1.0474e-02, 1.3841e-02, 5.0303e-02, 9.2118e-02,\n",
      "         3.8216e-02, 8.4134e-03, 4.5142e-02, 3.9279e-02, 2.6005e-02, 5.2104e-02,\n",
      "         4.5323e-04, 2.4874e-02, 9.5406e-02, 8.2680e-02, 2.8286e-02],\n",
      "        [4.3641e-02, 8.1433e-02, 3.9500e-03, 7.1690e-02, 6.8199e-02, 9.6965e-02,\n",
      "         6.0080e-02, 3.9708e-02, 7.9023e-02, 2.8651e-02, 1.4665e-02, 3.7952e-02,\n",
      "         4.5389e-02, 5.4812e-02, 1.2142e-02, 4.7318e-02, 5.6591e-02, 7.8958e-02,\n",
      "         7.1043e-02, 7.6983e-02, 1.5837e-02, 3.3982e-02, 2.7924e-02, 9.5903e-02,\n",
      "         2.9512e-02, 3.7939e-03, 7.0837e-02, 5.6742e-02, 4.1758e-02],\n",
      "        [5.9578e-02, 5.3793e-02, 7.2494e-02, 5.1587e-02, 9.7966e-02, 5.3917e-02,\n",
      "         4.2169e-02, 1.5441e-03, 9.6188e-02, 1.6051e-02, 6.8799e-02, 6.5796e-02,\n",
      "         9.1943e-02, 8.5560e-02, 1.4107e-02, 3.9135e-02, 3.3003e-03, 2.8047e-02,\n",
      "         5.5269e-02, 4.7757e-02, 3.2935e-02, 8.2076e-02, 7.6542e-02, 5.1314e-03,\n",
      "         4.1258e-02, 6.0188e-02, 9.3985e-02, 4.2874e-02, 8.2218e-02],\n",
      "        [7.9795e-02, 6.7243e-02, 5.8144e-02, 7.8031e-02, 5.2310e-02, 2.9553e-02,\n",
      "         6.4507e-02, 2.2295e-02, 7.6046e-02, 5.2723e-02, 7.8275e-02, 6.0683e-03,\n",
      "         9.3673e-02, 8.4427e-02, 2.8446e-02, 2.2908e-03, 4.2208e-02, 5.6378e-02,\n",
      "         5.2256e-03, 8.5589e-02, 8.7606e-02, 5.5688e-02, 6.4696e-02, 3.9997e-02,\n",
      "         3.4609e-02, 4.9960e-02, 1.6638e-02, 9.2241e-02, 8.4712e-02],\n",
      "        [4.4392e-02, 6.3253e-02, 8.8411e-03, 3.5604e-02, 6.6259e-02, 3.0220e-02,\n",
      "         9.6188e-02, 2.9224e-02, 3.7066e-02, 5.8353e-02, 4.6361e-02, 5.2948e-02,\n",
      "         7.9200e-02, 6.0371e-02, 5.0659e-02, 4.1649e-02, 6.9243e-02, 6.5557e-02,\n",
      "         9.8608e-02, 3.5382e-02, 2.0762e-02, 7.8038e-02, 9.2334e-02, 1.4696e-02,\n",
      "         5.5013e-02, 9.7777e-02, 8.8512e-02, 1.9343e-02, 5.6089e-02],\n",
      "        [7.3258e-02, 6.5297e-02, 2.3329e-02, 2.8980e-02, 9.9349e-02, 8.9880e-02,\n",
      "         4.8631e-02, 3.6403e-03, 6.9364e-02, 2.5153e-02, 5.2054e-02, 8.9604e-05,\n",
      "         2.0298e-02, 4.9354e-03, 3.9647e-02, 7.4907e-02, 9.6292e-02, 6.6607e-02,\n",
      "         6.5092e-02, 2.5065e-02, 3.9466e-02, 7.5173e-03, 8.9739e-02, 6.6637e-02,\n",
      "         5.7961e-02, 6.2012e-02, 6.1145e-02, 9.1138e-02, 8.0450e-02],\n",
      "        [7.7000e-02, 5.6073e-02, 5.2881e-02, 5.5921e-02, 9.7902e-02, 9.9098e-03,\n",
      "         7.2406e-02, 8.8305e-02, 9.4677e-03, 6.5121e-02, 6.7263e-02, 1.9324e-02,\n",
      "         4.5039e-02, 1.2723e-02, 6.9647e-02, 3.1653e-02, 4.8193e-02, 6.3197e-02,\n",
      "         8.6695e-02, 8.3507e-02, 7.9784e-02, 1.1571e-02, 1.8688e-02, 4.6388e-02,\n",
      "         3.3829e-02, 7.5168e-02, 2.8925e-02, 7.1286e-02, 5.4866e-02],\n",
      "        [7.2739e-02, 6.0006e-02, 5.3647e-02, 4.5031e-02, 1.8986e-02, 9.7612e-02,\n",
      "         9.8660e-02, 4.4008e-02, 9.0501e-02, 9.2618e-02, 1.0881e-02, 6.8485e-02,\n",
      "         7.4995e-02, 7.9248e-02, 8.6103e-02, 9.8410e-02, 9.9192e-02, 4.1902e-02,\n",
      "         9.3083e-02, 1.4114e-02, 6.6203e-02, 7.0353e-02, 1.5424e-02, 6.1669e-02,\n",
      "         8.7621e-02, 6.3406e-02, 4.3779e-03, 1.8366e-02, 7.0897e-02],\n",
      "        [9.6641e-02, 3.0801e-02, 2.4289e-02, 8.9678e-02, 5.8670e-02, 8.2869e-02,\n",
      "         8.2982e-02, 6.9842e-02, 5.5525e-02, 7.7433e-02, 1.9716e-02, 1.6810e-02,\n",
      "         7.6627e-02, 4.0049e-02, 4.4825e-02, 3.2528e-02, 1.4354e-02, 3.4110e-02,\n",
      "         3.1839e-02, 4.2562e-02, 3.2538e-02, 5.2327e-02, 4.3042e-02, 5.5285e-02,\n",
      "         8.5734e-02, 4.3738e-03, 9.7437e-02, 9.2647e-02, 2.0580e-02],\n",
      "        [9.3116e-02, 8.0685e-02, 5.7654e-02, 3.6271e-02, 6.4893e-02, 6.3456e-02,\n",
      "         6.1102e-02, 2.9245e-02, 5.2563e-02, 6.6957e-02, 3.5004e-02, 1.6240e-02,\n",
      "         6.2931e-02, 6.1693e-02, 1.4138e-05, 5.4017e-02, 9.7985e-02, 3.7543e-02,\n",
      "         5.6313e-02, 6.4355e-02, 3.1698e-02, 2.0533e-03, 4.9626e-02, 1.2985e-02,\n",
      "         9.7061e-02, 5.0405e-02, 2.8999e-02, 5.1271e-02, 6.7814e-02],\n",
      "        [6.4442e-03, 8.8979e-02, 3.0233e-02, 9.4227e-02, 8.8650e-02, 7.6493e-02,\n",
      "         2.3554e-02, 5.9100e-02, 5.7766e-02, 1.6153e-03, 1.2061e-02, 3.1871e-02,\n",
      "         7.2329e-02, 7.0790e-02, 2.8177e-02, 9.1701e-02, 5.3597e-02, 9.5921e-02,\n",
      "         7.3799e-02, 6.4188e-02, 1.5038e-02, 9.1957e-02, 7.9490e-02, 8.1032e-03,\n",
      "         8.0119e-02, 1.4840e-02, 4.4800e-02, 2.0591e-02, 5.8394e-02],\n",
      "        [5.7157e-02, 1.4048e-02, 9.0144e-03, 9.3576e-02, 8.7796e-02, 9.3395e-03,\n",
      "         4.7775e-02, 2.9608e-02, 7.0382e-02, 8.0621e-02, 1.7942e-02, 6.5142e-02,\n",
      "         1.8868e-03, 9.2237e-02, 6.0893e-02, 9.9695e-02, 8.4060e-02, 7.7813e-02,\n",
      "         5.6624e-02, 2.3919e-02, 3.5407e-02, 4.2569e-02, 2.6242e-02, 5.2720e-02,\n",
      "         3.6333e-02, 9.4677e-02, 6.5403e-02, 3.3927e-02, 8.0060e-02],\n",
      "        [2.3295e-02, 4.8970e-03, 2.1169e-02, 4.2146e-02, 4.0530e-03, 8.9622e-02,\n",
      "         3.0625e-02, 2.1514e-02, 6.9191e-02, 7.1171e-02, 7.3554e-02, 4.4330e-02,\n",
      "         3.1557e-02, 8.1511e-02, 2.6837e-02, 1.8372e-02, 4.1881e-02, 5.6363e-02,\n",
      "         6.0738e-02, 1.4972e-02, 8.9708e-02, 2.5958e-02, 5.1613e-02, 3.7786e-02,\n",
      "         9.6038e-02, 4.8682e-02, 9.6797e-02, 5.9341e-02, 5.6802e-02],\n",
      "        [2.3978e-02, 4.7448e-02, 8.6153e-03, 7.6230e-02, 3.8090e-02, 8.3102e-02,\n",
      "         9.1180e-02, 5.7515e-03, 7.6129e-02, 7.6209e-02, 4.8468e-02, 1.8104e-02,\n",
      "         9.9652e-02, 5.0407e-02, 9.8407e-03, 8.5424e-02, 5.4296e-02, 1.2898e-02,\n",
      "         8.7519e-02, 7.5517e-02, 3.1979e-02, 3.2401e-02, 6.6982e-03, 2.9105e-02,\n",
      "         4.4649e-02, 3.4495e-02, 4.3982e-02, 5.4281e-02, 1.5424e-02],\n",
      "        [6.8726e-02, 4.6027e-02, 8.2545e-02, 9.2403e-02, 3.9543e-02, 9.9290e-02,\n",
      "         4.9213e-02, 4.5597e-02, 5.9417e-02, 9.2939e-02, 3.5792e-02, 8.9214e-02,\n",
      "         5.4844e-02, 1.0185e-02, 6.4711e-02, 2.2369e-02, 9.1414e-02, 6.9426e-02,\n",
      "         1.1911e-02, 7.6527e-02, 2.7848e-02, 2.5408e-02, 8.9968e-02, 1.2371e-02,\n",
      "         7.5169e-02, 2.6386e-02, 1.1450e-02, 5.2363e-02, 8.7417e-02],\n",
      "        [3.7463e-02, 4.3848e-02, 1.6293e-03, 9.4916e-02, 6.2547e-03, 9.5167e-02,\n",
      "         7.1947e-02, 2.7931e-02, 3.2011e-02, 2.1022e-02, 8.2905e-02, 8.9441e-02,\n",
      "         5.8005e-02, 4.3675e-02, 8.4415e-02, 6.3013e-02, 5.7402e-02, 9.2239e-02,\n",
      "         8.7842e-02, 8.4155e-02, 2.1089e-02, 2.3410e-02, 9.7341e-02, 8.4367e-02,\n",
      "         3.0922e-02, 3.8627e-02, 9.2090e-02, 2.3216e-02, 1.6969e-02],\n",
      "        [6.2447e-02, 9.3178e-02, 3.4738e-03, 9.3095e-02, 1.4006e-02, 5.2706e-02,\n",
      "         5.9436e-02, 8.4533e-02, 4.1300e-02, 8.3455e-02, 7.9785e-02, 6.7483e-02,\n",
      "         3.2969e-02, 1.6909e-03, 8.7668e-02, 9.9949e-02, 4.7709e-02, 7.6683e-02,\n",
      "         9.7556e-02, 8.0943e-02, 6.9248e-02, 2.7719e-02, 4.0646e-02, 3.6858e-02,\n",
      "         1.6167e-02, 9.4799e-02, 9.2503e-02, 5.6594e-02, 4.3581e-02],\n",
      "        [9.3383e-03, 5.4708e-02, 6.3348e-02, 6.9636e-02, 3.8609e-02, 3.2336e-03,\n",
      "         6.3855e-02, 9.5687e-02, 5.1239e-03, 9.1557e-02, 8.3435e-02, 9.2395e-02,\n",
      "         2.7199e-02, 3.7242e-02, 8.6200e-02, 1.0968e-02, 7.8850e-02, 9.0524e-02,\n",
      "         6.5233e-02, 1.8255e-02, 3.0804e-02, 6.3472e-02, 4.1570e-02, 7.7925e-02,\n",
      "         6.7520e-02, 9.6336e-02, 1.5048e-02, 6.5883e-03, 8.9695e-02],\n",
      "        [5.5321e-02, 2.1806e-02, 8.6783e-02, 2.6694e-02, 7.7692e-02, 9.1431e-02,\n",
      "         4.7375e-02, 9.8234e-02, 3.2663e-02, 1.1564e-02, 3.1264e-03, 6.4814e-02,\n",
      "         6.7188e-03, 1.9000e-02, 4.1158e-02, 2.2143e-02, 2.3649e-02, 1.5604e-02,\n",
      "         5.7855e-02, 8.3868e-02, 6.8300e-02, 6.1164e-02, 2.9162e-02, 8.8356e-03,\n",
      "         8.8457e-02, 6.4940e-02, 5.0658e-03, 8.9914e-02, 7.1657e-02],\n",
      "        [3.8190e-02, 7.0219e-02, 1.1345e-02, 9.9271e-02, 5.1577e-02, 9.1467e-02,\n",
      "         6.2303e-03, 1.1138e-02, 5.4592e-02, 7.0859e-02, 9.1561e-02, 6.1288e-02,\n",
      "         8.6152e-02, 8.1295e-02, 1.4499e-02, 4.7005e-02, 7.9294e-02, 4.8635e-02,\n",
      "         6.5260e-02, 5.3052e-02, 4.4484e-02, 5.6752e-02, 5.7329e-02, 7.9259e-02,\n",
      "         1.4339e-02, 3.6001e-02, 7.1425e-02, 8.6621e-02, 7.6855e-02],\n",
      "        [2.8764e-02, 3.0693e-02, 3.8501e-02, 7.5544e-02, 2.2898e-03, 8.3991e-02,\n",
      "         9.2646e-02, 9.7574e-02, 3.5187e-02, 4.3882e-02, 2.6180e-02, 1.5241e-02,\n",
      "         9.2550e-02, 9.3725e-02, 8.4334e-02, 8.7381e-02, 1.1769e-03, 7.0798e-02,\n",
      "         3.1699e-02, 6.8176e-02, 4.8550e-02, 6.4860e-02, 3.0649e-02, 5.1849e-02,\n",
      "         6.1364e-02, 7.3533e-02, 8.2949e-02, 4.3522e-02, 3.3674e-02],\n",
      "        [4.8056e-03, 7.9557e-02, 6.6793e-02, 2.2182e-02, 6.1210e-02, 4.0886e-02,\n",
      "         3.9049e-02, 3.3671e-02, 1.1328e-02, 7.7744e-02, 7.0831e-02, 1.0901e-02,\n",
      "         2.4616e-02, 3.0310e-02, 8.4520e-02, 8.0000e-02, 3.1952e-02, 4.2994e-02,\n",
      "         4.2084e-02, 5.3791e-02, 6.9117e-02, 6.7964e-02, 2.0729e-02, 8.6753e-02,\n",
      "         1.9528e-02, 5.3270e-02, 2.1893e-02, 6.1266e-02, 7.9075e-02],\n",
      "        [6.0521e-02, 2.1294e-02, 1.6201e-02, 6.3733e-02, 2.7329e-02, 4.5974e-02,\n",
      "         4.3866e-03, 8.4322e-02, 6.7955e-02, 1.1023e-03, 6.6723e-02, 4.4557e-02,\n",
      "         3.0240e-02, 4.9075e-02, 8.9512e-02, 9.5169e-02, 1.4042e-02, 5.1402e-02,\n",
      "         8.9683e-02, 7.7938e-02, 8.7461e-03, 6.3455e-02, 6.1935e-02, 8.2109e-02,\n",
      "         9.0509e-02, 7.6040e-02, 2.1449e-02, 9.1451e-02, 5.4500e-03],\n",
      "        [9.6994e-03, 4.0430e-02, 1.7860e-02, 5.5203e-02, 2.9946e-02, 7.8221e-02,\n",
      "         1.1594e-02, 6.9724e-04, 2.2667e-02, 6.3863e-02, 9.9426e-02, 6.2387e-02,\n",
      "         8.7265e-02, 3.6908e-02, 5.9593e-02, 3.2634e-02, 5.5018e-02, 7.2769e-02,\n",
      "         9.2029e-02, 4.0944e-02, 3.7667e-02, 3.4043e-02, 5.0866e-02, 5.0935e-02,\n",
      "         8.1483e-02, 4.6190e-02, 7.8007e-03, 2.4493e-02, 3.2312e-03],\n",
      "        [8.0639e-02, 9.6240e-02, 6.2877e-02, 6.9208e-03, 1.2397e-02, 7.0364e-02,\n",
      "         9.0767e-02, 6.3028e-02, 1.2299e-02, 8.7064e-02, 9.5140e-02, 4.4950e-02,\n",
      "         4.7338e-02, 5.4213e-02, 4.0645e-02, 5.5876e-02, 4.2180e-02, 6.2209e-02,\n",
      "         2.7281e-02, 9.6528e-02, 8.0161e-02, 7.1650e-04, 5.7415e-02, 7.2156e-02,\n",
      "         9.1583e-02, 8.4676e-02, 1.3527e-02, 6.7558e-02, 7.4716e-03],\n",
      "        [6.8147e-02, 6.9391e-02, 4.3432e-02, 4.5127e-02, 8.7100e-02, 5.0790e-02,\n",
      "         9.8223e-02, 1.1532e-02, 6.4583e-02, 1.2002e-02, 5.5733e-02, 7.4144e-02,\n",
      "         9.1837e-02, 2.7035e-02, 7.6951e-02, 2.6758e-02, 9.2012e-02, 2.6264e-02,\n",
      "         5.7739e-02, 7.9914e-02, 4.2170e-02, 2.8292e-02, 2.8916e-02, 8.8477e-02,\n",
      "         3.6691e-02, 9.1301e-02, 7.9260e-02, 9.2330e-02, 6.9211e-02],\n",
      "        [9.5295e-02, 6.4453e-02, 7.7714e-02, 9.7881e-03, 1.3790e-02, 2.2417e-02,\n",
      "         9.7015e-02, 7.3575e-02, 3.4876e-02, 3.4123e-02, 6.1482e-02, 8.3685e-02,\n",
      "         4.0652e-02, 2.0334e-02, 9.6344e-02, 3.6402e-02, 2.5446e-02, 8.8373e-02,\n",
      "         7.5359e-02, 2.6648e-02, 7.1813e-02, 9.5219e-02, 4.3062e-02, 8.1126e-02,\n",
      "         1.6740e-03, 6.8899e-02, 5.9737e-02, 9.3079e-02, 9.0971e-02]],\n",
      "       requires_grad=True): Param requires_grad: True\n"
     ]
    }
   ],
   "source": [
    "for param in model.parameters():\n",
    "    print(f\"{param}: Param requires_grad: {param.requires_grad}\")"
   ]
  },
  {
   "cell_type": "code",
   "execution_count": 209,
   "id": "90dc9b1b-5856-46c6-b370-e5045dbd0b0f",
   "metadata": {},
   "outputs": [],
   "source": [
    "sxx_ = sxx_ / sxx_.max(\"freqs\")"
   ]
  },
  {
   "cell_type": "code",
   "execution_count": 210,
   "id": "a2ab2bfb-9213-4053-a2a0-6505b34e0d74",
   "metadata": {},
   "outputs": [
    {
     "data": {
      "text/plain": [
       "[<matplotlib.lines.Line2D at 0x76e6f5e091d0>]"
      ]
     },
     "execution_count": 210,
     "metadata": {},
     "output_type": "execute_result"
    },
    {
     "data": {
      "image/png": "[encoded data removed]",
      "text/plain": [
       "<Figure size 640x480 with 1 Axes>"
      ]
     },
     "metadata": {},
     "output_type": "display_data"
    }
   ],
   "source": [
    "plt.plot(output.detach().numpy()[0])\n",
    "plt.plot(sxx_[0])"
   ]
  },
  {
   "cell_type": "code",
   "execution_count": 211,
   "id": "620d5eb4-8659-4599-8e9a-c1f7f1cf67b6",
   "metadata": {},
   "outputs": [],
   "source": [
    "for param in model.parameters():\n",
    "    if param.grad is not None:\n",
    "        print(f\"Gradient for {param}: {param.grad.mean().item()}\")"
   ]
  },
  {
   "cell_type": "code",
   "execution_count": 189,
   "id": "a5cd40d3-214a-4899-bf2e-b8a246f5628c",
   "metadata": {},
   "outputs": [
    {
     "data": {
      "text/plain": [
       "tensor(124.2411, grad_fn=<MseLossBackward0>)"
      ]
     },
     "execution_count": 189,
     "metadata": {},
     "output_type": "execute_result"
    }
   ],
   "source": [
    "torch.nn.MSELoss(reduction=\"sum\")(\n",
    "    output, torch.as_tensor(sxx_.values, dtype=torch.float32)\n",
    ")"
   ]
  },
  {
   "cell_type": "code",
   "execution_count": 151,
   "id": "ba5ffc7e-3818-4756-b090-50be28e8497f",
   "metadata": {},
   "outputs": [],
   "source": [
    "out = model(1, 4000, 10)"
   ]
  },
  {
   "cell_type": "code",
   "execution_count": 157,
   "id": "04124c8e-86a1-4915-8045-f28041cec061",
   "metadata": {},
   "outputs": [
    {
     "data": {
      "text/plain": [
       "[<matplotlib.lines.Line2D at 0x76e6f5887650>]"
      ]
     },
     "execution_count": 157,
     "metadata": {},
     "output_type": "execute_result"
    },
    {
     "data": {
      "image/png": "[encoded data removed]",
      "text/plain": [
       "<Figure size 640x480 with 1 Axes>"
      ]
     },
     "metadata": {},
     "output_type": "display_data"
    }
   ],
   "source": [
    "plt.plot(out[3].detach().numpy())"
   ]
  },
  {
   "cell_type": "code",
   "execution_count": null,
   "id": "03f5f6d6-e431-4c0c-be60-2c8099b6147f",
   "metadata": {},
   "outputs": [],
   "source": []
  },
  {
   "cell_type": "code",
   "execution_count": null,
   "id": "22896800-bc59-46bd-990e-bbd7ec764233",
   "metadata": {},
   "outputs": [],
   "source": []
  }
 ],
 "metadata": {
  "kernelspec": {
   "display_name": "Python 3 (ipykernel)",
   "language": "python",
   "name": "python3"
  },
  "language_info": {
   "codemirror_mode": {
    "name": "ipython",
    "version": 3
   },
   "file_extension": ".py",
   "mimetype": "text/x-python",
   "name": "python",
   "nbconvert_exporter": "python",
   "pygments_lexer": "ipython3",
   "version": "3.11.10"
  }
 },
 "nbformat": 4,
 "nbformat_minor": 5
}
