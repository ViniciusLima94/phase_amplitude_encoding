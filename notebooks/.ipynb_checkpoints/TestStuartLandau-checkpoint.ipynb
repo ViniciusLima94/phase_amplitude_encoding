{
 "cells": [
  {
   "cell_type": "code",
   "execution_count": 1,
   "id": "6c8405d9-56b2-4bfc-9d92-ac6fb81b5cd3",
   "metadata": {},
   "outputs": [],
   "source": [
    "import numpy as np\n",
    "import matplotlib.pyplot as plt"
   ]
  },
  {
   "cell_type": "code",
   "execution_count": 2,
   "id": "1cdc2311-050c-4d49-bd0e-fdef260e229d",
   "metadata": {},
   "outputs": [],
   "source": [
    "def _ode(Z: np.complex128, a: float, w: float):\n",
    "    return Z * (a + 1j * w - np.abs(Z * Z)) "
   ]
  },
  {
   "cell_type": "code",
   "execution_count": null,
   "id": "d48b80c7-13b7-4537-8462-f320c7cb4618",
   "metadata": {},
   "outputs": [],
   "source": [
    "dt = 1e-4"
   ]
  }
 ],
 "metadata": {
  "kernelspec": {
   "display_name": "Python 3 (ipykernel)",
   "language": "python",
   "name": "python3"
  },
  "language_info": {
   "codemirror_mode": {
    "name": "ipython",
    "version": 3
   },
   "file_extension": ".py",
   "mimetype": "text/x-python",
   "name": "python",
   "nbconvert_exporter": "python",
   "pygments_lexer": "ipython3",
   "version": "3.11.10"
  }
 },
 "nbformat": 4,
 "nbformat_minor": 5
}
