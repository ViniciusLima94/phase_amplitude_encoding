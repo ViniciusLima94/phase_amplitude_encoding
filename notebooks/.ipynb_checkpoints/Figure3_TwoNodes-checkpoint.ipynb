{
 "cells": [
  {
   "cell_type": "markdown",
   "id": "afa6613d-fd1d-4e46-9cd3-fe4c2019253c",
   "metadata": {},
   "source": [
    "### Two connected nodes for the Hopf model"
   ]
  },
  {
   "cell_type": "code",
   "execution_count": 1,
   "id": "58a9da89-adfd-4334-ac4a-8640cf6ce05d",
   "metadata": {},
   "outputs": [],
   "source": [
    "import sys\n",
    "import os\n",
    "sys.path.insert(1, os.path.expanduser(\"~/projects/phase_amplitude_encoding/\"))"
   ]
  },
  {
   "cell_type": "code",
   "execution_count": null,
   "id": "b44e82ee-01f6-415c-ab82-5be7f4776860",
   "metadata": {},
   "outputs": [],
   "source": [
    "import jax\n",
    "import jax.numpy as jnp\n",
    "import matplotlib.pyplot as plt\n",
    "import numpy as np\n",
    "import xarray as xr\n",
    "from frites.core import copnorm_nd\n",
    "from hoi.core import get_mi\n",
    "from mne.filter import filter_data\n",
    "from mne.time_frequency.tfr import tfr_array_morlet, tfr_array_multitaper\n",
    "from tqdm import tqdm\n",
    "\n",
    "from src.models import simulate, simulate_delayed"
   ]
  },
  {
   "cell_type": "code",
   "execution_count": null,
   "id": "e0e3f93a-42c9-4b16-9b64-a7de2a30c644",
   "metadata": {},
   "outputs": [],
   "source": [
    "jax.config.update(\"jax_platform_name\", \"cpu\")"
   ]
  },
  {
   "cell_type": "markdown",
   "id": "27d16b80-f703-488e-880a-48b5d540a9ea",
   "metadata": {},
   "source": [
    "#### Simulation parameters"
   ]
  },
  {
   "cell_type": "code",
   "execution_count": null,
   "id": "ce513e4c-461f-4fb0-9aaa-3cee94c10107",
   "metadata": {},
   "outputs": [],
   "source": [
    "Nareas = 2\n",
    "ntrials = 500\n",
    "fsamp = 1 / 1e-4\n",
    "\n",
    "time = np.arange(-4, 2, 1 / fsamp)\n",
    "beta = 2\n",
    "Npoints = len(time)\n",
    "decim = 15\n",
    "\n",
    "C = np.array([[0, 1], [0, 0]]).T\n",
    "\n",
    "f = 40"
   ]
  },
  {
   "cell_type": "code",
   "execution_count": null,
   "id": "5417b0b8-059d-4eb4-8317-d613027feb40",
   "metadata": {},
   "outputs": [],
   "source": [
    "s = 16 / (2 * np.pi * f)\n",
    "\n",
    "time_start = 0\n",
    "time_end = 1\n",
    "timestim = time[(time > time_start) & (time < time_end)] - (time_end - time_start) / 2\n",
    "ind = np.where((time > time_start) & (time < time_end))[0]\n",
    "gaussian = np.exp(-(timestim**2) / (2 * s**2))\n",
    "coupling = np.zeros_like(time)\n",
    "coupling[ind] = gaussian\n",
    "\n",
    "# Coupling strength array (linearly spaced from 1 to 100)\n",
    "CS = np.linspace(1, 100, ntrials)\n",
    "seeds = np.random.randint(0, 100000, ntrials)"
   ]
  },
  {
   "cell_type": "code",
   "execution_count": null,
   "id": "27b46176-d058-422b-8b13-d27d58315219",
   "metadata": {},
   "outputs": [],
   "source": [
    "simulate_loop = jax.vmap(\n",
    "    simulate, in_axes=(None, 0, None, None, None, None, None, None, 0, None, None, None)\n",
    ")"
   ]
  },
  {
   "cell_type": "code",
   "execution_count": null,
   "id": "681e7243-378b-43c0-b9fc-b9b9a29e7364",
   "metadata": {},
   "outputs": [],
   "source": [
    "coupling = CS[:, None] * coupling"
   ]
  },
  {
   "cell_type": "code",
   "execution_count": null,
   "id": "f0ef875a-3f3c-4a21-9de6-7e78723a2eb5",
   "metadata": {},
   "outputs": [],
   "source": [
    "out = simulate_loop(\n",
    "    C,\n",
    "    1 * coupling,\n",
    "    40,\n",
    "    5,\n",
    "    fsamp,\n",
    "    beta,\n",
    "    Npoints,\n",
    "    None,\n",
    "    seeds,\n",
    "    \"cpu\",\n",
    "    decim,\n",
    "    \"both\",\n",
    ")"
   ]
  },
  {
   "cell_type": "code",
   "execution_count": null,
   "id": "e7c4e4a1-dc7c-49e6-865a-c136e8b4ef7d",
   "metadata": {},
   "outputs": [],
   "source": [
    "data = xr.DataArray(\n",
    "    np.stack(out),\n",
    "    dims=(\"trials\", \"roi\", \"times\"),\n",
    "    coords=(range(ntrials), [\"x\", \"y\"], time[::decim]),\n",
    ")"
   ]
  },
  {
   "cell_type": "code",
   "execution_count": null,
   "id": "be041374-f1bf-47fc-8170-cf47c7790d88",
   "metadata": {},
   "outputs": [],
   "source": [
    "\"\"\"\n",
    "fig = plt.figure(figsize=(8 / 2.54, 5 / 2.54))\n",
    "ax = plt.subplot(111)\n",
    "for i in range(Nareas):\n",
    "    plt.plot(z_data[-1].times, z_data[-1].values[i].real + (i * 3))\n",
    "plt.xlabel(\"Time [s]\", fontsize=12)\n",
    "# plt.legend([\"Sender\", \"Receiver\"], frameon=False, fontsize=12)\n",
    "plt.xlim(-2, 2)\n",
    "[ax.spines[key].set_visible(False) for key in [\"top\", \"right\"]]\n",
    "plt.savefig(\"figures/hopf_time_series.png\", bbox_inches=\"tight\")\n",
    "\"\"\""
   ]
  },
  {
   "cell_type": "code",
   "execution_count": null,
   "id": "304c492a-5790-451b-9467-8938ba6c66b1",
   "metadata": {},
   "outputs": [],
   "source": [
    "mi_fcn = get_mi(\"gc\")\n",
    "\n",
    "mi_fcn_time = jax.vmap(mi_fcn, in_axes=(2, 2, None, None))"
   ]
  },
  {
   "cell_type": "code",
   "execution_count": null,
   "id": "bf9d8d27-a340-457c-9735-744e4eb350f2",
   "metadata": {},
   "outputs": [],
   "source": [
    "labels = np.tile(np.expand_dims(CS, 1), data.sizes[\"times\"])\n",
    "z = data[:, 0] * np.conj(data[:, 1])\n",
    "A = np.abs(z).values\n",
    "dphi = np.unwrap(np.angle(z))\n",
    "\n",
    "I_S_R1 = mi_fcn_time(A[None], labels[None], False, True)\n",
    "I_S_R2 = mi_fcn_time(dphi[None], labels[None], False, True)\n",
    "\n",
    "ax = plt.subplot(111)\n",
    "plt.plot(data.times, I_S_R1, \"b\")\n",
    "plt.plot(data.times, I_S_R2, \"g\")\n",
    "plt.plot(\n",
    "    time[(time >= -1) * (time <= 1)],\n",
    "    coupling[-1, (time >= -1) * (time <= 1)] / 10000 * 4,\n",
    "    \"k--\",\n",
    ")\n",
    "\n",
    "plt.legend(\n",
    "    [\n",
    "        r\"I($A_{i}, A_{j}$; S)\",\n",
    "        r\"I($\\Delta\\theta_{ij}$; S)\",\n",
    "    ],\n",
    "    frameon=False,\n",
    ")\n",
    "\n",
    "plt.xlabel(\"Time [s]\", fontsize=12)\n",
    "plt.ylabel(\"[bits]\", fontsize=12)\n",
    "[ax.spines[key].set_visible(False) for key in [\"top\", \"right\"]]\n",
    "plt.xlim(-1, 1)\n",
    "plt.savefig(\"figures/sample_encoding_evoked_potential.png\", bbox_inches=\"tight\")"
   ]
  },
  {
   "cell_type": "code",
   "execution_count": null,
   "id": "801d7977-5f29-4c74-9a08-925a34e0cf1e",
   "metadata": {},
   "outputs": [],
   "source": [
    "z = data.isel(roi=0) * np.conj(data.isel(roi=1))\n",
    "A = np.abs(z).values\n",
    "dphi = np.unwrap(np.angle(z))"
   ]
  },
  {
   "cell_type": "code",
   "execution_count": null,
   "id": "13cefe1e-ec1b-4b64-8962-02b0deb9c5a2",
   "metadata": {},
   "outputs": [],
   "source": [
    "labels = np.tile(np.expand_dims(CS, 1), data.sizes[\"times\"])"
   ]
  },
  {
   "cell_type": "code",
   "execution_count": null,
   "id": "cfde74df-a7a2-432e-9815-d07ceb73298a",
   "metadata": {},
   "outputs": [],
   "source": [
    "plt.figure(figsize=(6, 6), dpi=150)\n",
    "ax = plt.subplot(111)\n",
    "\n",
    "mi_fcn = get_mi(\"gc\")\n",
    "\n",
    "mi_fcn_time = jax.vmap(mi_fcn, in_axes=(2, 2, None, None))\n",
    "\n",
    "\n",
    "mv = np.stack((A, dphi), axis=0)\n",
    "\n",
    "\n",
    "plt.plot(data[-1].times, mi_fcn_time(mv, labels[None], False, True))\n",
    "plt.plot(data[-1].times, mi_fcn_time(A[None], labels[None], False, True))\n",
    "plt.plot(data[-1].times, mi_fcn_time(dphi[None], labels[None], False, True))\n",
    "\n",
    "plt.legend(\n",
    "    [\n",
    "        r\"I($A_{ij}, \\Delta\\theta_{ij}$; S)\",\n",
    "        r\"I($A_{ij}$; S)\",\n",
    "        r\"I($\\Delta\\theta_{ij}$; S)\",\n",
    "    ],\n",
    "    frameon=False,\n",
    ")\n",
    "\n",
    "plt.xlabel(\"Time [s]\", fontsize=12)\n",
    "plt.ylabel(\"[bits]\", fontsize=12)\n",
    "[ax.spines[key].set_visible(False) for key in [\"top\", \"right\"]]"
   ]
  },
  {
   "cell_type": "code",
   "execution_count": null,
   "id": "9986a462-f8b6-4498-9aeb-7cf8d7bc723a",
   "metadata": {},
   "outputs": [],
   "source": [
    "decim\n"
   ]
  },
  {
   "cell_type": "markdown",
   "id": "90551ca0-f9fb-4b9c-ae0b-da5bd1d93c1b",
   "metadata": {},
   "source": [
    "#### Run a batch of simulations"
   ]
  },
  {
   "cell_type": "code",
   "execution_count": null,
   "id": "3688f594-46c9-4893-be58-2a3566447c2e",
   "metadata": {},
   "outputs": [],
   "source": [
    "I_S_R1 = []\n",
    "I_S_R2 = []\n",
    "I_S_R1_R2 = []\n",
    "\n",
    "for _ in tqdm(range(100)):\n",
    "\n",
    "    seeds = np.random.randint(0, 100000, ntrials)\n",
    "\n",
    "    out = simulate_loop(\n",
    "        1 * C,\n",
    "        coupling,\n",
    "        40,\n",
    "        -3,\n",
    "        fsamp,\n",
    "        beta,\n",
    "        Npoints,\n",
    "        None,\n",
    "        seeds,\n",
    "        \"cpu\",\n",
    "        decim,\n",
    "        \"both\",\n",
    "    )\n",
    "\n",
    "    stim = np.arange(ntrials)\n",
    "    data = xr.DataArray(\n",
    "        np.stack(out),\n",
    "        dims=(\"trials\", \"roi\", \"times\"),\n",
    "        coords=(stim, [\"x\", \"y\"], time[::decim]),\n",
    "    ).sel(times=slice(-2, 2))\n",
    "\n",
    "    labels = np.tile(np.expand_dims(CS, 1), data.sizes[\"times\"])\n",
    "    z = data[:, 0] * np.conj(data[:, 1])\n",
    "    A = np.abs(z).values\n",
    "    dphi = np.unwrap(np.angle(z))\n",
    "    mv = np.stack((A, dphi), axis=0)\n",
    "\n",
    "    I_S_R1 += [mi_fcn_time(A[None], labels[None], False, True)]\n",
    "    I_S_R2 += [mi_fcn_time(dphi[None], labels[None], False, True)]\n",
    "    I_S_R1_R2 += [mi_fcn_time(mv, labels[None], False, True)]"
   ]
  },
  {
   "cell_type": "code",
   "execution_count": null,
   "id": "2205f4dd-1a39-420f-82e4-c4dae56ee0ee",
   "metadata": {},
   "outputs": [],
   "source": [
    "plt.figure(figsize=(8 / 2.54, 8 / 2.54))\n",
    "ax = plt.subplot(111)\n",
    "plt.plot(data.times, np.mean(I_S_R1, 0), \"orange\")\n",
    "plt.plot(data.times, np.mean(I_S_R2, 0), \"g\")\n",
    "plt.plot(data.times, np.mean(I_S_R1_R2, 0), \"b\")\n",
    "\n",
    "plt.plot(\n",
    "    time[(time >= 0) * (time <= 1)],\n",
    "    coupling[-1, (time >= 0) * (time <= 1)] / 10000 * 4,\n",
    "    \"k--\",\n",
    ")\n",
    "\n",
    "plt.legend(\n",
    "    [\n",
    "        \"I($A_{i}A_{j}$; S)\",\n",
    "        r\"I($\\Delta\\theta_{ij}$; S)\",\n",
    "        r\"I($\\Delta\\theta_{ij}, A_{i}A_{j}$; S)\",\n",
    "        \n",
    "        \"g(t)\",\n",
    "    ],\n",
    "    frameon=False,\n",
    ")\n",
    "\n",
    "plt.xlabel(\"Time [s]\", fontsize=12)\n",
    "plt.ylabel(\"[bits]\", fontsize=12)\n",
    "[ax.spines[key].set_visible(False) for key in [\"top\", \"right\"]]\n",
    "plt.xlim(0, 1)\n",
    "plt.savefig(\"figures/sample_encoding_evoked_potential.pdf\", bbox_inches=\"tight\")"
   ]
  },
  {
   "cell_type": "code",
   "execution_count": null,
   "id": "47735107-c7f1-4397-82c4-d46c8e6aad6a",
   "metadata": {},
   "outputs": [],
   "source": [
    "I_S_R1 = np.mean(I_S_R1, 0)\n",
    "I_S_R2 = np.mean(I_S_R2, 0)\n",
    "I_S_R1_R2 = np.mean(I_S_R1_R2, 0)"
   ]
  },
  {
   "cell_type": "code",
   "execution_count": null,
   "id": "ef827ad8-7bdc-4f49-9b01-737479a1b27c",
   "metadata": {},
   "outputs": [],
   "source": [
    "red = np.minimum(I_S_R2, I_S_R1)\n",
    "syn = I_S_R1_R2 - np.maximum(I_S_R2, I_S_R1)"
   ]
  },
  {
   "cell_type": "code",
   "execution_count": null,
   "id": "e6857104-4120-4fc8-ac03-a9abccd008cb",
   "metadata": {},
   "outputs": [],
   "source": [
    "plt.figure(figsize=(15 / 2.54, 5 / 2.54))\n",
    "\n",
    "ax = plt.subplot(121)\n",
    "plt.plot(data.times, red)\n",
    "plt.plot(data.times, syn)\n",
    "\n",
    "plt.legend([r\"Red[$\\Delta\\theta_{ij}, A_{i}A_{j}$]\", r\"Syn[$\\Delta\\theta_{ij}, A_{i}A_{j}$]\"], frameon=False)\n",
    "plt.xlim(0, 1)\n",
    "plt.ylim(-0.0001, 0.01)\n",
    "[ax.spines[key].set_visible(False) for key in [\"top\", \"right\"]]\n",
    "plt.ylabel(\"[bits]\", fontsize=12)\n",
    "\n",
    "ax = plt.subplot(122)\n",
    "plt.plot(data.times, I_S_R1 - syn)\n",
    "plt.plot(data.times, I_S_R2 - syn)\n",
    "plt.ylim(-0.0001, 0.004)\n",
    "#ax.set_yticklabels([])\n",
    "plt.legend([r\"Un[$A_{i}A_{j}$]\", r\"Un[$\\Delta\\theta_{ij}$]\"], frameon=False)\n",
    "[ax.spines[key].set_visible(False) for key in [\"top\", \"right\"]]\n",
    "\n",
    "\n",
    "plt.subplots_adjust(wspace=.35)\n",
    "plt.xlabel(\"Time [s]\", fontsize=12)\n",
    "\n",
    "plt.savefig(\"figures/red_syn_amp_vs_phase.pdf\", bbox_inches=\"tight\")"
   ]
  },
  {
   "cell_type": "code",
   "execution_count": null,
   "id": "3a4b7529-c962-4d23-a74e-7ad4fc525bfa",
   "metadata": {},
   "outputs": [],
   "source": []
  },
  {
   "cell_type": "code",
   "execution_count": null,
   "id": "22e6fd07-e2ae-494e-a84d-3673df2b7781",
   "metadata": {},
   "outputs": [],
   "source": []
  }
 ],
 "metadata": {
  "kernelspec": {
   "display_name": "Python 3 (ipykernel)",
   "language": "python",
   "name": "python3"
  },
  "language_info": {
   "codemirror_mode": {
    "name": "ipython",
    "version": 3
   },
   "file_extension": ".py",
   "mimetype": "text/x-python",
   "name": "python",
   "nbconvert_exporter": "python",
   "pygments_lexer": "ipython3",
   "version": "3.10.15"
  }
 },
 "nbformat": 4,
 "nbformat_minor": 5
}
