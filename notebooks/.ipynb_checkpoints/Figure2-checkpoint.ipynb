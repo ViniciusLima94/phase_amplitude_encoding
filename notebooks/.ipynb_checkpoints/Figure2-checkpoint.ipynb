{
 "cells": [
  {
   "cell_type": "markdown",
   "id": "6d18265b-5dce-4e65-9e34-0ada244e928b",
   "metadata": {},
   "source": [
    "### Phase-based encoding in pairwise neural interactions"
   ]
  },
  {
   "cell_type": "code",
   "execution_count": 1,
   "id": "f69cff85-8c39-406f-939a-14271b8fda44",
   "metadata": {},
   "outputs": [],
   "source": [
    "import os"
   ]
  },
  {
   "cell_type": "code",
   "execution_count": 2,
   "id": "6b048099-590a-429a-82c9-00e8e147649b",
   "metadata": {},
   "outputs": [],
   "source": [
    "import sys\n",
    "\n",
    "sys.path.insert(1, os.path.join(\"/\", *os.getcwd().split(\"/\")[:-1]))"
   ]
  },
  {
   "cell_type": "code",
   "execution_count": null,
   "id": "715b5585-47bf-4164-8e4e-51e5df7f829d",
   "metadata": {},
   "outputs": [],
   "source": [
    "import jax\n",
    "import jax.numpy as jnp\n",
    "import matplotlib.pyplot as plt\n",
    "import numpy as np\n",
    "import scipy\n",
    "import xarray as xr\n",
    "from frites.core import copnorm_nd\n",
    "from hoi.core import get_mi\n",
    "from mne.time_frequency.tfr import tfr_array_morlet, tfr_array_multitaper\n",
    "from tqdm import tqdm\n",
    "\n",
    "from src.models import simulate_kuramoto"
   ]
  },
  {
   "cell_type": "code",
   "execution_count": null,
   "id": "660ca4b9-9442-4500-8b67-efca8771c379",
   "metadata": {},
   "outputs": [],
   "source": [
    "structure = \"chain\""
   ]
  },
  {
   "cell_type": "code",
   "execution_count": null,
   "id": "94de421e-98d7-4c76-81b1-76afd77cb0d9",
   "metadata": {},
   "outputs": [],
   "source": [
    "dt = 0.001  # Integration time-step\n",
    "fs = 1 / dt\n",
    "f = 40  # Natural frequency\n",
    "beta = 3.5  # Noise variance\n",
    "if structure == \"chain\":\n",
    "    A = np.array([[0, 1, 0], [0, 0, 1], [0, 0, 0]]).T\n",
    "    D = np.zeros_like(A)\n",
    "    g = 10\n",
    "elif structure == \"collider\":\n",
    "    A = np.array([[0, 0, 1], [0, 0, 1], [0, 0, 0]]).T\n",
    "    D = np.zeros_like(A)\n",
    "    g = 10\n",
    "elif structure == \"visual\":\n",
    "    SC_data = np.load(\"../interareal/markov2014.npy\", allow_pickle=True).item()\n",
    "    # FLN matrix\n",
    "    A = SC_data[\"FLN\"][np.ix_([0, 1, 2], [0, 1, 2])]\n",
    "    # Distance matrix\n",
    "    D = SC_data[\"Distances\"] * 0 * 1e-3 / 3.5\n",
    "    D /= dt\n",
    "    D = D[np.ix_([0, 1, 2], [0, 1, 2])]\n",
    "    g = 30\n",
    "\n",
    "ntrials = 500\n",
    "time = np.arange(-0.5, 1, 1 / fs)  # Time array\n",
    "T = time.shape[0]"
   ]
  },
  {
   "cell_type": "code",
   "execution_count": null,
   "id": "3b0f9f48-a678-47b8-8236-bfd25a339bf2",
   "metadata": {},
   "outputs": [],
   "source": [
    "if structure == \"visual\":\n",
    "    plt.figure(figsize=(6 / 2.54, 6 / 2.54))\n",
    "    plt.imshow(A, origin=\"lower\", cmap=\"hot_r\")\n",
    "    cbar = plt.colorbar(shrink=0.8)\n",
    "    cbar.set_label(\"FLN\", fontsize=12)\n",
    "    plt.xticks([0, 1, 2], [\"V1\", \"V2\", \"V4\"])\n",
    "    plt.yticks([0, 1, 2], [\"V1\", \"V2\", \"V4\"], rotation=90)\n",
    "    plt.xlabel(\"to\", fontsize=12)\n",
    "    plt.ylabel(\"from\", fontsize=12)\n",
    "    plt.savefig(\"figures/visual_conn.png\", bbox_inches=\"tight\")"
   ]
  },
  {
   "cell_type": "code",
   "execution_count": null,
   "id": "412284b9-e277-4c04-b00e-0edbe91f5af7",
   "metadata": {},
   "outputs": [],
   "source": [
    "s = 8 / (2 * np.pi * f)\n",
    "\n",
    "time_start = 0\n",
    "time_end = 0.4\n",
    "timestim = time[(time > time_start) & (time < time_end)] - (time_end - time_start) / 2\n",
    "ind = np.where((time > time_start) & (time < time_end))[0]\n",
    "gaussian = np.exp(-(timestim**2) / (2 * s**2))\n",
    "coupling = np.zeros_like(time)\n",
    "coupling[ind] = gaussian\n",
    "\n",
    "# Coupling strength array (linearly spaced from 1 to 100)\n",
    "CS = np.linspace(1, 100, ntrials)\n",
    "seeds = np.random.randint(0, 100000, ntrials)"
   ]
  },
  {
   "cell_type": "code",
   "execution_count": null,
   "id": "11510f01-358d-4c78-ae54-d44cfc8f8c2b",
   "metadata": {},
   "outputs": [],
   "source": [
    "data = []\n",
    "for trial in tqdm(range(ntrials)):\n",
    "    data += [\n",
    "        simulate_kuramoto(\n",
    "            g * A, D, coupling * CS[trial], f, fs, beta, T, seed=seeds[trial], decim=1\n",
    "        )\n",
    "    ]"
   ]
  },
  {
   "cell_type": "code",
   "execution_count": null,
   "id": "72472323-61b8-4e80-b9e2-3d7f1c47659f",
   "metadata": {},
   "outputs": [],
   "source": [
    "plt.plot(data[-1].T)\n",
    "plt.xlim(600, 900)"
   ]
  },
  {
   "cell_type": "code",
   "execution_count": null,
   "id": "5af35b58-1429-4598-a948-18a607aedbbd",
   "metadata": {},
   "outputs": [],
   "source": [
    "h = scipy.signal.hilbert(np.stack(data).real, axis=2)"
   ]
  },
  {
   "cell_type": "code",
   "execution_count": null,
   "id": "fe3196ed-65cf-42c9-964e-955247bdbcff",
   "metadata": {},
   "outputs": [],
   "source": [
    "freqs = np.linspace(0.1, 80, 50)\n",
    "W = tfr_array_morlet(\n",
    "    data,\n",
    "    fs / 1,\n",
    "    freqs,\n",
    "    n_cycles=freqs / 2,\n",
    "    decim=1,\n",
    "    output=\"complex\",\n",
    "    verbose=None,\n",
    ")"
   ]
  },
  {
   "cell_type": "code",
   "execution_count": null,
   "id": "dfd8e781-9630-4b5e-812c-e8858dc14c4a",
   "metadata": {},
   "outputs": [],
   "source": [
    "Sxy = (W[:, 0] * np.conj(W[:, 1])).mean(0)\n",
    "Sxx = (W[:, 0] * np.conj(W[:, 0])).mean(0)\n",
    "Syy = (W[:, 1] * np.conj(W[:, 1])).mean(0)\n",
    "\n",
    "coh = np.abs(Sxy) ** 2 / (Sxx * Syy)"
   ]
  },
  {
   "cell_type": "code",
   "execution_count": null,
   "id": "fe72f16a-005e-449d-920c-786b8a225bd6",
   "metadata": {},
   "outputs": [],
   "source": [
    "plt.figure(figsize=(7 / 2.54, 5 / 2.54))\n",
    "plt.imshow(\n",
    "    coh.real,\n",
    "    aspect=\"auto\",\n",
    "    origin=\"lower\",\n",
    "    cmap=\"turbo\",\n",
    "    extent=[-0.5, 1, 0.1, 80],\n",
    "    vmin=0,\n",
    "    vmax=1,\n",
    ")\n",
    "cbar = plt.colorbar()\n",
    "cbar.set_label(\"Coherence\", rotation=270, labelpad=15)\n",
    "plt.xlabel(\"Time [s]\", fontsize=12)\n",
    "plt.ylabel(\"Frequency [Hz]\", fontsize=12)\n",
    "\n",
    "plt.savefig(\"figures/coherece2nodes.pdf\")"
   ]
  },
  {
   "cell_type": "code",
   "execution_count": null,
   "id": "82051dc2-8a30-4b8c-8d43-c20e95e42f1b",
   "metadata": {},
   "outputs": [],
   "source": [
    "mi_fcn = get_mi(\"gc\")\n",
    "\n",
    "mi_fcn_time = jax.vmap(mi_fcn, in_axes=(2, 2, None, None))\n",
    "mi_fcn_time_frequency = jax.vmap(mi_fcn_time, in_axes=(2, 2, None, None))"
   ]
  },
  {
   "cell_type": "code",
   "execution_count": null,
   "id": "e2ed1e55-5b08-483a-9d38-240bd86ea54f",
   "metadata": {},
   "outputs": [],
   "source": [
    "e1 = W[:, 0] * np.conj(W[:, 1])\n",
    "e2 = W[:, 1] * np.conj(W[:, 2])\n",
    "e3 = W[:, 0] * np.conj(W[:, 2])\n",
    "\n",
    "\n",
    "dphi = jnp.stack((e1.real, e1.imag, e2.real, e2.imag, e3.real, e3.imag))\n",
    "\n",
    "labels = np.tile(\n",
    "    np.expand_dims(np.linspace(0, 100, ntrials), (1, 2)), (e1.shape[1], e2.shape[2])\n",
    ");\n",
    "\n",
    "mi_fcn = get_mi(\"gc\")\n",
    "\n",
    "mi_fcn_time = jax.vmap(mi_fcn, in_axes=(2, 2, None, None))\n",
    "mi_fcn_time_frequency = jax.vmap(mi_fcn_time, in_axes=(2, 2, None, None))"
   ]
  },
  {
   "cell_type": "code",
   "execution_count": null,
   "id": "ff78c5ed-079a-4146-a1de-3672d9fcc7b9",
   "metadata": {},
   "outputs": [],
   "source": [
    "MI_PHI = mi_fcn_time_frequency(dphi, labels[None], False, False)"
   ]
  },
  {
   "cell_type": "code",
   "execution_count": null,
   "id": "ff06171a-39bf-403b-9adb-ca57fb5cef3a",
   "metadata": {},
   "outputs": [],
   "source": [
    "plt.figure(figsize=(7 / 2.54, 5 / 2.54))\n",
    "\n",
    "plt.imshow(\n",
    "    MI_PHI,\n",
    "    aspect=\"auto\",\n",
    "    origin=\"lower\",\n",
    "    cmap=\"turbo\",\n",
    "    extent=[-0.5, 1, 0.1, 80],\n",
    "    vmin=0,\n",
    ")\n",
    "cbar = plt.colorbar()\n",
    "cbar.set_label(r\"I($e_1$, $e_2$; S)\", rotation=270, labelpad=15)\n",
    "\n",
    "plt.xlabel(\"Time [s]\", fontsize=12)\n",
    "plt.ylabel(\"Frequency [Hz]\", fontsize=12)\n",
    "\n",
    "plt.savefig(\"figures/MI2nodes.pdf\")"
   ]
  },
  {
   "cell_type": "markdown",
   "id": "ae98b619",
   "metadata": {},
   "source": [
    "#### Synergy and Redundancy"
   ]
  },
  {
   "cell_type": "code",
   "execution_count": null,
   "id": "f06b06ca",
   "metadata": {},
   "outputs": [],
   "source": [
    "dphi1 = jnp.stack((e1.real, e1.imag))\n",
    "dphi2 = jnp.stack((e2.real, e2.imag))\n",
    "dphi3 = jnp.stack((e3.real, e3.imag))\n",
    "dphi123 = jnp.stack((e1.real, e1.imag, e2.real, e2.imag, e3.real, e3.imag))"
   ]
  },
  {
   "cell_type": "code",
   "execution_count": null,
   "id": "a3f19610",
   "metadata": {},
   "outputs": [],
   "source": [
    "mi1 = mi_fcn_time_frequency(dphi1, labels[None], False, False)\n",
    "mi2 = mi_fcn_time_frequency(dphi2, labels[None], False, False)\n",
    "mi3 = mi_fcn_time_frequency(dphi3, labels[None], False, False)\n",
    "mi123 = mi_fcn_time_frequency(dphi123, labels[None], False, False)"
   ]
  },
  {
   "cell_type": "code",
   "execution_count": null,
   "id": "9d1a4f35",
   "metadata": {},
   "outputs": [],
   "source": [
    "red = np.minimum(np.minimum(mi1, mi2), mi3)\n",
    "syn = mi123 - np.maximum(np.maximum(mi1, mi2), mi3)"
   ]
  },
  {
   "cell_type": "code",
   "execution_count": null,
   "id": "2463ea9e",
   "metadata": {},
   "outputs": [],
   "source": [
    "plt.figure(figsize=(18 / 2.54, 5 / 2.54))\n",
    "\n",
    "plt.subplot(121)\n",
    "\n",
    "plt.imshow(\n",
    "    red,\n",
    "    aspect=\"auto\",\n",
    "    origin=\"lower\",\n",
    "    cmap=\"turbo\",\n",
    "    extent=[-0.5, 1, 0.1, 80],\n",
    "    vmin=0,\n",
    "    vmax=0.3,\n",
    ")\n",
    "cbar = plt.colorbar()\n",
    "cbar.set_label(r\"[bits]\", rotation=270, labelpad=15)\n",
    "\n",
    "plt.xlabel(\"Time [s]\", fontsize=12)\n",
    "plt.ylabel(\"Frequency [Hz]\", fontsize=12)\n",
    "plt.title(\"Redundancy\", fontsize=12)\n",
    "\n",
    "plt.subplot(122)\n",
    "\n",
    "plt.imshow(\n",
    "    syn,\n",
    "    aspect=\"auto\",\n",
    "    origin=\"lower\",\n",
    "    cmap=\"turbo\",\n",
    "    extent=[-0.5, 1, 0.1, 80],\n",
    "    vmin=0,\n",
    "    vmax=0.3,\n",
    ")\n",
    "cbar = plt.colorbar()\n",
    "cbar.set_label(r\"I($e_1$, $e_2$; S)\", rotation=270, labelpad=15)\n",
    "\n",
    "plt.xlabel(\"Time [s]\", fontsize=12)\n",
    "plt.ylabel(\"Frequency [Hz]\", fontsize=12)\n",
    "plt.title(\"Synergy\", fontsize=12)\n",
    "\n",
    "plt.subplots_adjust(wspace=0.5)\n",
    "\n",
    "plt.savefig(f\"figures/{structure}_syn_red.pdf\")"
   ]
  },
  {
   "cell_type": "code",
   "execution_count": null,
   "id": "e13ada06-f587-47a2-b21d-12489d20b615",
   "metadata": {},
   "outputs": [],
   "source": []
  }
 ],
 "metadata": {
  "kernelspec": {
   "display_name": "Python 3 (ipykernel)",
   "language": "python",
   "name": "python3"
  },
  "language_info": {
   "codemirror_mode": {
    "name": "ipython",
    "version": 3
   },
   "file_extension": ".py",
   "mimetype": "text/x-python",
   "name": "python",
   "nbconvert_exporter": "python",
   "pygments_lexer": "ipython3",
   "version": "3.10.15"
  }
 },
 "nbformat": 4,
 "nbformat_minor": 5
}
