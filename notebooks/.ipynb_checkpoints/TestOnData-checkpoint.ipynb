{
 "cells": [
  {
   "cell_type": "markdown",
   "id": "82ca242a-23fb-4717-b825-ded0b9179d2f",
   "metadata": {},
   "source": [
    "### Apply phase-edge encoding PID on data"
   ]
  },
  {
   "cell_type": "code",
   "execution_count": 1,
   "id": "726f5f47-5b47-45b3-9636-134ab496f08a",
   "metadata": {},
   "outputs": [],
   "source": [
    "import sys\n",
    "\n",
    "sys.path.insert(1, \"/home/INT/lima.v/projects/phase_coupling_analysis\")"
   ]
  },
  {
   "cell_type": "code",
   "execution_count": 2,
   "id": "a265a827-64e4-497c-969f-1558173e42aa",
   "metadata": {},
   "outputs": [
    {
     "name": "stdout",
     "output_type": "stream",
     "text": [
      "/home/INT/lima.v/projects/phase_coupling_analysis/src/config.py\n"
     ]
    }
   ],
   "source": [
    "import argparse\n",
    "import os\n",
    "\n",
    "import jax\n",
    "import matplotlib.pyplot as plt\n",
    "import numpy as np\n",
    "import scipy\n",
    "import xarray as xr\n",
    "from frites.conn import conn_io\n",
    "from frites.io import check_attrs, logger, set_log_level\n",
    "from frites.utils import parallel_func\n",
    "from hoi.core import get_mi\n",
    "from mne.filter import filter_data\n",
    "from mne.time_frequency.tfr import tfr_array_morlet\n",
    "from tqdm import tqdm\n",
    "\n",
    "from src.metrics.spectral import xr_psd_array_multitaper\n",
    "from src.session import session\n",
    "\n",
    "# from src.session import session\n",
    "from src.util import _extract_roi, get_dates"
   ]
  },
  {
   "cell_type": "markdown",
   "id": "ae890025-0b49-45c5-bff0-cbdf90d06430",
   "metadata": {},
   "source": [
    "###############################################################################\n",
    "##### Functions\n",
    "###############################################################################"
   ]
  },
  {
   "cell_type": "code",
   "execution_count": 3,
   "id": "1dd1907e-b998-49f7-9a76-d5d79cae0742",
   "metadata": {},
   "outputs": [],
   "source": [
    "def circular_hist(\n",
    "    ax, x, bins=16, density=True, offset=0, gaps=True, fill=False, alpha=0.3, color=\"b\"\n",
    "):\n",
    "    \"\"\"\n",
    "    Produce a circular histogram of angles on ax.\n",
    "\n",
    "    Parameters\n",
    "    ----------\n",
    "    ax : matplotlib.axes._subplots.PolarAxesSubplot\n",
    "        axis instance created with subplot_kw=dict(projection='polar').\n",
    "\n",
    "    x : array\n",
    "        Angles to plot, expected in units of radians.\n",
    "\n",
    "    bins : int, optional\n",
    "        Defines the number of equal-width bins in the range. The default is 16.\n",
    "\n",
    "    density : bool, optional\n",
    "        If True plot frequency proportional to area. If False plot frequency\n",
    "        proportional to radius. The default is True.\n",
    "\n",
    "    offset : float, optional\n",
    "        Sets the offset for the location of the 0 direction in units of\n",
    "        radians. The default is 0.\n",
    "\n",
    "    gaps : bool, optional\n",
    "        Whether to allow gaps between bins. When gaps = False the bins are\n",
    "        forced to partition the entire [-pi, pi] range. The default is True.\n",
    "\n",
    "    Returns\n",
    "    -------\n",
    "    n : array or list of arrays\n",
    "        The number of values in each bin.\n",
    "\n",
    "    bins : array\n",
    "        The edges of the bins.\n",
    "\n",
    "    patches : `.BarContainer` or list of a single `.Polygon`\n",
    "        Container of individual artists used to create the histogram\n",
    "        or list of such containers if there are multiple input datasets.\n",
    "    \"\"\"\n",
    "    # Wrap angles to [-pi, pi)\n",
    "    x = (x + np.pi) % (2 * np.pi) - np.pi\n",
    "\n",
    "    # Force bins to partition entire circle\n",
    "    if not gaps:\n",
    "        bins = np.linspace(-np.pi, np.pi, num=bins + 1)\n",
    "\n",
    "    # Bin data and record counts\n",
    "    n, bins = np.histogram(x, bins=bins)\n",
    "\n",
    "    # Compute width of each bin\n",
    "    widths = np.diff(bins)\n",
    "\n",
    "    # By default plot frequency proportional to area\n",
    "    if density:\n",
    "        # Area to assign each bin\n",
    "        area = n / x.size\n",
    "        # Calculate corresponding bin radius\n",
    "        radius = (area / np.pi) ** 0.5\n",
    "    # Otherwise plot frequency proportional to radius\n",
    "    else:\n",
    "        radius = n\n",
    "\n",
    "    # Plot data on ax\n",
    "    patches = ax.bar(\n",
    "        bins[:-1],\n",
    "        radius,\n",
    "        zorder=1,\n",
    "        align=\"edge\",\n",
    "        width=widths,\n",
    "        edgecolor=\"k\",\n",
    "        fill=fill,\n",
    "        linewidth=1,\n",
    "        alpha=alpha,\n",
    "        color=color,\n",
    "    )\n",
    "\n",
    "    # Set the direction of the zero angle\n",
    "    ax.set_theta_offset(offset)\n",
    "\n",
    "    # Remove ylabels for area plots (they are mostly obstructive)\n",
    "    if density:\n",
    "        ax.set_yticks([])\n",
    "\n",
    "    return n, bins, patches\n",
    "\n",
    "\n",
    "def detect_peak_frequencies(power=None, prominence=0.01, verbose=False):\n",
    "\n",
    "    assert power.ndim == 2\n",
    "    assert isinstance(power, xr.DataArray)\n",
    "\n",
    "    roi, freqs = power.roi.data, power.freqs.data\n",
    "    n_roi = len(roi)\n",
    "\n",
    "    rois = []\n",
    "    peak_freqs = []\n",
    "    peak_prominences = []\n",
    "\n",
    "    __iter = range(n_roi)\n",
    "    for i in tqdm(__iter) if verbose else __iter:\n",
    "        peak_index, peak_info = find_peaks(power[i, :], prominence=prominence)\n",
    "        peak_freqs += [freqs[peak_index]]\n",
    "        peak_prominences += [peak_info[\"prominences\"]]\n",
    "        rois += [[roi[i]] * len(peak_index)]\n",
    "\n",
    "    return peak_freqs, peak_prominences, rois"
   ]
  },
  {
   "cell_type": "code",
   "execution_count": 4,
   "id": "9db8337a-d372-4eed-afd4-6167ad2eb3d9",
   "metadata": {},
   "outputs": [],
   "source": [
    "def load_session_data(root, sid, monkey, align):\n",
    "    # Instantiate class\n",
    "    ses = session(\n",
    "        raw_path=root,\n",
    "        monkey=monkey,\n",
    "        date=sid,\n",
    "        session=1,\n",
    "        slvr_msmod=False,\n",
    "        only_unique_recordings=False,\n",
    "        align_to=align,\n",
    "        evt_dt=[-0.65, 2.0],\n",
    "    )\n",
    "\n",
    "    # Read data from .mat files\n",
    "    ses.read_from_mat(verbose=False)\n",
    "\n",
    "    # Load XYZ coordinates\n",
    "    coords = np.concatenate(\n",
    "        (ses.get_xy_coords(), ses.recording_info[\"depth\"][:, None]), axis=1\n",
    "    )\n",
    "\n",
    "    # Filtering by trials\n",
    "    data_task = ses.filter_trials(trial_type=[1], behavioral_response=[1])\n",
    "    data_fixation = ses.filter_trials(trial_type=[2], behavioral_response=None)\n",
    "\n",
    "    attrs_task, attrs_fixation = data_task.attrs, data_fixation.attrs\n",
    "\n",
    "    stim = np.hstack((attrs_task[\"stim\"], attrs_fixation[\"stim\"]))\n",
    "    t_cue_on = np.hstack((attrs_task[\"t_cue_on\"], attrs_fixation[\"t_cue_on\"]))\n",
    "    t_cue_off = np.hstack((attrs_task[\"t_cue_off\"], attrs_fixation[\"t_cue_off\"]))\n",
    "    t_match_on = np.hstack((attrs_task[\"t_match_on\"], attrs_fixation[\"t_match_on\"]))\n",
    "\n",
    "    np.nan_to_num(stim, nan=6, copy=False)\n",
    "\n",
    "    data = xr.concat((data_task, data_fixation), \"trials\")\n",
    "    data.attrs = attrs_task\n",
    "    data.attrs[\"stim\"] = stim\n",
    "    data.attrs[\"t_cue_on\"] = t_cue_on\n",
    "    data.attrs[\"t_cue_off\"] = t_cue_off\n",
    "    data.attrs[\"t_match_on\"] = t_match_on\n",
    "    data.attrs[\"x\"] = coords[:, 0]\n",
    "    data.attrs[\"y\"] = coords[:, 1]\n",
    "    data.attrs[\"z\"] = coords[:, 2]\n",
    "\n",
    "    # ROIs with channels\n",
    "    rois = [\n",
    "        f\"{roi}_{channel}\" for roi, channel in zip(data.roi.data, data.channels_labels)\n",
    "    ]\n",
    "    data = data.assign_coords({\"roi\": rois})\n",
    "    # data.attrs = attrs\n",
    "    data.values *= 1e6\n",
    "\n",
    "    # return node_xr_remove_sca(data)\n",
    "    return data"
   ]
  },
  {
   "cell_type": "code",
   "execution_count": 5,
   "id": "eda32b36-90d9-4a30-8ec5-8c35ee92965e",
   "metadata": {},
   "outputs": [],
   "source": [
    "def create_epoched_data(data):\n",
    "    t_match_on = (data.attrs[\"t_match_on\"] - data.attrs[\"t_cue_on\"]) / data.fsample\n",
    "    t_match_on = np.round(t_match_on, 1)\n",
    "\n",
    "    epoch_data = []\n",
    "\n",
    "    for i in range(data.sizes[\"trials\"]):\n",
    "        stages = [\n",
    "            [-0.4, 0.0],\n",
    "            [0, 0.4],\n",
    "            [0.5, 0.9],\n",
    "            [0.9, 1.3],\n",
    "            [t_match_on[i] - 0.4, t_match_on[i]],\n",
    "        ]\n",
    "\n",
    "        temp = []\n",
    "\n",
    "        for t_i, t_f in stages:\n",
    "            temp += [data[i].sel(time=slice(t_i, t_f)).data]\n",
    "\n",
    "        epoch_data += [np.stack(temp, axis=-2)]\n",
    "\n",
    "    epoch_data = xr.DataArray(\n",
    "        np.stack(epoch_data),\n",
    "        dims=(\"trials\", \"roi\", \"epochs\", \"time\"),\n",
    "        coords={\n",
    "            \"trials\": data.trials,\n",
    "            \"roi\": data.roi,\n",
    "        },\n",
    "        attrs=data.attrs,\n",
    "    )\n",
    "\n",
    "    return epoch_data"
   ]
  },
  {
   "cell_type": "code",
   "execution_count": 6,
   "id": "ff61ac23-93c6-4e65-b8dd-0e5f6083e7a3",
   "metadata": {},
   "outputs": [],
   "source": [
    "def get_filtered_data(data, bands, band_id):\n",
    "\n",
    "    f_l, f_h = bands[band_id]\n",
    "\n",
    "    temp = []\n",
    "\n",
    "    temp = filter_data(\n",
    "        data.values, data.fsample, f_l, f_h, n_jobs=10, verbose=False, method=\"iir\"\n",
    "    )\n",
    "    temp = np.expand_dims(temp, 2)\n",
    "\n",
    "    data = xr.DataArray(\n",
    "        temp,\n",
    "        # np.stack(temp, axis=2),\n",
    "        dims=(\"trials\", \"roi\", \"freqs\", \"times\"),\n",
    "        coords={\n",
    "            \"trials\": data.trials,\n",
    "            \"roi\": data.roi,\n",
    "            \"freqs\": freqs[band_id],\n",
    "            \"times\": data.time.values,\n",
    "        },\n",
    "        attrs=data.attrs,\n",
    "    )\n",
    "\n",
    "    return data"
   ]
  },
  {
   "cell_type": "code",
   "execution_count": 7,
   "id": "896619c4-f683-47c3-9afd-763835311ac3",
   "metadata": {},
   "outputs": [],
   "source": [
    "def _phase_diff(w, x_s, x_t, kw_para):\n",
    "    \"\"\"\n",
    "    Compute the pairwise phase difference between two sets of time-series data.\n",
    "\n",
    "    Parameters\n",
    "    ----------\n",
    "    w : ndarray\n",
    "        The phase time-series array with shape (n_trials, n_rois, n_freqs, n_times),\n",
    "        representing the instantaneous phase values.\n",
    "    x_s : list of int\n",
    "        List of source indices specifying which regions of interest (ROIs) to compute phase differences from.\n",
    "    x_t : list of int\n",
    "        List of target indices specifying which regions of interest (ROIs) to compute phase differences to.\n",
    "    kw_para : dict\n",
    "        Dictionary of keyword arguments for parallel computation (e.g., number of jobs, verbosity).\n",
    "\n",
    "    Returns\n",
    "    -------\n",
    "    ndarray\n",
    "        Array of pairwise phase differences between each source-target pair.\n",
    "        The shape of the output will be (n_trials, n_pairs, n_freqs, n_times).\n",
    "\n",
    "    Notes\n",
    "    -----\n",
    "    The function computes phase differences between the time-series from the specified ROIs,\n",
    "    then uses `np.unwrap` to handle phase wrapping across 2π discontinuities.\n",
    "    Parallel computation is utilized for efficiency.\n",
    "    \"\"\"\n",
    "\n",
    "    def pairwise_phase_diff(w_x, w_y):\n",
    "        return np.unwrap(w[:, w_x, :, :] - w[:, w_y, :, :])\n",
    "\n",
    "    # define the function to compute in parallel\n",
    "    parallel, p_fun = parallel_func(pairwise_phase_diff, **kw_para)\n",
    "\n",
    "    # compute the single trial coherence\n",
    "    return parallel(p_fun(s, t) for s, t in zip(x_s, x_t))\n",
    "\n",
    "\n",
    "def hilbert_decomposition(\n",
    "    data,\n",
    "    sfreq=None,\n",
    "    times=None,\n",
    "    roi=None,\n",
    "    bands=None,\n",
    "    n_jobs=1,\n",
    "    decim=1,\n",
    "    verbose=None,\n",
    "    dtype=np.float32,\n",
    "    **kw_links,\n",
    "):\n",
    "    \"\"\"\n",
    "    Perform Hilbert decomposition on time-series data to extract power, phase, and phase differences.\n",
    "\n",
    "    Parameters\n",
    "    ----------\n",
    "    data : xarray.DataArray or ndarray\n",
    "        The input time-series data. Expected to be in the shape (n_trials, n_rois, n_times).\n",
    "    sfreq : float, optional\n",
    "        The sampling frequency of the data in Hz. Required for band-pass filtering.\n",
    "    times : ndarray, optional\n",
    "        The time points corresponding to the data samples.\n",
    "    roi : list or ndarray, optional\n",
    "        The regions of interest (ROIs) to analyze. Can be indices or names corresponding to the data.\n",
    "    bands : list of tuple, optional\n",
    "        The frequency bands to filter the data. Each tuple should contain the low and high frequency (in Hz) of the band.\n",
    "    n_jobs : int, optional\n",
    "        The number of parallel jobs to use for computations (default is 1).\n",
    "    verbose : bool or int, optional\n",
    "        Verbosity level for logging.\n",
    "    dtype : data-type, optional\n",
    "        The data type of the returned arrays (default is np.float32).\n",
    "    **kw_links : dict\n",
    "        Additional arguments for connection analysis.\n",
    "\n",
    "    Returns\n",
    "    -------\n",
    "    power : xarray.DataArray\n",
    "        Power time-series of the filtered signals across the specified frequency bands.\n",
    "        Dimensions: (n_trials, n_rois, n_freqs, n_times).\n",
    "    phase : xarray.DataArray\n",
    "        Phase time-series of the filtered signals across the specified frequency bands.\n",
    "        Dimensions: (n_trials, n_rois, n_freqs, n_times).\n",
    "    delta_phase : xarray.DataArray\n",
    "        Pairwise phase differences between the ROIs across frequency bands.\n",
    "        Dimensions: (n_trials, n_roi_pairs, n_freqs, n_times).\n",
    "\n",
    "    Notes\n",
    "    -----\n",
    "    The Hilbert decomposition is applied after band-pass filtering the data to extract the analytic signal,\n",
    "    from which power and phase are derived. Pairwise phase differences are computed in parallel\n",
    "    for specified pairs of ROIs.\n",
    "    \"\"\"\n",
    "    # ________________________________ INPUTS _________________________________\n",
    "    # inputs conversion\n",
    "    kw_links.update({\"directed\": False, \"net\": False})\n",
    "    data, cfg = conn_io(\n",
    "        data,\n",
    "        times=times,\n",
    "        roi=roi,\n",
    "        agg_ch=False,\n",
    "        win_sample=None,\n",
    "        sfreq=sfreq,\n",
    "        verbose=verbose,\n",
    "        name=\"Hilbert Decomposition\",\n",
    "        kw_links=kw_links,\n",
    "    )\n",
    "\n",
    "    # Extract variables\n",
    "    x, trials, attrs = data.data, data[\"y\"].data, cfg[\"attrs\"]\n",
    "    times, _ = data[\"times\"].data, len(trials)\n",
    "    x_s, x_t, roi_p, roi = cfg[\"x_s\"], cfg[\"x_t\"], cfg[\"roi_p\"], data[\"roi\"].data\n",
    "    _, sfreq = cfg[\"blocks\"], cfg[\"sfreq\"]\n",
    "    n_pairs, f_vec, n_freqs = len(x_s), np.mean(bands, axis=1), len(bands)\n",
    "    # If no bands are passed use broadband signal\n",
    "\n",
    "    times = times[::decim]\n",
    "\n",
    "    _dims = (\"trials\", \"roi\", \"freqs\", \"times\")\n",
    "    _coord_nodes = (trials, roi, f_vec, times)\n",
    "    _coord_links = (trials, roi_p, f_vec, times)\n",
    "\n",
    "    # Filter data in the specified bands\n",
    "    x_filt = []\n",
    "\n",
    "    for f_low, f_high in bands:\n",
    "        x_filt += [\n",
    "            xr.DataArray(\n",
    "                filter_data(\n",
    "                    x,\n",
    "                    sfreq,\n",
    "                    f_low,\n",
    "                    f_high,\n",
    "                    n_jobs=n_jobs,\n",
    "                    verbose=verbose,\n",
    "                    method=\"iir\",\n",
    "                ),\n",
    "                dims=data.dims,\n",
    "                coords=data.coords,\n",
    "                attrs=attrs,\n",
    "            )\n",
    "        ]\n",
    "\n",
    "    x_filt = xr.concat(x_filt, \"freqs\").transpose(\"trials\", \"roi\", \"freqs\", \"times\")\n",
    "\n",
    "    # Hilbert coefficients\n",
    "    h = scipy.signal.hilbert(x_filt, axis=3)[..., ::decim]\n",
    "\n",
    "    # Power and phase time-series\n",
    "    power = (h * np.conj(h)).real\n",
    "    phase = np.angle(h)\n",
    "\n",
    "    # Compute phase-differences in parellel\n",
    "    # show info\n",
    "    logger.info(\n",
    "        f\"Computing pairwise phase difference (n_pairs={n_pairs}, \" f\"n_bands={n_freqs}\"\n",
    "    )\n",
    "    kw_para = dict(n_jobs=n_jobs, verbose=verbose, total=n_pairs)\n",
    "    delta_phase = np.stack(_phase_diff(phase, x_s, x_t, kw_para), axis=1)\n",
    "\n",
    "    # Wrapp to xrray\n",
    "    power = xr.DataArray(\n",
    "        power, dims=_dims, coords=_coord_nodes, attrs=attrs, name=\"power\"\n",
    "    )\n",
    "    phase = xr.DataArray(\n",
    "        phase, dims=_dims, coords=_coord_nodes, attrs=attrs, name=\"phase\"\n",
    "    )\n",
    "    delta_phase = xr.DataArray(\n",
    "        delta_phase, dims=_dims, coords=_coord_links, attrs=attrs, name=\"phase_diff\"\n",
    "    )\n",
    "\n",
    "    return power.astype(dtype), phase.astype(dtype), delta_phase.astype(dtype)"
   ]
  },
  {
   "cell_type": "code",
   "execution_count": 8,
   "id": "59ac71d5-b5ad-4a73-8ca1-2d12c9066a53",
   "metadata": {},
   "outputs": [],
   "source": [
    "mi_fcn = get_mi(\"gc\")\n",
    "\n",
    "mi_fcn_time = jax.vmap(mi_fcn, in_axes=(2, 2, None, None))\n",
    "mi_fcn_time_frequency = jax.vmap(mi_fcn_time, in_axes=(2, 2, None, None))"
   ]
  },
  {
   "cell_type": "markdown",
   "id": "04c61410-69cb-4e08-a68b-b561987a0873",
   "metadata": {},
   "source": [
    "###############################################################################\n",
    "##### Get session and monkey\n",
    "###############################################################################"
   ]
  },
  {
   "cell_type": "code",
   "execution_count": 9,
   "id": "de38b5fb-6394-4b7e-ae89-264ef2834ed2",
   "metadata": {},
   "outputs": [],
   "source": [
    "align = \"cue\"\n",
    "monkey = \"lucy\"\n",
    "session_number = get_dates(monkey)[0]"
   ]
  },
  {
   "cell_type": "code",
   "execution_count": 10,
   "id": "abc03c61-1b48-4939-9034-0cb21eb295c9",
   "metadata": {},
   "outputs": [],
   "source": [
    "_ROOT = os.path.expanduser(\"/home/INT/lima.v/data/GrayLab/\")"
   ]
  },
  {
   "cell_type": "code",
   "execution_count": 11,
   "id": "cd356e3f-fddd-4f80-aecd-41cff17096e4",
   "metadata": {},
   "outputs": [],
   "source": [
    "data = load_session_data(_ROOT, session_number, monkey, align)\n",
    "attrs = data.attrs\n",
    "stim = data.stim.astype(int)"
   ]
  },
  {
   "cell_type": "code",
   "execution_count": 12,
   "id": "2dd1c8d1-a1f5-42c0-bf13-ee12db633e15",
   "metadata": {},
   "outputs": [],
   "source": [
    "mask = stim != 6\n",
    "data = data.isel(trials=mask)\n",
    "stim = stim[mask]"
   ]
  },
  {
   "cell_type": "code",
   "execution_count": 13,
   "id": "a004297e-528b-4f72-bb91-06ec5c6f6072",
   "metadata": {},
   "outputs": [],
   "source": [
    "labels = np.tile(np.expand_dims(stim, 1), data.sizes[\"time\"])"
   ]
  },
  {
   "cell_type": "code",
   "execution_count": 14,
   "id": "e744afb0-44fa-4447-975a-17b86578958a",
   "metadata": {},
   "outputs": [],
   "source": [
    "roi_sel_pairs = np.array(\n",
    "    [\n",
    "        \"a9/46D_9-TPt_141\",\n",
    "        \"a7A_181-a9/46D_9\",\n",
    "        \"a9/46D_9-DP_191\",\n",
    "        \"a9/46D_9-PIP_193\",\n",
    "        \"a7A_181-a8B_11\",\n",
    "        \"a8B_11-DP_191\",\n",
    "        \"a8B_11-PIP_193\",\n",
    "        \"a7A_181-a8B_12\",\n",
    "        \"a8B_12-DP_191\",\n",
    "        \"a8B_12-PIP_193\",\n",
    "        \"a7B_121-F7_13\",\n",
    "        \"a7A_156-F7_13\",\n",
    "        \"a7A_181-F7_13\",\n",
    "        \"DP_191-F7_13\",\n",
    "        \"F7_13-PIP_193\",\n",
    "        \"a5_149-F7_14\",\n",
    "        \"a7A_156-a8M_17\",\n",
    "        \"a7A_181-a8M_17\",\n",
    "        \"a8M_17-DP_191\",\n",
    "        \"a8M_17-PIP_193\",\n",
    "        \"a7A_156-a8B_18\",\n",
    "        \"a7A_181-a8B_18\",\n",
    "        \"a8B_18-DP_191\",\n",
    "        \"a8B_18-PIP_193\",\n",
    "        \"a5_149-F7_20\",\n",
    "        \"a7A_181-a8L_21\",\n",
    "        \"a8L_21-DP_191\",\n",
    "        \"a5_172-F2_28\",\n",
    "        \"F2_28-V6A_183\",\n",
    "        \"a44_29-a7A_181\",\n",
    "        \"a44_29-DP_191\",\n",
    "        \"F2_36-V6A_183\",\n",
    "        \"a7A_181-a8L_39\",\n",
    "        \"a8L_39-DP_191\",\n",
    "        \"a8L_39-PIP_193\",\n",
    "    ],\n",
    "    dtype=\"<U16\",\n",
    ")\n",
    "\n",
    "roi_sel_pairs = np.array([\"a7A_156-PIP_193\"])\n",
    "\n",
    "roi_sel = np.unique(_extract_roi(roi_sel_pairs, \"-\"))"
   ]
  },
  {
   "cell_type": "code",
   "execution_count": 40,
   "id": "a8fb7991-598e-4745-b51f-0e23cffbfe98",
   "metadata": {
    "scrolled": true
   },
   "outputs": [
    {
     "name": "stderr",
     "output_type": "stream",
     "text": [
      "Defining links (n_roi=2; directed=False; net=False, nb_min_links=None)\n",
      "    Sorting roi names\n"
     ]
    },
    {
     "name": "stdout",
     "output_type": "stream",
     "text": [
      "Setting up band-pass filter from 6 - 14 Hz\n",
      "\n",
      "IIR filter parameters\n",
      "---------------------\n",
      "Butterworth bandpass zero-phase (two-pass forward and reverse) non-causal filter:\n",
      "- Filter order 16 (effective, after forward-backward)\n",
      "- Cutoffs at 6.00, 14.00 Hz: -6.02, -6.02 dB\n",
      "\n"
     ]
    },
    {
     "name": "stderr",
     "output_type": "stream",
     "text": [
      "Computing pairwise phase difference (n_pairs=1, n_bands=1\n"
     ]
    },
    {
     "data": {
      "application/vnd.jupyter.widget-view+json": {
       "model_id": "49317633dfb649f5ae78d47823a6945b",
       "version_major": 2,
       "version_minor": 0
      },
      "text/plain": [
       "  0%|          |  : 0/1 [00:00<?,       ?it/s]"
      ]
     },
     "metadata": {},
     "output_type": "display_data"
    }
   ],
   "source": [
    "bands = [[6, 14]]\n",
    "\n",
    "_, _, delta_phase = hilbert_decomposition(\n",
    "    data.sel(roi=roi_sel), data.fsample, times=\"time\", bands=bands, roi=\"roi\", decim=3\n",
    ")"
   ]
  },
  {
   "cell_type": "code",
   "execution_count": 41,
   "id": "e1e221a9-7392-4f8d-a4d5-bb489467b466",
   "metadata": {},
   "outputs": [],
   "source": [
    "delta_phase = delta_phase.isel(freqs=0)"
   ]
  },
  {
   "cell_type": "markdown",
   "id": "f0017000-9374-40e6-9bb2-922ce16a799c",
   "metadata": {},
   "source": [
    "###############################################################################\n",
    "##### Compute MI\n",
    "###############################################################################"
   ]
  },
  {
   "cell_type": "code",
   "execution_count": 42,
   "id": "aeba3385-c936-4235-b0a8-6cddd6ccfda4",
   "metadata": {},
   "outputs": [],
   "source": [
    "labels = np.tile(np.expand_dims(stim, 1), delta_phase.sizes[\"times\"])"
   ]
  },
  {
   "cell_type": "code",
   "execution_count": 43,
   "id": "fa12487c-0f8b-4385-ae87-23b6c5842f61",
   "metadata": {},
   "outputs": [],
   "source": [
    "stim_perm = np.random.permutation(stim)\n",
    "labels_perm = np.tile(np.expand_dims(stim_perm, 1), delta_phase.sizes[\"times\"])"
   ]
  },
  {
   "cell_type": "code",
   "execution_count": 44,
   "id": "944f09e0-8b89-45ae-ba98-1b3ee1a10ad2",
   "metadata": {},
   "outputs": [],
   "source": [
    "from functools import partial\n",
    "\n",
    "\n",
    "@partial(jax.vmap, in_axes=(0, None))\n",
    "def _loop(data, labels):\n",
    "    return mi_fcn_time(\n",
    "        data[None],\n",
    "        labels[None],\n",
    "        False,\n",
    "        True,\n",
    "    )\n",
    "\n",
    "\n",
    "_loop_surrogate = jax.vmap(_loop, in_axes=(None, 0))"
   ]
  },
  {
   "cell_type": "code",
   "execution_count": 45,
   "id": "010d9ce7-f118-4de1-80b5-7e89b2aea327",
   "metadata": {},
   "outputs": [],
   "source": [
    "MI = _loop(delta_phase.transpose(\"roi\", \"trials\", \"times\").data, labels)"
   ]
  },
  {
   "cell_type": "code",
   "execution_count": 46,
   "id": "de35d85e-19b5-43e2-9ef2-9b731539a747",
   "metadata": {},
   "outputs": [
    {
     "name": "stderr",
     "output_type": "stream",
     "text": [
      "100%|█████████████████████████████████████████| 500/500 [00:39<00:00, 12.52it/s]\n"
     ]
    }
   ],
   "source": [
    "n_boots = 500\n",
    "\n",
    "MI_surr = []\n",
    "\n",
    "for i in tqdm(range(n_boots)):\n",
    "\n",
    "    stim_perm = np.random.permutation(stim)\n",
    "    labels_perm = np.tile(np.expand_dims(stim_perm, 1), delta_phase.sizes[\"times\"])\n",
    "\n",
    "    MI_surr += [\n",
    "        _loop(delta_phase.transpose(\"roi\", \"trials\", \"times\").data, labels_perm)\n",
    "    ]"
   ]
  },
  {
   "cell_type": "code",
   "execution_count": 47,
   "id": "634dd78c-848b-4bb5-80e5-7572351178ed",
   "metadata": {},
   "outputs": [],
   "source": [
    "MI = xr.DataArray(\n",
    "    np.stack(MI), dims=(\"roi\", \"times\"), coords=(delta_phase.roi, delta_phase.times)\n",
    ")"
   ]
  },
  {
   "cell_type": "code",
   "execution_count": 48,
   "id": "762f7add-a629-44e3-bbae-3d2cc07fcf08",
   "metadata": {},
   "outputs": [],
   "source": [
    "MI_surr = xr.DataArray(\n",
    "    np.stack(MI_surr),\n",
    "    dims=(\"boot\", \"roi\", \"times\"),\n",
    "    coords=(range(n_boots), delta_phase.roi, delta_phase.times),\n",
    ")"
   ]
  },
  {
   "cell_type": "markdown",
   "id": "3eea8bd3-ccd0-478b-9fa8-0f91d34835dc",
   "metadata": {},
   "source": [
    "###############################################################################\n",
    "##### Compute statistics\n",
    "###############################################################################"
   ]
  },
  {
   "cell_type": "code",
   "execution_count": 49,
   "id": "0a4d5f08-6db7-41a6-99fa-a19348c1f1f9",
   "metadata": {},
   "outputs": [],
   "source": [
    "from frites.workflow import WfStats\n",
    "from mne.stats import fdr_correction\n",
    "from scipy.stats import ttest_ind"
   ]
  },
  {
   "cell_type": "code",
   "execution_count": 50,
   "id": "5fbb38c9-43aa-48f0-aa00-836965d9465f",
   "metadata": {},
   "outputs": [
    {
     "name": "stderr",
     "output_type": "stream",
     "text": [
      "Definition of a non-parametric statistical workflow\n"
     ]
    }
   ],
   "source": [
    "stats = WfStats()"
   ]
  },
  {
   "cell_type": "code",
   "execution_count": 51,
   "id": "6296024e-b67e-4798-b475-45c144f406c3",
   "metadata": {},
   "outputs": [],
   "source": [
    "x = [MI.sel(roi=roi_).data[None] for roi_ in MI.roi.values]\n",
    "y = [MI_surr.sel(roi=roi_).data[:, None] for roi_ in MI.roi.values]"
   ]
  },
  {
   "cell_type": "code",
   "execution_count": 52,
   "id": "2431bcd4-7d4d-4608-ba60-8fed918deb8a",
   "metadata": {},
   "outputs": [
    {
     "name": "stderr",
     "output_type": "stream",
     "text": [
      "    Fixed-effect inference (FFX)\n",
      "    Cluster forming threshold (tail=1; alpha=0.05; tfce=None)\n",
      "    Inference at cluster-level\n",
      "    Cluster detection (threshold=0.008598552085459232; tail=1)\n"
     ]
    }
   ],
   "source": [
    "pv, tv = stats.fit(x, y, inference=\"ffx\", mcp=\"cluster\", tail=1)"
   ]
  },
  {
   "cell_type": "code",
   "execution_count": 53,
   "id": "d5829480-53a5-4d00-88a2-f1f528e5c1de",
   "metadata": {},
   "outputs": [],
   "source": [
    "MI_thr = MI * (pv < 0.01).T"
   ]
  },
  {
   "cell_type": "code",
   "execution_count": 54,
   "id": "f012cd53-e524-43c9-8d45-d8035aafcdbd",
   "metadata": {},
   "outputs": [
    {
     "data": {
      "text/plain": [
       "[<matplotlib.lines.Line2D at 0x709de1a84450>]"
      ]
     },
     "execution_count": 54,
     "metadata": {},
     "output_type": "execute_result"
    },
    {
     "data": {
      "image/png": "[encoded data removed]",
      "text/plain": [
       "<Figure size 640x480 with 1 Axes>"
      ]
     },
     "metadata": {},
     "output_type": "display_data"
    }
   ],
   "source": [
    "MI[0].plot()\n",
    "MI_thr[0].plot()"
   ]
  },
  {
   "cell_type": "markdown",
   "id": "5252df1f-1952-47fd-bdb0-b4fae5e6bffd",
   "metadata": {},
   "source": [
    "###############################################################################\n",
    "##### Time-frequency\n",
    "###############################################################################"
   ]
  },
  {
   "cell_type": "code",
   "execution_count": 55,
   "id": "7eaa983e-7bd4-4dc3-bb10-90712863f4b0",
   "metadata": {},
   "outputs": [],
   "source": [
    "freqs = np.linspace(2.5, 40, 30)\n",
    "bands = np.stack((freqs - 4, freqs + 4), 1)\n",
    "bands = np.clip(bands, 0, np.inf)\n",
    "_, _, S = hilbert_decomposition(\n",
    "    data.sel(roi=roi_sel),\n",
    "    data.fsample,\n",
    "    times=\"time\",\n",
    "    bands=bands,\n",
    "    roi=\"roi\",\n",
    "    decim=3,\n",
    "    verbose=False,\n",
    ")"
   ]
  },
  {
   "cell_type": "code",
   "execution_count": 56,
   "id": "3490944d-e588-4394-83ac-acb9a6029dae",
   "metadata": {},
   "outputs": [],
   "source": [
    "mi_fcn_time_frequency = jax.vmap(mi_fcn_time, in_axes=(2, 2, None, None))"
   ]
  },
  {
   "cell_type": "code",
   "execution_count": 57,
   "id": "a5f624d8-08e2-416f-a195-1ec61318f35c",
   "metadata": {},
   "outputs": [],
   "source": [
    "labels = np.tile(np.expand_dims(stim, (1, 2)), (S.sizes[\"times\"], S.sizes[\"freqs\"]))"
   ]
  },
  {
   "cell_type": "code",
   "execution_count": 58,
   "id": "8e54cc84-c9fe-45cf-a5ba-bfdd0a2010a8",
   "metadata": {},
   "outputs": [],
   "source": [
    "from functools import partial\n",
    "\n",
    "\n",
    "@partial(jax.vmap, in_axes=(0, None))\n",
    "def _loop(data, labels):\n",
    "    return mi_fcn_time_frequency(\n",
    "        data[None],\n",
    "        labels[None],\n",
    "        False,\n",
    "        True,\n",
    "    )\n",
    "\n",
    "\n",
    "_loop_surrogate = jax.vmap(_loop, in_axes=(None, 0))"
   ]
  },
  {
   "cell_type": "code",
   "execution_count": 59,
   "id": "d81ea496-0d25-40f3-ab73-d396a9935743",
   "metadata": {},
   "outputs": [],
   "source": [
    "MI = _loop(S.transpose(\"roi\", \"trials\", \"times\", \"freqs\").data, labels)"
   ]
  },
  {
   "cell_type": "code",
   "execution_count": null,
   "id": "50eeb20a-75bc-4cbe-ae6c-e62b11451131",
   "metadata": {},
   "outputs": [
    {
     "name": "stderr",
     "output_type": "stream",
     "text": [
      "  2%|▉                                        | 24/1000 [00:21<24:46,  1.52s/it]"
     ]
    }
   ],
   "source": [
    "n_boots = 1000\n",
    "\n",
    "MI_surr = []\n",
    "\n",
    "for i in tqdm(range(n_boots)):\n",
    "\n",
    "    stim_perm = np.random.permutation(stim)\n",
    "    labels_perm = labels = np.tile(\n",
    "        np.expand_dims(stim_perm, (1, 2)), (S.sizes[\"times\"], S.sizes[\"freqs\"])\n",
    "    )\n",
    "    MI_surr += [_loop(S.transpose(\"roi\", \"trials\", \"times\", \"freqs\").data, labels_perm)]"
   ]
  },
  {
   "cell_type": "code",
   "execution_count": null,
   "id": "5a1fd7d8-8581-483e-b809-7853c4b3d1dd",
   "metadata": {},
   "outputs": [],
   "source": [
    "MI = xr.DataArray(\n",
    "    MI,\n",
    "    dims=(\"roi\", \"times\", \"freqs\"),\n",
    "    coords=(\n",
    "        [\"x\"],\n",
    "        S.times.values,\n",
    "        S.freqs.values,\n",
    "    ),\n",
    ")"
   ]
  },
  {
   "cell_type": "code",
   "execution_count": null,
   "id": "e6c7da82-103a-4623-8655-85b413a3329a",
   "metadata": {},
   "outputs": [],
   "source": [
    "MI_surr = xr.DataArray(\n",
    "    np.stack(MI_surr),\n",
    "    dims=(\"boot\", \"roi\", \"times\", \"freqs\"),\n",
    "    coords=(range(n_boots), [\"x\"], S.times, S.freqs),\n",
    ")"
   ]
  },
  {
   "cell_type": "code",
   "execution_count": null,
   "id": "e27b6f0c-aebb-4a1a-af61-4919d9ea2082",
   "metadata": {},
   "outputs": [],
   "source": [
    "stats = WfStats()"
   ]
  },
  {
   "cell_type": "code",
   "execution_count": null,
   "id": "05aac5a5-2fc3-431f-8685-be439ee15d23",
   "metadata": {},
   "outputs": [],
   "source": [
    "x = [np.asarray(MI.sel(roi=roi_).data[None]) for roi_ in MI.roi.values]\n",
    "y = [np.asarray(MI_surr.sel(roi=roi_).data[:, None]) for roi_ in MI.roi.values]"
   ]
  },
  {
   "cell_type": "code",
   "execution_count": null,
   "id": "19e85d87-1f7d-4d57-b5a3-3bde6b15e9ec",
   "metadata": {},
   "outputs": [],
   "source": [
    "pv, tv = stats.fit(x, y, inference=\"ffx\", mcp=\"cluster\", tail=1)"
   ]
  },
  {
   "cell_type": "code",
   "execution_count": null,
   "id": "3d96eb9f-f6ce-41a5-9a22-4a3000437254",
   "metadata": {
    "scrolled": true
   },
   "outputs": [],
   "source": [
    "!python -m pip install -U scikit-image\n",
    "\n",
    "from skimage import measure"
   ]
  },
  {
   "cell_type": "code",
   "execution_count": null,
   "id": "6109c338-6cf4-4f8f-b058-864fe0f5c621",
   "metadata": {},
   "outputs": [],
   "source": [
    "mask = (pv.squeeze().T <= 0.01).astype(int)\n",
    "contours = measure.find_contours(mask, level=0.5)"
   ]
  },
  {
   "cell_type": "code",
   "execution_count": null,
   "id": "6e38f4e9-bed4-4c36-a37f-f8a1f58dfc1a",
   "metadata": {},
   "outputs": [],
   "source": [
    "plt.figure(figsize=(20 / 2.54, 8 / 2.54))\n",
    "extent = [-0.65, 2, freqs[0], freqs[-1]]\n",
    "ax = plt.imshow(\n",
    "    MI[0].T,\n",
    "    aspect=\"auto\",\n",
    "    origin=\"lower\",\n",
    "    vmax=0.02,\n",
    "    cmap=\"turbo\",\n",
    ")\n",
    "\n",
    "\n",
    "cbar = plt.colorbar()\n",
    "plt.title(\"a7A-PIP (n=1000; p < 0.01; cluster-based statistics)\", fontsize=12)\n",
    "plt.ylabel(\"frequency [Hz]\", fontsize=12)\n",
    "plt.xlabel(\"time [s]\", fontsize=12)\n",
    "cbar.set_label(r\"$I(\\Delta\\theta; S)$ [bits]\")\n",
    "\n",
    "height, width = mask.shape\n",
    "x_min, x_max, y_min, y_max = extent\n",
    "x_scale = (x_max - x_min) / width\n",
    "y_scale = (y_max - y_min) / height\n",
    "\n",
    "\n",
    "# Plot contours with scaled coordinates\n",
    "for contour in contours:\n",
    "    x = contour[:, 1]\n",
    "    y = contour[:, 0]\n",
    "    plt.plot(x, y, color=\"w\", linewidth=3)\n",
    "\n",
    "\n",
    "tkx = [-0.5, 0, 0.5, 1.5]\n",
    "pos = [np.argmin(np.abs(data.time.values[::3] - tk)) for tk in tkx]\n",
    "plt.xticks(pos, tkx)\n",
    "plt.yticks(\n",
    "    [0, 5, 10, 15, 20, 25], np.round(freqs[[0, 5, 10, 15, 20, 25]], 0).astype(int)\n",
    ")\n",
    "plt.xlim(pos[0], pos[-1])\n",
    "\n",
    "\n",
    "plt.savefig(\"figures/a7A_PIP_encoding.png\", bbox_inches=\"tight\")"
   ]
  },
  {
   "cell_type": "code",
   "execution_count": null,
   "id": "4f715b9c-694d-40ba-afea-136f396bff8f",
   "metadata": {},
   "outputs": [],
   "source": []
  }
 ],
 "metadata": {
  "kernelspec": {
   "display_name": "Python 3 (ipykernel)",
   "language": "python",
   "name": "python3"
  },
  "language_info": {
   "codemirror_mode": {
    "name": "ipython",
    "version": 3
   },
   "file_extension": ".py",
   "mimetype": "text/x-python",
   "name": "python",
   "nbconvert_exporter": "python",
   "pygments_lexer": "ipython3",
   "version": "3.11.10"
  }
 },
 "nbformat": 4,
 "nbformat_minor": 5
}
