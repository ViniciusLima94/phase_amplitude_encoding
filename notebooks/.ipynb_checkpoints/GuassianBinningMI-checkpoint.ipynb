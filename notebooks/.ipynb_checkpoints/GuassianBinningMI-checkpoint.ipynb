{
 "cells": [
  {
   "cell_type": "code",
   "execution_count": 42,
   "id": "59bcd849-7729-41a1-8cd2-32e0278e962a",
   "metadata": {},
   "outputs": [],
   "source": [
    "import jax\n",
    "import jax.numpy as jnp\n",
    "import matplotlib.pyplot as plt\n",
    "import numpy as np\n",
    "import scipy\n",
    "import xarray as xr\n",
    "from frites.core import copnorm_nd\n",
    "from hoi.core import get_mi\n",
    "from jax import custom_derivatives, dtypes, lax\n",
    "from jax._src.lax.lax import _const as _lax_const\n",
    "from jax._src.numpy.util import promote_args_inexact, promote_dtypes_inexact\n",
    "from jax.typing import ArrayLike\n",
    "from mne.time_frequency.tfr import tfr_array_morlet, tfr_array_multitaper\n",
    "from tqdm import tqdm"
   ]
  },
  {
   "cell_type": "markdown",
   "id": "edeeef05-c5cc-412e-aaef-b33bf1b02196",
   "metadata": {},
   "source": [
    "#### Functions"
   ]
  },
  {
   "cell_type": "code",
   "execution_count": 117,
   "id": "208ebb52-68c1-43c3-a801-8e63ae6cc0f0",
   "metadata": {},
   "outputs": [],
   "source": [
    "def digitize_equiprobable(data, N):\n",
    "    \"\"\"\n",
    "    Coarse-grain continuous data into N equiprobable bins (quantile-based).\n",
    "    Each sample is replaced by the bin's representative (mean) value.\n",
    "\n",
    "    Parameters:\n",
    "        data (array-like): input float data (any shape)\n",
    "        N (int): number of bins\n",
    "\n",
    "    Returns:\n",
    "        np.ndarray: data replaced by bin representative values\n",
    "        np.ndarray: bin edges used\n",
    "    \"\"\"\n",
    "    data = jnp.asarray(data)\n",
    "\n",
    "    # Compute quantile-based bin edges\n",
    "    quantiles = jnp.linspace(0, 1, N + 1)\n",
    "    bin_edges = jnp.quantile(data, quantiles, axis=1).T\n",
    "    bin_idx = jax.vmap(jnp.digitize, in_axes=(0, 0, None))(data, bin_edges, True)\n",
    "\n",
    "    return bin_idx, bin_edges"
   ]
  },
  {
   "cell_type": "code",
   "execution_count": 44,
   "id": "b1ee0ee8-a0fe-4279-90b3-52857e5eaf50",
   "metadata": {},
   "outputs": [],
   "source": [
    "def xlogy(x: ArrayLike, y: ArrayLike):\n",
    "    \"\"\"Compute x*log(y), returning 0 for x=0.\n",
    "\n",
    "    JAX implementation of :obj:`scipy.special.xlogy`.\n",
    "\n",
    "    This is defined to return zero when :math:`(x, y) = (0, 0)`, with a custom\n",
    "    derivative rule so that automatic differentiation is well-defined at this point.\n",
    "\n",
    "    Args:\n",
    "      x: arraylike, real-valued.\n",
    "      y: arraylike, real-valued.\n",
    "\n",
    "    Returns:\n",
    "      array containing xlogy values.\n",
    "\n",
    "    See also:\n",
    "      :func:`jax.scipy.special.xlog1py`\n",
    "    \"\"\"\n",
    "    # Note: xlogy(0, 0) should return 0 according to the function documentation.\n",
    "    x, y = promote_args_inexact(\"xlogy\", x, y)\n",
    "    x_ok = x != 0.0\n",
    "    return jnp.where(x_ok, lax.mul(x, lax.log(y)), jnp.zeros_like(x))\n",
    "\n",
    "\n",
    "def entrBin(x: ArrayLike, deltas: ArrayLike):\n",
    "    r\"\"\"The entropy function\n",
    "\n",
    "  JAX implementation of :obj:`scipy.special.entr`.\n",
    "\n",
    "  .. math::\n",
    "\n",
    "     \\mathrm{entr}(x) = \\begin{cases}\n",
    "       -x\\log(x) & x > 0 \\\\\n",
    "       0 & x = 0\\\\\n",
    "       -\\infty & \\mathrm{otherwise}\n",
    "     \\end{cases}\n",
    "\n",
    "  Args:\n",
    "    x: arraylike, real-valued.\n",
    "\n",
    "  Returns:\n",
    "    array containing entropy values.\n",
    "\n",
    "  See also:\n",
    "    - :func:`jax.scipy.special.kl_div`\n",
    "    - :func:`jax.scipy.special.rel_entr`\n",
    "  \"\"\"\n",
    "    (x,) = promote_args_inexact(\"entr\", x)\n",
    "    if dtypes.issubdtype(x.dtype, np.complexfloating):\n",
    "        raise ValueError(\"entr does not support complex-valued inputs.\")\n",
    "    return lax.select(\n",
    "        lax.lt(x, _lax_const(x, 0)),\n",
    "        lax.full_like(x, -np.inf),\n",
    "        lax.neg(xlogy(x, x / deltas)),\n",
    "    )"
   ]
  },
  {
   "cell_type": "code",
   "execution_count": 179,
   "id": "4fb6e3bb-8573-4abe-abcc-af5a604df132",
   "metadata": {},
   "outputs": [],
   "source": [
    "def entropyBin(x, N, n_bins, deltas):\n",
    "\n",
    "    def accumDelta(carry, n):\n",
    "\n",
    "        res, delta, un = carry\n",
    "        res = res * delta[n, un[n]]\n",
    "\n",
    "        return (res, delta, un), res\n",
    "\n",
    "    # Entropy\n",
    "    uniques, counts = jnp.unique(\n",
    "        x, return_counts=True, size=n_bins, axis=1, fill_value=0\n",
    "    )\n",
    "    probs = counts / N\n",
    "\n",
    "    n_states = uniques.shape[0]\n",
    "    # res = jnp.ones(n_bins)\n",
    "    # _, res = jax.lax.scan(\n",
    "    #    accumDelta, (res, deltas, uniques.astype(int)), jnp.arange(n_states)\n",
    "    # )\n",
    "    # For each joint bin (column in uniques), multiply the deltas across dimensions\n",
    "    delta_per_state = jnp.prod(\n",
    "        deltas[jnp.arange(deltas.shape[0])[:, None], uniques], axis=0\n",
    "    )\n",
    "    return entrBin(probs, delta_per_state).sum() / jnp.log(2)\n",
    "\n",
    "\n",
    "def mutualInformationBin(x, y, nx_bins, ny_bins):\n",
    "\n",
    "    x, bin_edges_x = digitize_equiprobable(x, nx_bins)\n",
    "    y, bin_edges_y = digitize_equiprobable(y, ny_bins)\n",
    "\n",
    "    N = x.shape[1]\n",
    "\n",
    "    delta_bin_x = jnp.diff(bin_edges_x, axis=1)\n",
    "    delta_bin_y = jnp.diff(bin_edges_y, axis=1)\n",
    "\n",
    "    delta_bin_x = jnp.atleast_2d(delta_bin_x)\n",
    "    delta_bin_y = jnp.atleast_2d(delta_bin_y)\n",
    "\n",
    "    Hx = entropyBin(x, N, nx_bins, delta_bin_x)\n",
    "    Hy = entropyBin(y, N, ny_bins, delta_bin_y)\n",
    "    Hxy = entropyBin(\n",
    "        jnp.concatenate((x, y), axis=0),\n",
    "        N,\n",
    "        ny_bins * nx_bins,\n",
    "        jnp.concatenate((delta_bin_x, delta_bin_y), axis=0),\n",
    "    )\n",
    "    return Hx + Hy - Hxy\n",
    "\n",
    "\n",
    "mutualInformationBin_jax = jax.vmap(mutualInformationBin, in_axes=(2, 2, None, None))"
   ]
  },
  {
   "cell_type": "code",
   "execution_count": 99,
   "id": "b3bfcbe6-17f1-4b14-b13b-66a7ff36113e",
   "metadata": {},
   "outputs": [],
   "source": [
    "def entropy_gauss(sigma: float) -> float:\n",
    "    return (0.5 * np.log(2 * np.pi * np.e * sigma**2)) / np.log(2)"
   ]
  },
  {
   "cell_type": "code",
   "execution_count": 111,
   "id": "51dc64b5-f312-4a59-a6f8-ca26b6251d5d",
   "metadata": {},
   "outputs": [],
   "source": [
    "def entropy_gauss_mv(sigma: float, cov: float, D: int) -> float:\n",
    "    return (0.5 * np.log(1 - cov**2) + D / 2 * (1 + np.log(2 * np.pi))) / np.log(2)"
   ]
  },
  {
   "cell_type": "code",
   "execution_count": 192,
   "id": "f8a74aae-a541-4a25-806b-60720ecabb0b",
   "metadata": {},
   "outputs": [],
   "source": [
    "def mi_gaussian_rho(rho):\n",
    "    return -0.5 * np.log2(1 - rho**2)"
   ]
  },
  {
   "cell_type": "markdown",
   "id": "8717ed35-9563-47b3-9248-d4650177b46f",
   "metadata": {},
   "source": [
    "#### Entropy (univariate)"
   ]
  },
  {
   "cell_type": "code",
   "execution_count": 108,
   "id": "473dcf7e-41de-47f8-a6ba-7c1da6622490",
   "metadata": {},
   "outputs": [],
   "source": [
    "N = 5000"
   ]
  },
  {
   "cell_type": "code",
   "execution_count": 129,
   "id": "1f6a1757-417e-4ffa-a8e2-b1e1a2424313",
   "metadata": {},
   "outputs": [],
   "source": [
    "n_bins_list = np.arange(2, 50, 1)\n",
    "\n",
    "res = []\n",
    "\n",
    "for n_bins in tqdm(n_bins_list):\n",
    "\n",
    "    x = np.random.normal(0, 1, size=(1, N))\n",
    "\n",
    "    x, bin_edges_x = digitize_equiprobable(x, n_bins)\n",
    "\n",
    "    delta_bin_x = jnp.diff(bin_edges_x, axis=1)\n",
    "\n",
    "    uniques, counts = jnp.unique(\n",
    "        x, return_counts=True, size=n_bins, axis=1, fill_value=0\n",
    "    )\n",
    "    probs = counts / N\n",
    "\n",
    "    res.append(entrBin(probs, delta_bin_x.squeeze()).sum() / jnp.log(2))"
   ]
  },
  {
   "cell_type": "code",
   "execution_count": 131,
   "id": "0470362c-ed90-42ba-9af8-b8f2c5573db7",
   "metadata": {},
   "outputs": [
    {
     "data": {
      "text/plain": [
       "(2.0, 49.0)"
      ]
     },
     "execution_count": 131,
     "metadata": {},
     "output_type": "execute_result"
    },
    {
     "data": {
      "image/png": "[encoded data removed]",
      "text/plain": [
       "<Figure size 640x480 with 1 Axes>"
      ]
     },
     "metadata": {},
     "output_type": "display_data"
    }
   ],
   "source": [
    "plt.plot(n_bins_list, res, \"o-\")\n",
    "plt.hlines(entropy_gauss(1), n_bins_list.min(), n_bins_list.max(), \"k\")\n",
    "plt.ylabel(\"[bits]\")\n",
    "plt.xlabel(\"#bins\")\n",
    "plt.xlim(n_bins_list.min(), n_bins_list.max())"
   ]
  },
  {
   "cell_type": "code",
   "execution_count": 165,
   "id": "a68bc2c8-2a67-4a92-83e2-bcb9b27997c7",
   "metadata": {},
   "outputs": [
    {
     "data": {
      "text/plain": [
       "0.0"
      ]
     },
     "execution_count": 165,
     "metadata": {},
     "output_type": "execute_result"
    }
   ],
   "source": [
    "2 * 1.9 - 3.8"
   ]
  },
  {
   "cell_type": "markdown",
   "id": "25f8c4f4-c12c-4217-9156-f9daf216ccf4",
   "metadata": {},
   "source": [
    "#### Entropy (multi-univariate)"
   ]
  },
  {
   "cell_type": "code",
   "execution_count": 134,
   "id": "e7f67775-d168-4143-af37-98fd9ece027c",
   "metadata": {},
   "outputs": [
    {
     "name": "stderr",
     "output_type": "stream",
     "text": [
      "100%|███████████████████████████████████| 48/48 [00:01<00:00, 34.59it/s]\n"
     ]
    }
   ],
   "source": [
    "n_bins_list = np.arange(2, 50, 1)\n",
    "\n",
    "res = []\n",
    "\n",
    "for n_bins in tqdm(n_bins_list):\n",
    "\n",
    "    x = np.random.normal(0, 1, size=(2, N))\n",
    "\n",
    "    x, bin_edges_x = digitize_equiprobable(x, n_bins)\n",
    "\n",
    "    delta_bin_x = jnp.diff(bin_edges_x, axis=1)\n",
    "\n",
    "    uniques, counts = jnp.unique(\n",
    "        x, return_counts=True, size=n_bins * n_bins, axis=1, fill_value=0\n",
    "    )\n",
    "    probs = counts / N\n",
    "\n",
    "    deltas = delta_bin_x[0, uniques[0]] * delta_bin_x[1, uniques[1]]\n",
    "\n",
    "    res.append(entrBin(probs, deltas).sum() / jnp.log(2))"
   ]
  },
  {
   "cell_type": "code",
   "execution_count": 135,
   "id": "65db1f67-8c91-431b-873e-471b07a5e6e9",
   "metadata": {},
   "outputs": [
    {
     "data": {
      "text/plain": [
       "(2.0, 49.0)"
      ]
     },
     "execution_count": 135,
     "metadata": {},
     "output_type": "execute_result"
    },
    {
     "data": {
      "image/png": "[encoded data removed]",
      "text/plain": [
       "<Figure size 640x480 with 1 Axes>"
      ]
     },
     "metadata": {},
     "output_type": "display_data"
    }
   ],
   "source": [
    "plt.plot(n_bins_list, res, \"o-\")\n",
    "plt.hlines(entropy_gauss_mv(1, 0, 2), n_bins_list.min(), n_bins_list.max(), \"k\")\n",
    "plt.ylabel(\"[bits]\")\n",
    "plt.xlabel(\"#bins\")\n",
    "plt.xlim(n_bins_list.min(), n_bins_list.max())"
   ]
  },
  {
   "cell_type": "markdown",
   "id": "159c9e3c-6d0b-48c0-b317-9b4831c21b7e",
   "metadata": {},
   "source": [
    "#### Mutual information (single feature)"
   ]
  },
  {
   "cell_type": "code",
   "execution_count": 183,
   "id": "92e64be7-6032-4627-be35-01070a85ed95",
   "metadata": {},
   "outputs": [
    {
     "name": "stderr",
     "output_type": "stream",
     "text": [
      "100%|███████████████████████████████| 1000/1000 [00:12<00:00, 81.26it/s]\n"
     ]
    }
   ],
   "source": [
    "res = []\n",
    "for i in tqdm(range(1000)):\n",
    "    x = np.random.normal(0, 1, size=(2, 10000))\n",
    "\n",
    "    res += [mutualInformationBin(x[0][None], x[1][None], 50, 50)]"
   ]
  },
  {
   "cell_type": "code",
   "execution_count": 205,
   "id": "70b29c30-5085-418a-b92d-3093d76ab9cc",
   "metadata": {},
   "outputs": [
    {
     "name": "stderr",
     "output_type": "stream",
     "text": [
      "100%|████████████████████████████████| 100/100 [00:00<00:00, 104.43it/s]\n"
     ]
    }
   ],
   "source": [
    "cov_list = np.arange(0, 1, .01)\n",
    "\n",
    "MI = []\n",
    "MI_EX = []\n",
    "\n",
    "for cov in tqdm(cov_list):\n",
    "\n",
    "    x = np.random.multivariate_normal(\n",
    "        mean=[0, 0], cov=[[1, cov], [cov, 1]], size=(1, N)\n",
    "    )\n",
    "\n",
    "    MI += [mutualInformationBin(x[..., 0], x[..., 1], 50, 50)]\n",
    "    MI_EX += [mi_gaussian_rho(cov)]"
   ]
  },
  {
   "cell_type": "code",
   "execution_count": 208,
   "id": "0e7e7572-ed68-4e44-8e7c-8f7163fd20e5",
   "metadata": {},
   "outputs": [
    {
     "data": {
      "text/plain": [
       "Text(0.5, 1.0, 'MI between two Gaussian variables with one feature')"
      ]
     },
     "execution_count": 208,
     "metadata": {},
     "output_type": "execute_result"
    },
    {
     "data": {
      "image/png": "[encoded data removed]",
      "text/plain": [
       "<Figure size 640x480 with 1 Axes>"
      ]
     },
     "metadata": {},
     "output_type": "display_data"
    }
   ],
   "source": [
    "plt.plot(cov_list, MI, \"o-\")\n",
    "plt.plot(cov_list, MI_EX, \"k-\")\n",
    "\n",
    "plt.ylabel(\"MI [bits]\")\n",
    "plt.xlabel(\"covariance\")\n",
    "plt.title(\"MI between two Gaussian variables with one feature\")"
   ]
  },
  {
   "cell_type": "code",
   "execution_count": null,
   "id": "427ec429-f6b3-4ba1-8a44-99ec337e7512",
   "metadata": {},
   "outputs": [],
   "source": []
  }
 ],
 "metadata": {
  "kernelspec": {
   "display_name": "Python 3 (ipykernel)",
   "language": "python",
   "name": "python3"
  },
  "language_info": {
   "codemirror_mode": {
    "name": "ipython",
    "version": 3
   },
   "file_extension": ".py",
   "mimetype": "text/x-python",
   "name": "python",
   "nbconvert_exporter": "python",
   "pygments_lexer": "ipython3",
   "version": "3.10.15"
  }
 },
 "nbformat": 4,
 "nbformat_minor": 5
}
