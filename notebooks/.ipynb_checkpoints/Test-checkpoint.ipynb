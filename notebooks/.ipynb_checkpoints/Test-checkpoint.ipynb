{
 "cells": [
  {
   "cell_type": "code",
   "execution_count": 2,
   "id": "e54e1fa8-593b-44b5-b135-1c56281a4957",
   "metadata": {},
   "outputs": [],
   "source": [
    "import matplotlib.pyplot as plt\n",
    "import numpy as np\n",
    "from tqdm import tqdm"
   ]
  },
  {
   "cell_type": "code",
   "execution_count": 22,
   "id": "d5ac0665-a4a0-4acb-9378-e354b3683689",
   "metadata": {},
   "outputs": [],
   "source": [
    "def _2nodes(dt, npoints, f, a, g):\n",
    "\n",
    "    fsamp = 1 / dt\n",
    "    times = np.arange(npoints)\n",
    "\n",
    "    r_vec = dt * np.ones((2, npoints))\n",
    "    theta_vec = dt * np.ones((2, npoints))\n",
    "\n",
    "    omega = 2 * np.pi * f\n",
    "\n",
    "    for t in tqdm(range(npoints - 1)):\n",
    "        # Node 1\n",
    "        theta_vec[0, t + 1] = theta_vec[0, t] + dt * (\n",
    "            omega\n",
    "            + g * r_vec[1, t] / r_vec[0, t] * np.sin(theta_vec[1, t] - theta_vec[0, t])\n",
    "        )\n",
    "\n",
    "        r_vec[0, t + 1] = r_vec[0, t] + dt * (\n",
    "            (a - g - r_vec[0, t] ** 2) * r_vec[0, t]\n",
    "            + g * r_vec[1, t] * np.cos(theta_vec[1, t] - theta_vec[0, t])\n",
    "        )\n",
    "\n",
    "        # Node 2\n",
    "        theta_vec[1, t + 1] = theta_vec[1, t] + dt * (\n",
    "            omega\n",
    "            + g * r_vec[0, t] / r_vec[1, t] * np.sin(theta_vec[0, t] - theta_vec[1, t])\n",
    "        )\n",
    "\n",
    "        r_vec[1, t + 1] = r_vec[1, t] + dt * (\n",
    "            (a - g - r_vec[1, t] ** 2) * r_vec[1, t]\n",
    "            + g * r_vec[0, t] * np.cos(theta_vec[0, t] - theta_vec[1, t])\n",
    "        )\n",
    "\n",
    "    return theta_vec, r_vec"
   ]
  },
  {
   "cell_type": "code",
   "execution_count": 25,
   "id": "b53fa2a9-946c-475e-8d54-6db11765269c",
   "metadata": {},
   "outputs": [
    {
     "name": "stderr",
     "output_type": "stream",
     "text": [
      "100%|███████████████████████████████████| 9999/9999 [00:00<00:00, 269519.46it/s]\n"
     ]
    }
   ],
   "source": [
    "_, r = _2nodes(1e-3, 10000, 2, 2, 30)"
   ]
  },
  {
   "cell_type": "code",
   "execution_count": 26,
   "id": "380318bb-5991-4618-bdab-2a59939cbabb",
   "metadata": {},
   "outputs": [
    {
     "data": {
      "text/plain": [
       "[<matplotlib.lines.Line2D at 0x748387cff1d0>]"
      ]
     },
     "execution_count": 26,
     "metadata": {},
     "output_type": "execute_result"
    },
    {
     "data": {
      "image/png": "[encoded data removed]",
      "text/plain": [
       "<Figure size 640x480 with 1 Axes>"
      ]
     },
     "metadata": {},
     "output_type": "display_data"
    }
   ],
   "source": [
    "plt.plot(r[0])\n",
    "plt.plot(r[1])"
   ]
  },
  {
   "cell_type": "code",
   "execution_count": null,
   "id": "cbdaf7c0-4c43-4b82-837d-8ecf86e71455",
   "metadata": {},
   "outputs": [],
   "source": []
  }
 ],
 "metadata": {
  "kernelspec": {
   "display_name": "Python 3 (ipykernel)",
   "language": "python",
   "name": "python3"
  },
  "language_info": {
   "codemirror_mode": {
    "name": "ipython",
    "version": 3
   },
   "file_extension": ".py",
   "mimetype": "text/x-python",
   "name": "python",
   "nbconvert_exporter": "python",
   "pygments_lexer": "ipython3",
   "version": "3.11.10"
  }
 },
 "nbformat": 4,
 "nbformat_minor": 5
}
