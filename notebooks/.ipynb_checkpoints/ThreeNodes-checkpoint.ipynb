{
 "cells": [
  {
   "cell_type": "markdown",
   "id": "afa6613d-fd1d-4e46-9cd3-fe4c2019253c",
   "metadata": {},
   "source": [
    "### Two connected nodes"
   ]
  },
  {
   "cell_type": "code",
   "execution_count": null,
   "id": "58a9da89-adfd-4334-ac4a-8640cf6ce05d",
   "metadata": {},
   "outputs": [],
   "source": [
    "import sys\n",
    "\n",
    "sys.path.insert(1, \"/home/vinicius/Documentos/phase_amplitude_encoding/\")"
   ]
  },
  {
   "cell_type": "code",
   "execution_count": null,
   "id": "b44e82ee-01f6-415c-ab82-5be7f4776860",
   "metadata": {},
   "outputs": [],
   "source": [
    "import jax\n",
    "import matplotlib.pyplot as plt\n",
    "import numpy as np\n",
    "import xarray as xr\n",
    "from frites.core import copnorm_nd\n",
    "from hoi.core import get_mi\n",
    "from mne.time_frequency.tfr import tfr_array_morlet\n",
    "from tqdm import tqdm\n",
    "\n",
    "from src.models import simulate, simulate_delayed"
   ]
  },
  {
   "cell_type": "code",
   "execution_count": null,
   "id": "e0e3f93a-42c9-4b16-9b64-a7de2a30c644",
   "metadata": {},
   "outputs": [],
   "source": [
    "jax.config.update(\"jax_platform_name\", \"cpu\")"
   ]
  },
  {
   "cell_type": "markdown",
   "id": "27d16b80-f703-488e-880a-48b5d540a9ea",
   "metadata": {},
   "source": [
    "#### Simulation parameters"
   ]
  },
  {
   "cell_type": "code",
   "execution_count": null,
   "id": "ce513e4c-461f-4fb0-9aaa-3cee94c10107",
   "metadata": {},
   "outputs": [],
   "source": [
    "ntrials = 100\n",
    "fsamp = 1 / 1e-4\n",
    "\n",
    "time = np.arange(-2, 2, 1 / fsamp)\n",
    "beta = 1e-4\n",
    "Npoints = len(time)\n",
    "decim = 15\n",
    "\n",
    "C = np.array([[0, 0, 1], [0, 0, 1], [0, 0, 0]]).T\n",
    "\n",
    "f = 40"
   ]
  },
  {
   "cell_type": "code",
   "execution_count": null,
   "id": "5417b0b8-059d-4eb4-8317-d613027feb40",
   "metadata": {},
   "outputs": [],
   "source": [
    "Iext = np.zeros(Npoints)\n",
    "Iext[(time >= 0) & (time <= 0.4)] = 1\n",
    "Amplitudes = np.linspace(0, 10, ntrials)\n",
    "CS = Amplitudes[..., None, None] * Iext\n",
    "seeds = np.random.randint(0, 10000, ntrials)"
   ]
  },
  {
   "cell_type": "code",
   "execution_count": null,
   "id": "2b1488f2-37dd-44c6-938d-a8befa41bd6b",
   "metadata": {},
   "outputs": [],
   "source": [
    "out = []\n",
    "for trial in tqdm(range(ntrials)):\n",
    "    out += [\n",
    "        simulate(\n",
    "            C,\n",
    "            Iext[0] * trial,\n",
    "            f,\n",
    "            -5,\n",
    "            fsamp,\n",
    "            beta,\n",
    "            Npoints,\n",
    "            0,\n",
    "            seeds[trial],\n",
    "            decim=decim,\n",
    "            stim_mode=\"both\",\n",
    "        )\n",
    "    ]"
   ]
  },
  {
   "cell_type": "code",
   "execution_count": null,
   "id": "269ca372-a96a-4794-913e-c9f7cd8825bd",
   "metadata": {},
   "outputs": [],
   "source": [
    "stim = np.arange(ntrials)\n",
    "data = xr.DataArray(\n",
    "    np.stack(out),\n",
    "    dims=(\"trials\", \"roi\", \"times\"),\n",
    "    coords=(stim, [\"x\", \"y\", \"z\"], time[::decim]),\n",
    ")"
   ]
  },
  {
   "cell_type": "code",
   "execution_count": null,
   "id": "8a2138f4-8aab-4d13-8f70-22289d94d85a",
   "metadata": {},
   "outputs": [],
   "source": [
    "from spectralMI import spectralMI"
   ]
  },
  {
   "cell_type": "code",
   "execution_count": null,
   "id": "aa1d5968-7ab0-463c-8387-f3885f3a20d0",
   "metadata": {},
   "outputs": [],
   "source": [
    "freqs = np.linspace(0.3, 80, 30)\n",
    "\n",
    "MI = spectralMI(data, stim, freqs, roi=\"roi\", times=\"times\", n_cycles=freqs / 4, n_jobs=1)"
   ]
  },
  {
   "cell_type": "code",
   "execution_count": null,
   "id": "6ac99ec5-8e4a-40bf-a3f2-ddaa5b9d0cc5",
   "metadata": {},
   "outputs": [],
   "source": [
    "MI.sel(roi=\"y-z\").plot(cmap=\"turbo\")"
   ]
  },
  {
   "cell_type": "code",
   "execution_count": null,
   "id": "7bb100c1-6633-4ddf-b18d-2ae1b95df4ed",
   "metadata": {},
   "outputs": [],
   "source": [
    "data.times"
   ]
  }
 ],
 "metadata": {
  "kernelspec": {
   "display_name": "Python 3 (ipykernel)",
   "language": "python",
   "name": "python3"
  },
  "language_info": {
   "codemirror_mode": {
    "name": "ipython",
    "version": 3
   },
   "file_extension": ".py",
   "mimetype": "text/x-python",
   "name": "python",
   "nbconvert_exporter": "python",
   "pygments_lexer": "ipython3",
   "version": "3.11.10"
  }
 },
 "nbformat": 4,
 "nbformat_minor": 5
}
