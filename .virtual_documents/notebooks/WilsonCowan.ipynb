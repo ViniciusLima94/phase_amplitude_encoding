import matplotlib.pyplot as plt
import numpy as np
from tqdm import tqdm


def phi(x):
    return x / (1 - np.exp(-x))


def ode(r, tau, I, phi):
    return (-r + phi(I)) / tau


def simulate(Npoints, dt, tau, sigma, verbose=False):

    sfreq = 1 / dt
    sqrt_dt = np.sqrt(dt)
    times = np.arange(0, Npoints, dt)

    __iter = range(Npoints - 1)

    if verbose:
        __iter = tqdm(__iter)

    r = np.random.rand(2, Npoints)

    for t in __iter:

        I = J @ r[:, [t]]
        r[:, [t + 1]] = (
            r[:, [t]]
            + dt * ode(r[:, [t]], tau, I, phi)
            + np.sqrt(dt / tau) * np.random.normal(0, sigma, (2, 1))
        )

    return r


J = np.array([[1.5, -3.25], [3.5, -2.5]])
tau = np.array([6, 15]).reshape(2, 1)
sigma = 0.3


Npoints = 20
dt = 0.001


r = simulate(Npoints, sfreq, tau, 0.3, verbose=True)


plt.plot(r[0])
plt.plot(r[1])


r = np.random.rand(2, 1)


I = J @ r
r + dt * ode(r, tau, I, phi)


r[:, 2]



